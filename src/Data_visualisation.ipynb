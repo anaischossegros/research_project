{
 "cells": [
  {
   "cell_type": "code",
   "execution_count": null,
   "metadata": {},
   "outputs": [],
   "source": [
    "from Data_Loader import load_data\n",
    "from Train import trainCox_nnet\n",
    "\n",
    "import torch\n",
    "import numpy as np\n",
    "import pandas as pd\n",
    "from torch.utils.data.dataloader import DataLoader\n",
    "dtype = torch.FloatTensor"
   ]
  },
  {
   "cell_type": "markdown",
   "metadata": {},
   "source": [
    "Import the data"
   ]
  },
  {
   "cell_type": "code",
   "execution_count": null,
   "metadata": {},
   "outputs": [],
   "source": [
    "from Data_extraction_lung import data_norm_df_lung, output_df_lung\n",
    "\n",
    "data_norm_df_lung= data_norm_df_lung.reset_index(drop=True)\n",
    "output_df_lung = output_df_lung.reset_index(drop=True)"
   ]
  },
  {
   "cell_type": "code",
   "execution_count": null,
   "metadata": {},
   "outputs": [],
   "source": [
    "from Data_extraction_pancreas import data_norm_df_pancreas, output_df_pancreas\n",
    "data_norm_df_pancreas= data_norm_df_pancreas.reset_index(drop=True)\n",
    "output_df_pancreas = output_df_pancreas.reset_index(drop=True)"
   ]
  },
  {
   "cell_type": "code",
   "execution_count": null,
   "metadata": {},
   "outputs": [],
   "source": [
    "data = pd.concat([data_norm_df_lung,output_df_lung], axis=1)\n",
    "x, ytime, yevent, age = load_data(data, dtype)"
   ]
  },
  {
   "cell_type": "code",
   "execution_count": null,
   "metadata": {},
   "outputs": [],
   "source": [
    "data_pancreas = pd.concat([data_norm_df_pancreas,output_df_pancreas], axis=1)\n",
    "x_p, ytime_p, yevent_p, age_p = load_data(data_pancreas, dtype)"
   ]
  },
  {
   "cell_type": "markdown",
   "metadata": {},
   "source": [
    "Plot the vital status"
   ]
  },
  {
   "cell_type": "code",
   "execution_count": null,
   "metadata": {},
   "outputs": [],
   "source": [
    "import matplotlib.pyplot as plt \n",
    "import seaborn as sns \n",
    "plt.figure(figsize=(8,6))\n",
    "sns.countplot(x='vital_status', data=data)\n",
    "ax = plt.gca()\n",
    "plt.xticks(fontsize = 12)\n",
    "plt.yticks(fontsize=12)\n",
    "plt.xlabel('Vital status', fontfamily='times new roman', fontsize = 20)\n",
    "plt.ylabel('Counts', fontfamily='times new roman', fontsize =20)\n",
    "plt.title('Vital status distribution for lung cancer',fontfamily='times new roman', fontsize = 20)"
   ]
  },
  {
   "cell_type": "code",
   "execution_count": null,
   "metadata": {},
   "outputs": [],
   "source": [
    "import matplotlib.pyplot as plt \n",
    "import seaborn as sns \n",
    "plt.figure(figsize=(8,6))\n",
    "sns.countplot(x='vital_status', data=data_pancreas)\n",
    "ax = plt.gca()\n",
    "plt.xticks(fontsize = 12)\n",
    "plt.yticks(fontsize=12)\n",
    "plt.xlabel('Vital status', fontfamily='times new roman', fontsize = 20)\n",
    "plt.ylabel('Counts', fontfamily='times new roman', fontsize =20)\n",
    "plt.title('Vital status distribution for pancreatic cancer',fontfamily='times new roman', fontsize = 20)"
   ]
  },
  {
   "cell_type": "markdown",
   "metadata": {},
   "source": [
    "Plot the survival time distribution"
   ]
  },
  {
   "cell_type": "code",
   "execution_count": null,
   "metadata": {},
   "outputs": [],
   "source": [
    "x_df=pd.DataFrame(x, columns = np.arange(len(x[0,:])))\n",
    "data_cph = pd.concat([x_df,pd.DataFrame({'age': age[:,0], 'yevent': yevent[:,0], 'ytime': ytime[:,0]})], axis=1)\n",
    "essai = data_cph.drop(data[data_cph.yevent==0].index)\n",
    "essai2 = data_cph.drop(data_cph[data_cph.yevent==1].index)"
   ]
  },
  {
   "cell_type": "code",
   "execution_count": null,
   "metadata": {},
   "outputs": [],
   "source": [
    "import matplotlib.pyplot as plt \n",
    "import seaborn as sns \n",
    "\n",
    "plt.figure(figsize=(10,6))\n",
    "# plt.subplot(211)\n",
    "sns.distplot(essai['ytime'], kde=False, label='dead patients')\n",
    "ax = plt.gca()\n",
    "plt.xticks(fontsize = 12)\n",
    "plt.yticks(fontsize=12)\n",
    "plt.xlabel('Survival time [days]', fontfamily='times new roman', fontsize = 20)\n",
    "plt.ylabel('Counts', fontfamily='times new roman', fontsize =20)\n",
    "plt.title('Survival time distribution for lung cancer',fontfamily='times new roman', fontsize = 20)\n",
    "\n",
    "# plt.legend()\n",
    "# plt.subplot(212)\n",
    "# sns.distplot(essai2['ytime'], kde=False, label='patients alive')\n",
    "# plt.xlabel('days_to_last_follow_up')\n",
    "# plt.legend()\n"
   ]
  },
  {
   "cell_type": "code",
   "execution_count": null,
   "metadata": {},
   "outputs": [],
   "source": [
    "x_df_p=pd.DataFrame(x_p, columns = np.arange(len(x_p[0,:])))\n",
    "data_cph_p = pd.concat([x_df_p,pd.DataFrame({'age_p': age_p[:,0], 'yevent_p': yevent_p[:,0], 'ytime_p': ytime_p[:,0]})], axis=1)\n",
    "essai_p = data_cph_p.drop(data_pancreas[data_cph_p.yevent_p==0].index)\n",
    "essai2_p = data_cph_p.drop(data_cph_p[data_cph_p.yevent_p==1].index)"
   ]
  },
  {
   "cell_type": "code",
   "execution_count": null,
   "metadata": {},
   "outputs": [],
   "source": [
    "plt.figure(figsize=(10,6))\n",
    "# plt.subplot(211)\n",
    "sns.distplot(essai_p['ytime_p'], kde=False, label='dead patients')\n",
    "ax = plt.gca()\n",
    "plt.xticks(fontsize = 12)\n",
    "plt.yticks(fontsize=12)\n",
    "plt.xlabel('Survival time [days]', fontfamily='times new roman', fontsize = 20)\n",
    "plt.ylabel('Counts', fontfamily='times new roman', fontsize =20)\n",
    "plt.title('Survival time distribution for pancreatic cancer',fontfamily='times new roman', fontsize = 20)"
   ]
  },
  {
   "cell_type": "markdown",
   "metadata": {},
   "source": [
    "Plot the age distribution"
   ]
  },
  {
   "cell_type": "code",
   "execution_count": null,
   "metadata": {},
   "outputs": [],
   "source": [
    "import matplotlib.pyplot as plt \n",
    "import seaborn as sns \n",
    "\n",
    "\n",
    "\n",
    "plt.figure(figsize=(10,6))\n",
    "plt.subplot(211)\n",
    "sns.distplot(essai['age']/365, kde=False, label='dead patients')\n",
    "plt.legend()\n",
    "plt.subplot(212)\n",
    "sns.distplot(essai2['age']/365, kde=False, label='patients alive')\n",
    "plt.xlabel('age_at_diagnosis')\n",
    "plt.legend()"
   ]
  },
  {
   "cell_type": "markdown",
   "metadata": {},
   "source": [
    "PCA visualisation"
   ]
  },
  {
   "cell_type": "code",
   "execution_count": null,
   "metadata": {},
   "outputs": [],
   "source": [
    "from sklearn.decomposition import PCA\n",
    "from sklearn.preprocessing import StandardScaler\n",
    "from Data_Loader import sort_data\n",
    "\n",
    "x = StandardScaler().fit_transform(x)\n",
    "pca = PCA(100)\n",
    "pca.fit(x)\n",
    "x = pca.transform(x)"
   ]
  },
  {
   "cell_type": "code",
   "execution_count": null,
   "metadata": {},
   "outputs": [],
   "source": [
    "import matplotlib.pyplot as plt\n",
    "principalDf = pd.DataFrame(data=x[:,0:2], columns = ['principal component 1', 'principal component 2'])\n",
    "principalDf['yevent']= yevent\n",
    "# finalDf = pd.concat([principalDf, yevent2], axis=1)\n",
    "\n",
    "fig = plt.figure(figsize = (6,6))\n",
    "ax = fig.add_subplot(1,1,1)\n",
    "ax.set_xlabel('Principal Component 3', fontsize = 15)\n",
    "ax.set_ylabel('Pincipal Component 4', fontsize = 15)\n",
    "ax.set_title('2 component PCA', fontsize = 20)\n",
    "\n",
    "targets = [0,1]\n",
    "colors = ['r','g']\n",
    "for target, color in zip(targets, colors): \n",
    "    indicesToKeep = principalDf['yevent']==target\n",
    "    ax.scatter(principalDf.loc[indicesToKeep, 'principal component 1'], principalDf.loc[indicesToKeep, 'principal component 2'], c = color, s=50)\n",
    "ax.legend(targets)\n",
    "ax.grid()"
   ]
  },
  {
   "cell_type": "markdown",
   "metadata": {},
   "source": [
    "Plot the Kaplan Meier curves"
   ]
  },
  {
   "cell_type": "code",
   "execution_count": null,
   "metadata": {},
   "outputs": [],
   "source": [
    "from lifelines import KaplanMeierFitter"
   ]
  },
  {
   "cell_type": "code",
   "execution_count": null,
   "metadata": {},
   "outputs": [],
   "source": [
    "import matplotlib.pyplot as plt \n",
    "kmf = KaplanMeierFitter()\n",
    "kmf.fit(durations = ytime, event_observed = yevent)\n",
    "plt.figure(figsize=(9,6))\n",
    "kmf.plot_survival_function()\n",
    "ax = plt.gca()\n",
    "\n",
    "\n",
    "\n",
    "\n",
    "plt.xticks(fontsize = 12)\n",
    "plt.yticks(fontsize=12)\n",
    "plt.xlabel('Time [days]', fontfamily='times new roman', fontsize = 20)\n",
    "plt.ylabel('Survival probability', fontfamily='times new roman', fontsize =20)\n",
    "plt.legend(frameon=False, prop = {'family':'times new roman','size':17})\n",
    "plt.title('Kaplan Meier curve: lung cancer',fontfamily='times new roman', fontsize = 20)\n",
    "\n"
   ]
  },
  {
   "cell_type": "code",
   "execution_count": null,
   "metadata": {},
   "outputs": [],
   "source": [
    "import matplotlib.pyplot as plt \n",
    "kmf = KaplanMeierFitter()\n",
    "kmf.fit(durations = ytime_p, event_observed = yevent_p)\n",
    "plt.figure(figsize=(9,6))\n",
    "kmf.plot_survival_function()\n",
    "ax = plt.gca()\n",
    "\n",
    "\n",
    "\n",
    "\n",
    "plt.xticks(fontsize = 12)\n",
    "plt.yticks(fontsize=12)\n",
    "plt.xlabel('Time [days]', fontfamily='times new roman', fontsize = 20)\n",
    "plt.ylabel('Survival probability', fontfamily='times new roman', fontsize =20)\n",
    "plt.legend(frameon=False, prop = {'family':'times new roman','size':17})\n",
    "plt.title('Kaplan Meier curve: pancreas cancer',fontfamily='times new roman', fontsize = 20)\n",
    "\n"
   ]
  },
  {
   "cell_type": "code",
   "execution_count": null,
   "metadata": {},
   "outputs": [],
   "source": []
  }
 ],
 "metadata": {
  "kernelspec": {
   "display_name": "Python 3.9.7 ('base')",
   "language": "python",
   "name": "python3"
  },
  "language_info": {
   "codemirror_mode": {
    "name": "ipython",
    "version": 3
   },
   "file_extension": ".py",
   "mimetype": "text/x-python",
   "name": "python",
   "nbconvert_exporter": "python",
   "pygments_lexer": "ipython3",
   "version": "3.9.7"
  },
  "orig_nbformat": 4,
  "vscode": {
   "interpreter": {
    "hash": "eb288fa2e0b97d7fe5d36e6cd017a998fc9aeeeb66a354179c06f074395a5c37"
   }
  }
 },
 "nbformat": 4,
 "nbformat_minor": 2
}
