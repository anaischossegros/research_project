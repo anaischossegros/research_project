{
 "cells": [
  {
   "cell_type": "code",
   "execution_count": null,
   "metadata": {},
   "outputs": [],
   "source": [
    "from sklearn.decomposition import PCA\n",
    "from sklearn.preprocessing import StandardScaler\n",
    "from Data_Loader import sort_data\n",
    "from sklearn.model_selection import train_test_split\n",
    "from sksurv.metrics import concordance_index_censored\n",
    "from Data_Loader import load_data\n",
    "from Train import trainCox_nnet\n",
    "\n",
    "import torch\n",
    "import numpy as np\n",
    "import pandas as pd\n",
    "from torch.utils.data.dataloader import DataLoader\n",
    "dtype = torch.FloatTensor\n"
   ]
  },
  {
   "cell_type": "markdown",
   "metadata": {},
   "source": [
    "# Data preprocessing"
   ]
  },
  {
   "cell_type": "markdown",
   "metadata": {},
   "source": [
    "### Import the data"
   ]
  },
  {
   "cell_type": "code",
   "execution_count": null,
   "metadata": {},
   "outputs": [],
   "source": [
    "from Data_extraction_lung import data_norm_df_lung, output_df_lung\n",
    "\n",
    "data_norm_df_lung= data_norm_df_lung.reset_index(drop=True)\n",
    "output_df_lung = output_df_lung.reset_index(drop=True)"
   ]
  },
  {
   "cell_type": "code",
   "execution_count": null,
   "metadata": {},
   "outputs": [],
   "source": [
    "data = pd.concat([data_norm_df_lung,output_df_lung], axis=1)"
   ]
  },
  {
   "cell_type": "markdown",
   "metadata": {},
   "source": [
    "### Standardisation + PCA"
   ]
  },
  {
   "cell_type": "code",
   "execution_count": null,
   "metadata": {},
   "outputs": [],
   "source": [
    "x, ytime, yevent, age = sort_data(data)\n",
    "x = StandardScaler().fit_transform(x)\n",
    "pca = PCA(100)\n",
    "pca.fit(x)\n",
    "x = pca.transform(x)"
   ]
  },
  {
   "cell_type": "markdown",
   "metadata": {},
   "source": [
    "# Model"
   ]
  },
  {
   "cell_type": "code",
   "execution_count": null,
   "metadata": {},
   "outputs": [],
   "source": [
    "from sksurv.ensemble import RandomSurvivalForest\n",
    "\n",
    "x_df=pd.DataFrame(x, columns = np.arange(len(x[0,:])))\n",
    "data_rf = pd.concat([x_df,pd.DataFrame({'age': age[:,0], 'yevent': yevent[:,0], 'ytime': ytime[:,0]})], axis=1)\n",
    "data_rf['yevent']= [bool(k) for k in data_rf['yevent']]"
   ]
  },
  {
   "cell_type": "markdown",
   "metadata": {},
   "source": [
    "### Cross validation"
   ]
  },
  {
   "cell_type": "code",
   "execution_count": null,
   "metadata": {},
   "outputs": [],
   "source": [
    "from sklearn.model_selection import KFold\n",
    "k_folds = 5\n",
    "kfold = KFold(n_splits=k_folds, shuffle=True)\n",
    "c_index_rf = []\n",
    "for fold,(train_idx,test_idx) in enumerate(kfold.split(data_rf)):\n",
    "    random_forest = RandomSurvivalForest(n_estimators=200, min_samples_split=10, min_samples_leaf = 15)\n",
    "    data_train = data_rf.loc[train_idx].reset_index( drop = True )\n",
    "    data_test  = data_rf.loc[test_idx].reset_index( drop = True )\n",
    "\n",
    "    # Creating the X, T and E input\n",
    "    X_train, X_test = data_train.drop(['ytime','yevent'], axis=1), data_test.drop(['ytime','yevent'], axis=1)\n",
    "    y_train, y_test = data_train[['yevent','ytime']].to_numpy(), data_test[['yevent','ytime']].to_numpy()\n",
    "    #List of tuples\n",
    "    aux_train = [(e1,e2) for e1,e2 in y_train]\n",
    "    aux_test = [(e1,e2) for e1,e2 in y_test]\n",
    "\n",
    "    #Structured array\n",
    "    y_train, y_test = np.array(aux_train, dtype=[('Status', '?'), ('Survival_in_days', '<f8')]), np.array(aux_test, dtype=[('Status', '?'), ('Survival_in_days', '<f8')])\n",
    "    random_forest.fit(X_train, y_train)\n",
    "    c_index_rf.append(random_forest.score(X_test,y_test))"
   ]
  },
  {
   "cell_type": "code",
   "execution_count": null,
   "metadata": {},
   "outputs": [],
   "source": [
    "print(np.mean(c_index_rf))\n",
    "print(np.std(c_index_rf))\n",
    "print(c_index_rf)"
   ]
  },
  {
   "cell_type": "markdown",
   "metadata": {},
   "source": [
    "# Visualisation"
   ]
  },
  {
   "cell_type": "markdown",
   "metadata": {},
   "source": [
    "### Survival function for 4 different ages"
   ]
  },
  {
   "cell_type": "code",
   "execution_count": null,
   "metadata": {},
   "outputs": [],
   "source": [
    "X_test_sorted = X_test.sort_values(by=[\"age\"])\n",
    "X_test_sel = pd.concat((X_test_sorted.head(3), X_test_sorted.tail(3)))\n",
    "surv = random_forest.predict_survival_function(X_test_sel, return_array=True)\n",
    "\n"
   ]
  },
  {
   "cell_type": "code",
   "execution_count": null,
   "metadata": {},
   "outputs": [],
   "source": [
    "import matplotlib.pyplot as plt\n",
    "liste_age = [41,42,45,83,84,85]\n",
    "for i, s in enumerate(surv):\n",
    "    plt.step(random_forest.event_times_, s, where=\"post\", label=liste_age[i])\n",
    "plt.ylabel(\"Survival probability\")\n",
    "plt.xlabel(\"Time in days\")\n",
    "plt.legend()\n",
    "plt.grid(True)"
   ]
  },
  {
   "cell_type": "code",
   "execution_count": null,
   "metadata": {},
   "outputs": [],
   "source": []
  },
  {
   "cell_type": "code",
   "execution_count": null,
   "metadata": {},
   "outputs": [],
   "source": []
  }
 ],
 "metadata": {
  "kernelspec": {
   "display_name": "Python 3.9.7 ('base')",
   "language": "python",
   "name": "python3"
  },
  "language_info": {
   "codemirror_mode": {
    "name": "ipython",
    "version": 3
   },
   "file_extension": ".py",
   "mimetype": "text/x-python",
   "name": "python",
   "nbconvert_exporter": "python",
   "pygments_lexer": "ipython3",
   "version": "3.9.7"
  },
  "orig_nbformat": 4,
  "vscode": {
   "interpreter": {
    "hash": "eb288fa2e0b97d7fe5d36e6cd017a998fc9aeeeb66a354179c06f074395a5c37"
   }
  }
 },
 "nbformat": 4,
 "nbformat_minor": 2
}
