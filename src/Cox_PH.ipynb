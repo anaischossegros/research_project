{
 "cells": [
  {
   "cell_type": "code",
   "execution_count": null,
   "metadata": {},
   "outputs": [],
   "source": [
    "from sklearn.decomposition import PCA\n",
    "from sklearn.preprocessing import StandardScaler\n",
    "from Data_Loader import sort_data\n",
    "from sklearn.model_selection import train_test_split\n",
    "from sksurv.metrics import concordance_index_censored\n",
    "from Data_Loader import load_data\n",
    "from Train import trainCox_nnet\n",
    "\n",
    "import torch\n",
    "import numpy as np\n",
    "import pandas as pd\n",
    "from torch.utils.data.dataloader import DataLoader\n",
    "dtype = torch.FloatTensor\n"
   ]
  },
  {
   "cell_type": "markdown",
   "metadata": {},
   "source": [
    "# Data preprocessing"
   ]
  },
  {
   "cell_type": "markdown",
   "metadata": {},
   "source": [
    "### Import the data"
   ]
  },
  {
   "cell_type": "code",
   "execution_count": null,
   "metadata": {},
   "outputs": [],
   "source": [
    "from Data_extraction_lung import data_norm_df_lung, output_df_lung\n",
    "\n",
    "data_norm_df_lung= data_norm_df_lung.reset_index(drop=True)\n",
    "output_df_lung = output_df_lung.reset_index(drop=True)"
   ]
  },
  {
   "cell_type": "code",
   "execution_count": null,
   "metadata": {},
   "outputs": [],
   "source": [
    "data = pd.concat([data_norm_df_lung,output_df_lung], axis=1)"
   ]
  },
  {
   "cell_type": "markdown",
   "metadata": {},
   "source": [
    "### Standardisation + PCA"
   ]
  },
  {
   "cell_type": "code",
   "execution_count": null,
   "metadata": {},
   "outputs": [],
   "source": [
    "from sklearn.preprocessing import StandardScaler\n",
    "x, ytime, yevent, age = sort_data(data)\n",
    "x = StandardScaler().fit_transform(x)\n",
    "pca = PCA(100)\n",
    "pca.fit(x)\n",
    "x = pca.transform(x)"
   ]
  },
  {
   "cell_type": "markdown",
   "metadata": {},
   "source": [
    "# Model "
   ]
  },
  {
   "cell_type": "code",
   "execution_count": null,
   "metadata": {},
   "outputs": [],
   "source": [
    "from lifelines import CoxPHFitter\n",
    "\n",
    "cph = CoxPHFitter(penalizer=0.001, l1_ratio = 0.5)\n",
    "x_df=pd.DataFrame(x, columns = np.arange(len(x[0,:])))\n",
    "data_cph = pd.concat([x_df,pd.DataFrame({'age': age[:,0]/365, 'yevent': yevent[:,0], 'ytime': ytime[:,0]})], axis=1)\n",
    "cph.fit(data_cph, duration_col = 'ytime', event_col = 'yevent')"
   ]
  },
  {
   "cell_type": "markdown",
   "metadata": {},
   "source": [
    "### Cross validation"
   ]
  },
  {
   "cell_type": "code",
   "execution_count": null,
   "metadata": {},
   "outputs": [],
   "source": [
    "from sklearn.model_selection import KFold\n",
    "k_folds = 5\n",
    "kfold = KFold(n_splits=k_folds, shuffle=True)\n",
    "c_index_cph = []\n",
    "cph_AIC = []\n",
    "for fold,(train_idx,test_idx) in enumerate(kfold.split(data_cph)):\n",
    "    cph = CoxPHFitter(penalizer=0.1, l1_ratio=0.1)\n",
    "    data_train = data_cph.loc[train_idx].reset_index( drop = True )\n",
    "    data_test  = data_cph.loc[test_idx].reset_index( drop = True )\n",
    "\n",
    "    # Creating the X, T and E input\n",
    "    X_train, X_test = data_train.drop(['ytime','yevent'], axis=1).values, data_test.drop(['ytime','yevent'], axis=1).values\n",
    "    T_train, T_test = data_train['ytime'].values, data_test['ytime'].values\n",
    "    E_train, E_test = data_train['yevent'].values, data_test['yevent'].values\n",
    "    cph.fit(data_train, duration_col = 'ytime', event_col = 'yevent')\n",
    "    Estimate = cph.predict_partial_hazard(X_test)\n",
    "    E_test2= [bool(k) for k in E_test]\n",
    "    c_index_cph.append(concordance_index_censored(E_test2, T_test,Estimate))"
   ]
  },
  {
   "cell_type": "code",
   "execution_count": null,
   "metadata": {},
   "outputs": [],
   "source": [
    "print([c_index_cph[k][0] for k in range (5)])\n",
    "print(np.sum(c_index_cph[k][0] for k in range (5))/5)\n",
    "print(np.std(np.array([c_index_cph[k][0] for k in range (5)])))"
   ]
  },
  {
   "cell_type": "markdown",
   "metadata": {},
   "source": [
    "### Summary of the results"
   ]
  },
  {
   "cell_type": "code",
   "execution_count": null,
   "metadata": {},
   "outputs": [],
   "source": [
    "summary = cph.print_summary()\n"
   ]
  },
  {
   "cell_type": "code",
   "execution_count": null,
   "metadata": {},
   "outputs": [],
   "source": [
    "cph.check_assumptions(data_cph, p_value_threshold = 0.05)"
   ]
  },
  {
   "cell_type": "markdown",
   "metadata": {},
   "source": [
    "# Visualisation"
   ]
  },
  {
   "cell_type": "markdown",
   "metadata": {},
   "source": [
    "### Survival function for 4 different ages"
   ]
  },
  {
   "cell_type": "code",
   "execution_count": null,
   "metadata": {},
   "outputs": [],
   "source": [
    "import matplotlib.pyplot as plt\n",
    "plt.figure(figsize=(5,10))\n",
    "cph.plot_partial_effects_on_outcome(covariates = 'age', values = [41, 45, 70, 84], cmap = 'coolwarm')\n",
    "plt.xlim((0,5000))\n",
    "plt.ylabel(\"Survival probability\")\n",
    "plt.xlabel(\"Time in days\")\n",
    "plt.legend()\n",
    "plt.grid(True)"
   ]
  }
 ],
 "metadata": {
  "kernelspec": {
   "display_name": "Python 3.9.7 ('base')",
   "language": "python",
   "name": "python3"
  },
  "language_info": {
   "codemirror_mode": {
    "name": "ipython",
    "version": 3
   },
   "file_extension": ".py",
   "mimetype": "text/x-python",
   "name": "python",
   "nbconvert_exporter": "python",
   "pygments_lexer": "ipython3",
   "version": "3.9.7"
  },
  "orig_nbformat": 4,
  "vscode": {
   "interpreter": {
    "hash": "eb288fa2e0b97d7fe5d36e6cd017a998fc9aeeeb66a354179c06f074395a5c37"
   }
  }
 },
 "nbformat": 4,
 "nbformat_minor": 2
}
