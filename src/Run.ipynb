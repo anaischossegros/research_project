{
 "cells": [
  {
   "cell_type": "code",
   "execution_count": 1,
   "metadata": {},
   "outputs": [],
   "source": [
    "from Data_Loader import load_data\n",
    "from Train2 import trainCox_nnet\n",
    "\n",
    "import torch\n",
    "import numpy as np\n",
    "import pandas as pd\n",
    "from torch.utils.data.dataloader import DataLoader"
   ]
  },
  {
   "cell_type": "code",
   "execution_count": 2,
   "metadata": {},
   "outputs": [],
   "source": [
    "dtype = torch.FloatTensor\n",
    "''' Net Settings'''\n",
    "In_Nodes = 58100 ###number of genes\n",
    "Hidden_Nodes = 143 ###number of hidden nodes\n",
    "Out_Nodes = 30 ###number of hidden nodes in the last hidden layer\n",
    "''' Initialize '''\n",
    "Initial_Learning_Rate = [0.03, 0.01, 0.001, 0.00075]\n",
    "L2_Lambda = [0.1, 0.01, 0.005, 0.001]\n",
    "num_epochs = 3 ###for grid search\n",
    "Num_EPOCHS = 8 ###for training\n",
    "###sub-network setup\n",
    "Dropout_Rate = [0.7, 0.5]"
   ]
  },
  {
   "cell_type": "code",
   "execution_count": 3,
   "metadata": {},
   "outputs": [],
   "source": [
    "from Data_extraction import output_df2, x_df2"
   ]
  },
  {
   "cell_type": "code",
   "execution_count": 4,
   "metadata": {},
   "outputs": [
    {
     "name": "stdout",
     "output_type": "stream",
     "text": [
      "(974, 58100)\n",
      "(974, 5)\n"
     ]
    },
    {
     "data": {
      "text/html": [
       "<div>\n",
       "<style scoped>\n",
       "    .dataframe tbody tr th:only-of-type {\n",
       "        vertical-align: middle;\n",
       "    }\n",
       "\n",
       "    .dataframe tbody tr th {\n",
       "        vertical-align: top;\n",
       "    }\n",
       "\n",
       "    .dataframe thead th {\n",
       "        text-align: right;\n",
       "    }\n",
       "</style>\n",
       "<table border=\"1\" class=\"dataframe\">\n",
       "  <thead>\n",
       "    <tr style=\"text-align: right;\">\n",
       "      <th></th>\n",
       "      <th>0</th>\n",
       "      <th>1</th>\n",
       "      <th>2</th>\n",
       "      <th>3</th>\n",
       "      <th>4</th>\n",
       "      <th>5</th>\n",
       "      <th>6</th>\n",
       "      <th>7</th>\n",
       "      <th>8</th>\n",
       "      <th>9</th>\n",
       "      <th>...</th>\n",
       "      <th>60647</th>\n",
       "      <th>60648</th>\n",
       "      <th>60649</th>\n",
       "      <th>60651</th>\n",
       "      <th>60652</th>\n",
       "      <th>60654</th>\n",
       "      <th>60655</th>\n",
       "      <th>60656</th>\n",
       "      <th>60658</th>\n",
       "      <th>60659</th>\n",
       "    </tr>\n",
       "    <tr>\n",
       "      <th>filename</th>\n",
       "      <th></th>\n",
       "      <th></th>\n",
       "      <th></th>\n",
       "      <th></th>\n",
       "      <th></th>\n",
       "      <th></th>\n",
       "      <th></th>\n",
       "      <th></th>\n",
       "      <th></th>\n",
       "      <th></th>\n",
       "      <th></th>\n",
       "      <th></th>\n",
       "      <th></th>\n",
       "      <th></th>\n",
       "      <th></th>\n",
       "      <th></th>\n",
       "      <th></th>\n",
       "      <th></th>\n",
       "      <th></th>\n",
       "      <th></th>\n",
       "      <th></th>\n",
       "    </tr>\n",
       "  </thead>\n",
       "  <tbody>\n",
       "    <tr>\n",
       "      <th>00fabec9-d311-4994-a7e5-eb91178d14f2.rna_seq.augmented_star_gene_counts.tsv</th>\n",
       "      <td>6.5517</td>\n",
       "      <td>0.0000</td>\n",
       "      <td>40.7970</td>\n",
       "      <td>3.5529</td>\n",
       "      <td>2.3067</td>\n",
       "      <td>11.0530</td>\n",
       "      <td>5.9508</td>\n",
       "      <td>15.5682</td>\n",
       "      <td>30.8037</td>\n",
       "      <td>12.8685</td>\n",
       "      <td>...</td>\n",
       "      <td>0.2470</td>\n",
       "      <td>0.0</td>\n",
       "      <td>0.0000</td>\n",
       "      <td>0.3702</td>\n",
       "      <td>0.1793</td>\n",
       "      <td>0.0000</td>\n",
       "      <td>0.0</td>\n",
       "      <td>4.4250</td>\n",
       "      <td>0.0300</td>\n",
       "      <td>0.1190</td>\n",
       "    </tr>\n",
       "    <tr>\n",
       "      <th>011ccd6c-529a-4529-825d-ba024c13098d.rna_seq.augmented_star_gene_counts.tsv</th>\n",
       "      <td>51.5106</td>\n",
       "      <td>0.0000</td>\n",
       "      <td>42.6303</td>\n",
       "      <td>3.1611</td>\n",
       "      <td>1.2875</td>\n",
       "      <td>3.1909</td>\n",
       "      <td>14.7590</td>\n",
       "      <td>18.0684</td>\n",
       "      <td>9.5269</td>\n",
       "      <td>12.2742</td>\n",
       "      <td>...</td>\n",
       "      <td>0.0065</td>\n",
       "      <td>0.0</td>\n",
       "      <td>0.0000</td>\n",
       "      <td>0.0000</td>\n",
       "      <td>0.1703</td>\n",
       "      <td>0.0000</td>\n",
       "      <td>0.0</td>\n",
       "      <td>3.4802</td>\n",
       "      <td>0.0040</td>\n",
       "      <td>0.4275</td>\n",
       "    </tr>\n",
       "    <tr>\n",
       "      <th>0139ef5f-7adc-4e84-90c1-42ebf59aaf98.rna_seq.augmented_star_gene_counts.tsv</th>\n",
       "      <td>11.1571</td>\n",
       "      <td>0.0139</td>\n",
       "      <td>32.1374</td>\n",
       "      <td>3.8234</td>\n",
       "      <td>3.7916</td>\n",
       "      <td>5.7136</td>\n",
       "      <td>12.3892</td>\n",
       "      <td>9.7892</td>\n",
       "      <td>5.2389</td>\n",
       "      <td>9.6687</td>\n",
       "      <td>...</td>\n",
       "      <td>0.2619</td>\n",
       "      <td>0.0</td>\n",
       "      <td>0.0281</td>\n",
       "      <td>0.0000</td>\n",
       "      <td>0.1973</td>\n",
       "      <td>0.0000</td>\n",
       "      <td>0.0</td>\n",
       "      <td>5.5562</td>\n",
       "      <td>0.0170</td>\n",
       "      <td>0.4017</td>\n",
       "    </tr>\n",
       "    <tr>\n",
       "      <th>01c2d483-14b3-4a2e-b31c-c9b18cf68059.rna_seq.augmented_star_gene_counts.tsv</th>\n",
       "      <td>8.7361</td>\n",
       "      <td>0.0000</td>\n",
       "      <td>30.2099</td>\n",
       "      <td>3.1386</td>\n",
       "      <td>2.5484</td>\n",
       "      <td>0.5231</td>\n",
       "      <td>2.5403</td>\n",
       "      <td>11.1363</td>\n",
       "      <td>24.7778</td>\n",
       "      <td>10.7585</td>\n",
       "      <td>...</td>\n",
       "      <td>1.1504</td>\n",
       "      <td>0.0</td>\n",
       "      <td>0.0000</td>\n",
       "      <td>0.0000</td>\n",
       "      <td>0.1607</td>\n",
       "      <td>0.3412</td>\n",
       "      <td>0.0</td>\n",
       "      <td>6.6687</td>\n",
       "      <td>0.0065</td>\n",
       "      <td>0.1115</td>\n",
       "    </tr>\n",
       "    <tr>\n",
       "      <th>01d30473-7c6c-43ea-adf9-777c37917f88.rna_seq.augmented_star_gene_counts.tsv</th>\n",
       "      <td>6.0117</td>\n",
       "      <td>0.0000</td>\n",
       "      <td>36.0286</td>\n",
       "      <td>1.6381</td>\n",
       "      <td>1.9594</td>\n",
       "      <td>4.2518</td>\n",
       "      <td>6.5823</td>\n",
       "      <td>12.2504</td>\n",
       "      <td>11.6078</td>\n",
       "      <td>9.9054</td>\n",
       "      <td>...</td>\n",
       "      <td>0.1256</td>\n",
       "      <td>0.0</td>\n",
       "      <td>0.0000</td>\n",
       "      <td>0.0000</td>\n",
       "      <td>0.1351</td>\n",
       "      <td>0.0000</td>\n",
       "      <td>0.0</td>\n",
       "      <td>3.4635</td>\n",
       "      <td>0.0077</td>\n",
       "      <td>0.3844</td>\n",
       "    </tr>\n",
       "  </tbody>\n",
       "</table>\n",
       "<p>5 rows × 58100 columns</p>\n",
       "</div>"
      ],
      "text/plain": [
       "                                                      0       1        2      \\\n",
       "filename                                                                       \n",
       "00fabec9-d311-4994-a7e5-eb91178d14f2.rna_seq.au...   6.5517  0.0000  40.7970   \n",
       "011ccd6c-529a-4529-825d-ba024c13098d.rna_seq.au...  51.5106  0.0000  42.6303   \n",
       "0139ef5f-7adc-4e84-90c1-42ebf59aaf98.rna_seq.au...  11.1571  0.0139  32.1374   \n",
       "01c2d483-14b3-4a2e-b31c-c9b18cf68059.rna_seq.au...   8.7361  0.0000  30.2099   \n",
       "01d30473-7c6c-43ea-adf9-777c37917f88.rna_seq.au...   6.0117  0.0000  36.0286   \n",
       "\n",
       "                                                     3       4        5      \\\n",
       "filename                                                                      \n",
       "00fabec9-d311-4994-a7e5-eb91178d14f2.rna_seq.au...  3.5529  2.3067  11.0530   \n",
       "011ccd6c-529a-4529-825d-ba024c13098d.rna_seq.au...  3.1611  1.2875   3.1909   \n",
       "0139ef5f-7adc-4e84-90c1-42ebf59aaf98.rna_seq.au...  3.8234  3.7916   5.7136   \n",
       "01c2d483-14b3-4a2e-b31c-c9b18cf68059.rna_seq.au...  3.1386  2.5484   0.5231   \n",
       "01d30473-7c6c-43ea-adf9-777c37917f88.rna_seq.au...  1.6381  1.9594   4.2518   \n",
       "\n",
       "                                                      6        7        8      \\\n",
       "filename                                                                        \n",
       "00fabec9-d311-4994-a7e5-eb91178d14f2.rna_seq.au...   5.9508  15.5682  30.8037   \n",
       "011ccd6c-529a-4529-825d-ba024c13098d.rna_seq.au...  14.7590  18.0684   9.5269   \n",
       "0139ef5f-7adc-4e84-90c1-42ebf59aaf98.rna_seq.au...  12.3892   9.7892   5.2389   \n",
       "01c2d483-14b3-4a2e-b31c-c9b18cf68059.rna_seq.au...   2.5403  11.1363  24.7778   \n",
       "01d30473-7c6c-43ea-adf9-777c37917f88.rna_seq.au...   6.5823  12.2504  11.6078   \n",
       "\n",
       "                                                      9      ...   60647  \\\n",
       "filename                                                     ...           \n",
       "00fabec9-d311-4994-a7e5-eb91178d14f2.rna_seq.au...  12.8685  ...  0.2470   \n",
       "011ccd6c-529a-4529-825d-ba024c13098d.rna_seq.au...  12.2742  ...  0.0065   \n",
       "0139ef5f-7adc-4e84-90c1-42ebf59aaf98.rna_seq.au...   9.6687  ...  0.2619   \n",
       "01c2d483-14b3-4a2e-b31c-c9b18cf68059.rna_seq.au...  10.7585  ...  1.1504   \n",
       "01d30473-7c6c-43ea-adf9-777c37917f88.rna_seq.au...   9.9054  ...  0.1256   \n",
       "\n",
       "                                                    60648   60649   60651  \\\n",
       "filename                                                                    \n",
       "00fabec9-d311-4994-a7e5-eb91178d14f2.rna_seq.au...    0.0  0.0000  0.3702   \n",
       "011ccd6c-529a-4529-825d-ba024c13098d.rna_seq.au...    0.0  0.0000  0.0000   \n",
       "0139ef5f-7adc-4e84-90c1-42ebf59aaf98.rna_seq.au...    0.0  0.0281  0.0000   \n",
       "01c2d483-14b3-4a2e-b31c-c9b18cf68059.rna_seq.au...    0.0  0.0000  0.0000   \n",
       "01d30473-7c6c-43ea-adf9-777c37917f88.rna_seq.au...    0.0  0.0000  0.0000   \n",
       "\n",
       "                                                     60652   60654  60655  \\\n",
       "filename                                                                    \n",
       "00fabec9-d311-4994-a7e5-eb91178d14f2.rna_seq.au...  0.1793  0.0000    0.0   \n",
       "011ccd6c-529a-4529-825d-ba024c13098d.rna_seq.au...  0.1703  0.0000    0.0   \n",
       "0139ef5f-7adc-4e84-90c1-42ebf59aaf98.rna_seq.au...  0.1973  0.0000    0.0   \n",
       "01c2d483-14b3-4a2e-b31c-c9b18cf68059.rna_seq.au...  0.1607  0.3412    0.0   \n",
       "01d30473-7c6c-43ea-adf9-777c37917f88.rna_seq.au...  0.1351  0.0000    0.0   \n",
       "\n",
       "                                                     60656   60658   60659  \n",
       "filename                                                                    \n",
       "00fabec9-d311-4994-a7e5-eb91178d14f2.rna_seq.au...  4.4250  0.0300  0.1190  \n",
       "011ccd6c-529a-4529-825d-ba024c13098d.rna_seq.au...  3.4802  0.0040  0.4275  \n",
       "0139ef5f-7adc-4e84-90c1-42ebf59aaf98.rna_seq.au...  5.5562  0.0170  0.4017  \n",
       "01c2d483-14b3-4a2e-b31c-c9b18cf68059.rna_seq.au...  6.6687  0.0065  0.1115  \n",
       "01d30473-7c6c-43ea-adf9-777c37917f88.rna_seq.au...  3.4635  0.0077  0.3844  \n",
       "\n",
       "[5 rows x 58100 columns]"
      ]
     },
     "execution_count": 4,
     "metadata": {},
     "output_type": "execute_result"
    }
   ],
   "source": [
    "print(np.shape(x_df2))\n",
    "print(np.shape(output_df2))\n",
    "# x_df2 = x_df2.reset_index(drop=True)\n",
    "# output_df2 = output_df2.reset_index(drop=True)\n",
    "x_df2.head()"
   ]
  },
  {
   "cell_type": "code",
   "execution_count": 5,
   "metadata": {},
   "outputs": [],
   "source": [
    "# data = pd.concat([x_df2,output_df2],axis=1)\n",
    "# # define a cross validation function\n",
    "# def crossvalid(model=None,criterion=None,optimizer=None,dataset=None,k_fold=5):\n",
    "    \n",
    "#     train_score = pd.Series()\n",
    "#     val_score = pd.Series()\n",
    "    \n",
    "#     total_size = len(dataset)\n",
    "#     fraction = 1/k_fold\n",
    "#     seg = int(total_size * fraction)\n",
    "#     # tr:train,val:valid; r:right,l:left;  eg: trrr: right index of right side train subset \n",
    "#     # index: [trll,trlr],[vall,valr],[trrl,trrr]\n",
    "#     for i in range(k_fold):\n",
    "#         trll = 0\n",
    "#         trlr = i * seg\n",
    "#         vall = trlr\n",
    "#         valr = i * seg + seg\n",
    "#         trrl = valr\n",
    "#         trrr = total_size\n",
    "#         # msg\n",
    "# #         print(\"train indices: [%d,%d),[%d,%d), test indices: [%d,%d)\" \n",
    "# #               % (trll,trlr,trrl,trrr,vall,valr))\n",
    "        \n",
    "#         train_left_indices = list(range(trll,trlr))\n",
    "#         train_right_indices = list(range(trrl,trrr))\n",
    "        \n",
    "#         train_indices = train_left_indices + train_right_indices\n",
    "#         val_indices = list(range(vall,valr))\n",
    "        \n",
    "#         train_set = torch.utils.data.dataset.Subset(dataset,train_indices)\n",
    "#         val_set = torch.utils.data.dataset.Subset(dataset,val_indices)\n",
    "        \n",
    "# #         print(len(train_set),len(val_set))\n",
    "# #         print()\n",
    "        \n",
    "#         train_loader = torch.utils.data.DataLoader(train_set, batch_size=50,\n",
    "#                                           shuffle=True, num_workers=4)\n",
    "#         val_loader = torch.utils.data.DataLoader(val_set, batch_size=50,\n",
    "#                                           shuffle=True, num_workers=4)\n",
    "#         train_acc = train(res_model,criterion,optimizer,train_loader,epoch=1)\n",
    "#         train_score.at[i] = train_acc\n",
    "#         val_acc = valid(res_model,criterion,optimizer,val_loader)\n",
    "#         val_score.at[i] = val_acc\n",
    "    \n",
    "#     return train_score,val_score\n",
    "        \n",
    "\n",
    "# train_score,val_score = crossvalid(res_model,criterion,optimizer,dataset=tiny_dataset)"
   ]
  },
  {
   "cell_type": "code",
   "execution_count": 5,
   "metadata": {},
   "outputs": [],
   "source": [
    "\n",
    "data = pd.concat([x_df2,output_df2], axis=1)\n",
    "\n",
    "def split_indices(n, val_pct1, val_pct2):\n",
    "\tn1 = int(val_pct1*n)\n",
    "\tn2 = int(val_pct2*n)\n",
    "\tidxs = np.random.permutation(n)\n",
    "\ttrain, val, test = idxs[:n1], idxs[n1:n2], idxs[n2:]\n",
    "\ttrain.sort(), val.sort(), test.sort()\n",
    "\treturn(train, val, test)\n",
    "\n",
    "# train_index, val_index, test_index = split_indices(len(data),0.6, 0.8)\n",
    "# print(train_index)\n",
    "\n",
    "# print(val_index)\n",
    "# print(test_index)\n",
    "x, ytime, yevent, age = load_data(data, dtype)\n",
    "\n",
    "# data_train = data.iloc[train_index]\n",
    "# data_val = data.iloc[val_index]\n",
    "# data_test = data.iloc[test_index]\n",
    "# x_train, ytime_train, yevent_train, age_train = load_data(data_train, dtype)\n",
    "# x_valid, ytime_valid, yevent_valid, age_valid = load_data(data_val, dtype)\n",
    "# x_test, ytime_test, yevent_test, age_test = load_data(data_test,dtype)"
   ]
  },
  {
   "cell_type": "code",
   "execution_count": 6,
   "metadata": {},
   "outputs": [],
   "source": [
    "\n",
    "# print(data.head)\n",
    "# import matplotlib.pyplot as plt\n",
    "# plt.plot(x[500])\n"
   ]
  },
  {
   "cell_type": "code",
   "execution_count": 6,
   "metadata": {},
   "outputs": [],
   "source": [
    "from Data_Loader import CustomDataset\n",
    "batch_size=32\n",
    "data2 = CustomDataset(x, ytime, yevent, age)\n",
    "# train_loader = DataLoader(data2, batch_size, sampler=train_index)\n",
    "# val_loader = DataLoader(data2, batch_size, sampler=val_index)"
   ]
  },
  {
   "cell_type": "code",
   "execution_count": 22,
   "metadata": {},
   "outputs": [
    {
     "name": "stdout",
     "output_type": "stream",
     "text": [
      "(tensor([[2.7949e+03, 0.0000e+00, 1.8186e+03,  ..., 1.5487e+02, 0.0000e+00,\n",
      "         2.2642e+01],\n",
      "        [5.1353e+03, 0.0000e+00, 4.0601e+03,  ..., 3.4792e+02, 2.4792e+00,\n",
      "         9.0905e+00],\n",
      "        [7.9838e+03, 1.9300e+02, 2.1274e+03,  ..., 2.5073e+02, 3.4465e+00,\n",
      "         1.0339e+01],\n",
      "        ...,\n",
      "        [4.2617e+03, 3.8778e+00, 3.4071e+03,  ..., 1.8148e+02, 1.5511e+00,\n",
      "         8.5312e+00],\n",
      "        [1.2357e+03, 1.2507e+00, 1.3045e+03,  ..., 1.7761e+02, 5.0030e+00,\n",
      "         2.2513e+01],\n",
      "        [4.2319e+03, 1.1604e+00, 1.3031e+03,  ..., 1.2532e+02, 3.4811e+00,\n",
      "         2.4368e+01]]), tensor([[4570.],\n",
      "        [4261.],\n",
      "        [4068.],\n",
      "        [4053.],\n",
      "        [4026.],\n",
      "        [3940.],\n",
      "        [3924.],\n",
      "        [3850.],\n",
      "        [3838.],\n",
      "        [3759.]]), tensor([[0.],\n",
      "        [0.],\n",
      "        [0.],\n",
      "        [0.],\n",
      "        [0.],\n",
      "        [0.],\n",
      "        [1.],\n",
      "        [0.],\n",
      "        [1.],\n",
      "        [0.]]), tensor([[23171.],\n",
      "        [20632.],\n",
      "        [28001.],\n",
      "        [25788.],\n",
      "        [27555.],\n",
      "        [26285.],\n",
      "        [25169.],\n",
      "        [16306.],\n",
      "        [23436.],\n",
      "        [14527.]]))\n"
     ]
    }
   ],
   "source": [
    "print(data2[10:20])"
   ]
  },
  {
   "cell_type": "code",
   "execution_count": 7,
   "metadata": {},
   "outputs": [],
   "source": [
    "opt_l2_loss = 0\n",
    "opt_lr_loss = 0\n",
    "opt_do_loss = 0\n",
    "opt_loss = torch.Tensor([float(\"Inf\")])\n",
    "###if gpu is being used\n",
    "if torch.cuda.is_available():\n",
    "\topt_loss = opt_loss.cuda()\n",
    "###\n",
    "opt_c_index_va = 0\n",
    "opt_c_index_tr = 0"
   ]
  },
  {
   "cell_type": "code",
   "execution_count": 8,
   "metadata": {},
   "outputs": [
    {
     "name": "stdout",
     "output_type": "stream",
     "text": [
      "58100\n",
      "974\n"
     ]
    }
   ],
   "source": [
    "print(len(x[0]))\n",
    "print(len(yevent))"
   ]
  },
  {
   "cell_type": "code",
   "execution_count": 9,
   "metadata": {},
   "outputs": [
    {
     "name": "stdout",
     "output_type": "stream",
     "text": [
      "------------fold no---------0----------------------\n",
      "loss batch training tensor([nan], grad_fn=<ReshapeAliasBackward0>)\n",
      "loss batch training tensor([nan], grad_fn=<ReshapeAliasBackward0>)\n",
      "loss batch training tensor([nan], grad_fn=<ReshapeAliasBackward0>)\n",
      "loss batch training tensor([nan], grad_fn=<ReshapeAliasBackward0>)\n",
      "loss batch training tensor([nan], grad_fn=<ReshapeAliasBackward0>)\n",
      "loss batch training tensor([nan], grad_fn=<ReshapeAliasBackward0>)\n",
      "loss batch training tensor([nan], grad_fn=<ReshapeAliasBackward0>)\n",
      "loss batch training tensor([nan], grad_fn=<ReshapeAliasBackward0>)\n",
      "loss batch training tensor([nan], grad_fn=<ReshapeAliasBackward0>)\n",
      "loss batch training tensor([nan], grad_fn=<ReshapeAliasBackward0>)\n",
      "loss batch training tensor([nan], grad_fn=<ReshapeAliasBackward0>)\n",
      "loss batch training tensor([nan], grad_fn=<ReshapeAliasBackward0>)\n",
      "loss batch training tensor([nan], grad_fn=<ReshapeAliasBackward0>)\n",
      "loss batch training tensor([nan], grad_fn=<ReshapeAliasBackward0>)\n",
      "loss batch training tensor([nan], grad_fn=<ReshapeAliasBackward0>)\n",
      "loss batch training tensor([nan], grad_fn=<ReshapeAliasBackward0>)\n",
      "Epoch [0], loss: nan, c_index: nan\n",
      "loss batch training tensor([nan], grad_fn=<ReshapeAliasBackward0>)\n",
      "loss batch training tensor([nan], grad_fn=<ReshapeAliasBackward0>)\n",
      "loss batch training tensor([nan], grad_fn=<ReshapeAliasBackward0>)\n",
      "loss batch training tensor([nan], grad_fn=<ReshapeAliasBackward0>)\n",
      "loss batch training tensor([nan], grad_fn=<ReshapeAliasBackward0>)\n",
      "loss batch training tensor([nan], grad_fn=<ReshapeAliasBackward0>)\n",
      "loss batch training tensor([nan], grad_fn=<ReshapeAliasBackward0>)\n",
      "loss batch training tensor([nan], grad_fn=<ReshapeAliasBackward0>)\n",
      "loss batch training tensor([nan], grad_fn=<ReshapeAliasBackward0>)\n",
      "loss batch training tensor([nan], grad_fn=<ReshapeAliasBackward0>)\n",
      "loss batch training tensor([nan], grad_fn=<ReshapeAliasBackward0>)\n",
      "loss batch training tensor([nan], grad_fn=<ReshapeAliasBackward0>)\n",
      "loss batch training tensor([nan], grad_fn=<ReshapeAliasBackward0>)\n",
      "loss batch training tensor([nan], grad_fn=<ReshapeAliasBackward0>)\n",
      "loss batch training tensor([nan], grad_fn=<ReshapeAliasBackward0>)\n",
      "loss batch training tensor([nan], grad_fn=<ReshapeAliasBackward0>)\n",
      "Epoch [1], loss: nan, c_index: nan\n",
      "loss batch training tensor([nan], grad_fn=<ReshapeAliasBackward0>)\n",
      "loss batch training tensor([nan], grad_fn=<ReshapeAliasBackward0>)\n"
     ]
    },
    {
     "ename": "KeyboardInterrupt",
     "evalue": "",
     "output_type": "error",
     "traceback": [
      "\u001b[1;31m---------------------------------------------------------------------------\u001b[0m",
      "\u001b[1;31mKeyboardInterrupt\u001b[0m                         Traceback (most recent call last)",
      "\u001b[1;32m~\\AppData\\Local\\Temp/ipykernel_17372/829587316.py\u001b[0m in \u001b[0;36m<module>\u001b[1;34m\u001b[0m\n\u001b[0;32m      2\u001b[0m         \u001b[1;32mfor\u001b[0m \u001b[0mlr\u001b[0m \u001b[1;32min\u001b[0m \u001b[0mInitial_Learning_Rate\u001b[0m\u001b[1;33m:\u001b[0m\u001b[1;33m\u001b[0m\u001b[1;33m\u001b[0m\u001b[0m\n\u001b[0;32m      3\u001b[0m                 \u001b[1;32mfor\u001b[0m \u001b[0mdo\u001b[0m \u001b[1;32min\u001b[0m \u001b[0mDropout_Rate\u001b[0m\u001b[1;33m:\u001b[0m\u001b[1;33m\u001b[0m\u001b[1;33m\u001b[0m\u001b[0m\n\u001b[1;32m----> 4\u001b[1;33m \t\t\thistory_train, history_val = trainCox_nnet(data2, \\\n\u001b[0m\u001b[0;32m      5\u001b[0m                                 \u001b[0mIn_Nodes\u001b[0m\u001b[1;33m,\u001b[0m \u001b[0mHidden_Nodes\u001b[0m\u001b[1;33m,\u001b[0m \u001b[0mOut_Nodes\u001b[0m\u001b[1;33m,\u001b[0m\u001b[0;31m \u001b[0m\u001b[0;31m\\\u001b[0m\u001b[1;33m\u001b[0m\u001b[1;33m\u001b[0m\u001b[0m\n\u001b[0;32m      6\u001b[0m \t\t\t\tlr, l2, num_epochs, do, batch_size)\n",
      "\u001b[1;32mc:\\Users\\anais\\Documents\\2-Imperial\\0-Research-Project\\4-NN\\Cox-nnet model\\src\\Train2.py\u001b[0m in \u001b[0;36mtrainCox_nnet\u001b[1;34m(data2, In_Nodes, Hidden_Nodes, Out_Nodes, Learning_Rate, L2, Num_Epochs, Dropout_Rate, batch_size)\u001b[0m\n\u001b[0;32m     54\u001b[0m                                 \u001b[0mopt\u001b[0m\u001b[1;33m.\u001b[0m\u001b[0mstep\u001b[0m\u001b[1;33m(\u001b[0m\u001b[1;33m)\u001b[0m \u001b[1;31m###update weights and biases\u001b[0m\u001b[1;33m\u001b[0m\u001b[1;33m\u001b[0m\u001b[0m\n\u001b[0;32m     55\u001b[0m                                 \u001b[0mopt\u001b[0m\u001b[1;33m.\u001b[0m\u001b[0mzero_grad\u001b[0m\u001b[1;33m(\u001b[0m\u001b[1;33m)\u001b[0m \u001b[1;31m###reset gradients to zeros\u001b[0m\u001b[1;33m\u001b[0m\u001b[1;33m\u001b[0m\u001b[0m\n\u001b[1;32m---> 56\u001b[1;33m                                 \u001b[0mpred_train\u001b[0m\u001b[1;33m.\u001b[0m\u001b[0mappend\u001b[0m\u001b[1;33m(\u001b[0m\u001b[0mnet\u001b[0m\u001b[1;33m.\u001b[0m\u001b[0mtraining_step\u001b[0m\u001b[1;33m(\u001b[0m\u001b[0mbatch\u001b[0m\u001b[1;33m)\u001b[0m\u001b[1;33m)\u001b[0m\u001b[1;33m\u001b[0m\u001b[1;33m\u001b[0m\u001b[0m\n\u001b[0m\u001b[0;32m     57\u001b[0m                         \u001b[0mresult_train\u001b[0m \u001b[1;33m=\u001b[0m \u001b[0mnet\u001b[0m\u001b[1;33m.\u001b[0m\u001b[0mtraining_epoch_end\u001b[0m\u001b[1;33m(\u001b[0m\u001b[0mpred_train\u001b[0m\u001b[1;33m)\u001b[0m\u001b[1;33m\u001b[0m\u001b[1;33m\u001b[0m\u001b[0m\n\u001b[0;32m     58\u001b[0m                         \u001b[0mpred_val\u001b[0m \u001b[1;33m=\u001b[0m      \u001b[1;33m[\u001b[0m\u001b[0mnet\u001b[0m\u001b[1;33m.\u001b[0m\u001b[0mvalidation_step\u001b[0m\u001b[1;33m(\u001b[0m\u001b[0mbatch\u001b[0m\u001b[1;33m)\u001b[0m \u001b[1;32mfor\u001b[0m \u001b[0mbatch\u001b[0m \u001b[1;32min\u001b[0m \u001b[0mval_loader\u001b[0m\u001b[1;33m]\u001b[0m\u001b[1;33m\u001b[0m\u001b[1;33m\u001b[0m\u001b[0m\n",
      "\u001b[1;32mc:\\Users\\anais\\Documents\\2-Imperial\\0-Research-Project\\4-NN\\Cox-nnet model\\src\\Model2.py\u001b[0m in \u001b[0;36mtraining_step\u001b[1;34m(self, batch)\u001b[0m\n\u001b[0;32m     37\u001b[0m     \u001b[1;32mdef\u001b[0m \u001b[0mtraining_step\u001b[0m\u001b[1;33m(\u001b[0m\u001b[0mself\u001b[0m\u001b[1;33m,\u001b[0m \u001b[0mbatch\u001b[0m\u001b[1;33m)\u001b[0m\u001b[1;33m:\u001b[0m\u001b[1;33m\u001b[0m\u001b[1;33m\u001b[0m\u001b[0m\n\u001b[0;32m     38\u001b[0m         \u001b[0mx_train_b\u001b[0m\u001b[1;33m,\u001b[0m \u001b[0mytime_train_b\u001b[0m\u001b[1;33m,\u001b[0m \u001b[0myevent_train_b\u001b[0m\u001b[1;33m,\u001b[0m \u001b[0mage_train_b\u001b[0m \u001b[1;33m=\u001b[0m \u001b[0mbatch\u001b[0m\u001b[1;33m\u001b[0m\u001b[1;33m\u001b[0m\u001b[0m\n\u001b[1;32m---> 39\u001b[1;33m         \u001b[0mpred\u001b[0m \u001b[1;33m=\u001b[0m \u001b[0mself\u001b[0m\u001b[1;33m(\u001b[0m\u001b[0mx_train_b\u001b[0m\u001b[1;33m,\u001b[0m \u001b[0mage_train_b\u001b[0m\u001b[1;33m)\u001b[0m \u001b[1;31m###Forward\u001b[0m\u001b[1;33m\u001b[0m\u001b[1;33m\u001b[0m\u001b[0m\n\u001b[0m\u001b[0;32m     40\u001b[0m         \u001b[0mloss\u001b[0m \u001b[1;33m=\u001b[0m \u001b[0mneg_par_log_likelihood\u001b[0m\u001b[1;33m(\u001b[0m\u001b[0mpred\u001b[0m\u001b[1;33m,\u001b[0m \u001b[0mytime_train_b\u001b[0m\u001b[1;33m,\u001b[0m \u001b[0myevent_train_b\u001b[0m\u001b[1;33m)\u001b[0m \u001b[1;31m###calculate loss\u001b[0m\u001b[1;33m\u001b[0m\u001b[1;33m\u001b[0m\u001b[0m\n\u001b[0;32m     41\u001b[0m         \u001b[0macc\u001b[0m \u001b[1;33m=\u001b[0m \u001b[0mc_index\u001b[0m\u001b[1;33m(\u001b[0m\u001b[0mpred\u001b[0m\u001b[1;33m,\u001b[0m \u001b[0mytime_train_b\u001b[0m\u001b[1;33m,\u001b[0m \u001b[0myevent_train_b\u001b[0m\u001b[1;33m)\u001b[0m \u001b[1;31m#calculate accuracy\u001b[0m\u001b[1;33m\u001b[0m\u001b[1;33m\u001b[0m\u001b[0m\n",
      "\u001b[1;32mc:\\Users\\anais\\anaconda3\\lib\\site-packages\\torch\\nn\\modules\\module.py\u001b[0m in \u001b[0;36m_call_impl\u001b[1;34m(self, *input, **kwargs)\u001b[0m\n\u001b[0;32m   1108\u001b[0m         if not (self._backward_hooks or self._forward_hooks or self._forward_pre_hooks or _global_backward_hooks\n\u001b[0;32m   1109\u001b[0m                 or _global_forward_hooks or _global_forward_pre_hooks):\n\u001b[1;32m-> 1110\u001b[1;33m             \u001b[1;32mreturn\u001b[0m \u001b[0mforward_call\u001b[0m\u001b[1;33m(\u001b[0m\u001b[1;33m*\u001b[0m\u001b[0minput\u001b[0m\u001b[1;33m,\u001b[0m \u001b[1;33m**\u001b[0m\u001b[0mkwargs\u001b[0m\u001b[1;33m)\u001b[0m\u001b[1;33m\u001b[0m\u001b[1;33m\u001b[0m\u001b[0m\n\u001b[0m\u001b[0;32m   1111\u001b[0m         \u001b[1;31m# Do not call functions when jit is used\u001b[0m\u001b[1;33m\u001b[0m\u001b[1;33m\u001b[0m\u001b[0m\n\u001b[0;32m   1112\u001b[0m         \u001b[0mfull_backward_hooks\u001b[0m\u001b[1;33m,\u001b[0m \u001b[0mnon_full_backward_hooks\u001b[0m \u001b[1;33m=\u001b[0m \u001b[1;33m[\u001b[0m\u001b[1;33m]\u001b[0m\u001b[1;33m,\u001b[0m \u001b[1;33m[\u001b[0m\u001b[1;33m]\u001b[0m\u001b[1;33m\u001b[0m\u001b[1;33m\u001b[0m\u001b[0m\n",
      "\u001b[1;32mc:\\Users\\anais\\Documents\\2-Imperial\\0-Research-Project\\4-NN\\Cox-nnet model\\src\\Model2.py\u001b[0m in \u001b[0;36mforward\u001b[1;34m(self, x_1, x_2)\u001b[0m\n\u001b[0;32m     26\u001b[0m     \u001b[1;32mdef\u001b[0m \u001b[0mforward\u001b[0m\u001b[1;33m(\u001b[0m\u001b[0mself\u001b[0m\u001b[1;33m,\u001b[0m \u001b[0mx_1\u001b[0m\u001b[1;33m,\u001b[0m \u001b[0mx_2\u001b[0m\u001b[1;33m)\u001b[0m\u001b[1;33m:\u001b[0m\u001b[1;33m\u001b[0m\u001b[1;33m\u001b[0m\u001b[0m\n\u001b[0;32m     27\u001b[0m         \u001b[0mshortcut\u001b[0m \u001b[1;33m=\u001b[0m \u001b[1;33m(\u001b[0m\u001b[0mself\u001b[0m\u001b[1;33m.\u001b[0m\u001b[0msc2_norm\u001b[0m\u001b[1;33m(\u001b[0m\u001b[0mself\u001b[0m\u001b[1;33m.\u001b[0m\u001b[0mshortcut\u001b[0m\u001b[1;33m(\u001b[0m\u001b[0mx_1\u001b[0m\u001b[1;33m)\u001b[0m\u001b[1;33m)\u001b[0m\u001b[1;33m)\u001b[0m\u001b[1;33m\u001b[0m\u001b[1;33m\u001b[0m\u001b[0m\n\u001b[1;32m---> 28\u001b[1;33m         \u001b[0mx_1\u001b[0m \u001b[1;33m=\u001b[0m \u001b[0mself\u001b[0m\u001b[1;33m.\u001b[0m\u001b[0mtanh\u001b[0m\u001b[1;33m(\u001b[0m\u001b[0mself\u001b[0m\u001b[1;33m.\u001b[0m\u001b[0msc1_do\u001b[0m\u001b[1;33m(\u001b[0m\u001b[0mself\u001b[0m\u001b[1;33m.\u001b[0m\u001b[0msc1_norm\u001b[0m\u001b[1;33m(\u001b[0m\u001b[0mself\u001b[0m\u001b[1;33m.\u001b[0m\u001b[0msc1\u001b[0m\u001b[1;33m(\u001b[0m\u001b[0mself\u001b[0m\u001b[1;33m.\u001b[0m\u001b[0mtanh\u001b[0m\u001b[1;33m(\u001b[0m\u001b[0mself\u001b[0m\u001b[1;33m.\u001b[0m\u001b[0msc0_norm\u001b[0m\u001b[1;33m(\u001b[0m\u001b[0mx_1\u001b[0m\u001b[1;33m)\u001b[0m\u001b[1;33m)\u001b[0m\u001b[1;33m)\u001b[0m\u001b[1;33m)\u001b[0m\u001b[1;33m)\u001b[0m\u001b[1;33m)\u001b[0m\u001b[1;33m\u001b[0m\u001b[1;33m\u001b[0m\u001b[0m\n\u001b[0m\u001b[0;32m     29\u001b[0m         \u001b[0mx_1\u001b[0m \u001b[1;33m=\u001b[0m\u001b[1;33m(\u001b[0m\u001b[0mself\u001b[0m\u001b[1;33m.\u001b[0m\u001b[0msc2\u001b[0m\u001b[1;33m(\u001b[0m\u001b[0mx_1\u001b[0m\u001b[1;33m)\u001b[0m\u001b[1;33m)\u001b[0m \u001b[1;33m+\u001b[0m \u001b[0mshortcut\u001b[0m\u001b[1;33m\u001b[0m\u001b[1;33m\u001b[0m\u001b[0m\n\u001b[0;32m     30\u001b[0m         \u001b[1;31m# x_1 = self.tanh(self.sc1_do(self.sc1_norm(self.sc1(x_1))))\u001b[0m\u001b[1;33m\u001b[0m\u001b[1;33m\u001b[0m\u001b[0m\n",
      "\u001b[1;32mc:\\Users\\anais\\anaconda3\\lib\\site-packages\\torch\\nn\\modules\\module.py\u001b[0m in \u001b[0;36m_call_impl\u001b[1;34m(self, *input, **kwargs)\u001b[0m\n\u001b[0;32m   1108\u001b[0m         if not (self._backward_hooks or self._forward_hooks or self._forward_pre_hooks or _global_backward_hooks\n\u001b[0;32m   1109\u001b[0m                 or _global_forward_hooks or _global_forward_pre_hooks):\n\u001b[1;32m-> 1110\u001b[1;33m             \u001b[1;32mreturn\u001b[0m \u001b[0mforward_call\u001b[0m\u001b[1;33m(\u001b[0m\u001b[1;33m*\u001b[0m\u001b[0minput\u001b[0m\u001b[1;33m,\u001b[0m \u001b[1;33m**\u001b[0m\u001b[0mkwargs\u001b[0m\u001b[1;33m)\u001b[0m\u001b[1;33m\u001b[0m\u001b[1;33m\u001b[0m\u001b[0m\n\u001b[0m\u001b[0;32m   1111\u001b[0m         \u001b[1;31m# Do not call functions when jit is used\u001b[0m\u001b[1;33m\u001b[0m\u001b[1;33m\u001b[0m\u001b[0m\n\u001b[0;32m   1112\u001b[0m         \u001b[0mfull_backward_hooks\u001b[0m\u001b[1;33m,\u001b[0m \u001b[0mnon_full_backward_hooks\u001b[0m \u001b[1;33m=\u001b[0m \u001b[1;33m[\u001b[0m\u001b[1;33m]\u001b[0m\u001b[1;33m,\u001b[0m \u001b[1;33m[\u001b[0m\u001b[1;33m]\u001b[0m\u001b[1;33m\u001b[0m\u001b[1;33m\u001b[0m\u001b[0m\n",
      "\u001b[1;32mc:\\Users\\anais\\anaconda3\\lib\\site-packages\\torch\\nn\\modules\\batchnorm.py\u001b[0m in \u001b[0;36mforward\u001b[1;34m(self, input)\u001b[0m\n\u001b[0;32m    166\u001b[0m         \u001b[0mused\u001b[0m \u001b[1;32mfor\u001b[0m \u001b[0mnormalization\u001b[0m \u001b[1;33m(\u001b[0m\u001b[0mi\u001b[0m\u001b[1;33m.\u001b[0m\u001b[0me\u001b[0m\u001b[1;33m.\u001b[0m \u001b[1;32min\u001b[0m \u001b[0meval\u001b[0m \u001b[0mmode\u001b[0m \u001b[0mwhen\u001b[0m \u001b[0mbuffers\u001b[0m \u001b[0mare\u001b[0m \u001b[1;32mnot\u001b[0m \u001b[1;32mNone\u001b[0m\u001b[1;33m)\u001b[0m\u001b[1;33m.\u001b[0m\u001b[1;33m\u001b[0m\u001b[1;33m\u001b[0m\u001b[0m\n\u001b[0;32m    167\u001b[0m         \"\"\"\n\u001b[1;32m--> 168\u001b[1;33m         return F.batch_norm(\n\u001b[0m\u001b[0;32m    169\u001b[0m             \u001b[0minput\u001b[0m\u001b[1;33m,\u001b[0m\u001b[1;33m\u001b[0m\u001b[1;33m\u001b[0m\u001b[0m\n\u001b[0;32m    170\u001b[0m             \u001b[1;31m# If buffers are not to be tracked, ensure that they won't be updated\u001b[0m\u001b[1;33m\u001b[0m\u001b[1;33m\u001b[0m\u001b[0m\n",
      "\u001b[1;32mc:\\Users\\anais\\anaconda3\\lib\\site-packages\\torch\\nn\\functional.py\u001b[0m in \u001b[0;36mbatch_norm\u001b[1;34m(input, running_mean, running_var, weight, bias, training, momentum, eps)\u001b[0m\n\u001b[0;32m   2419\u001b[0m         \u001b[0m_verify_batch_size\u001b[0m\u001b[1;33m(\u001b[0m\u001b[0minput\u001b[0m\u001b[1;33m.\u001b[0m\u001b[0msize\u001b[0m\u001b[1;33m(\u001b[0m\u001b[1;33m)\u001b[0m\u001b[1;33m)\u001b[0m\u001b[1;33m\u001b[0m\u001b[1;33m\u001b[0m\u001b[0m\n\u001b[0;32m   2420\u001b[0m \u001b[1;33m\u001b[0m\u001b[0m\n\u001b[1;32m-> 2421\u001b[1;33m     return torch.batch_norm(\n\u001b[0m\u001b[0;32m   2422\u001b[0m         \u001b[0minput\u001b[0m\u001b[1;33m,\u001b[0m \u001b[0mweight\u001b[0m\u001b[1;33m,\u001b[0m \u001b[0mbias\u001b[0m\u001b[1;33m,\u001b[0m \u001b[0mrunning_mean\u001b[0m\u001b[1;33m,\u001b[0m \u001b[0mrunning_var\u001b[0m\u001b[1;33m,\u001b[0m \u001b[0mtraining\u001b[0m\u001b[1;33m,\u001b[0m \u001b[0mmomentum\u001b[0m\u001b[1;33m,\u001b[0m \u001b[0meps\u001b[0m\u001b[1;33m,\u001b[0m \u001b[0mtorch\u001b[0m\u001b[1;33m.\u001b[0m\u001b[0mbackends\u001b[0m\u001b[1;33m.\u001b[0m\u001b[0mcudnn\u001b[0m\u001b[1;33m.\u001b[0m\u001b[0menabled\u001b[0m\u001b[1;33m\u001b[0m\u001b[1;33m\u001b[0m\u001b[0m\n\u001b[0;32m   2423\u001b[0m     )\n",
      "\u001b[1;31mKeyboardInterrupt\u001b[0m: "
     ]
    }
   ],
   "source": [
    "for l2 in L2_Lambda:\n",
    "\tfor lr in Initial_Learning_Rate:\n",
    "\t\tfor do in Dropout_Rate:\n",
    "\t\t\thistory_train, history_val = trainCox_nnet(data2, \\\n",
    "\t\t\t\tIn_Nodes, Hidden_Nodes, Out_Nodes, \\\n",
    "\t\t\t\tlr, l2, num_epochs, do, batch_size)\n",
    "\t\t\tloss_train2 = [k['loss'] for k in history_train[1]]\n",
    "\t\t\tif loss_train2[-1] =='nan': \n",
    "\t\t\t\tbreak\n",
    "\t\t\telif loss_train2[-1] < opt_loss:\n",
    "\t\t\t\topt_l2_loss = l2\n",
    "\t\t\t\topt_lr_loss = lr\n",
    "\t\t\t\topt_do_loss = do\n",
    "\t\t\t\topt_loss = loss_train2[-1]\n",
    "\t\t\t\t# opt_c_index_tr = c_index_tr\n",
    "\t\t\t\t# opt_c_index_va = c_index_va\n",
    "\t\t\tprint (\"L2: \", l2, \"LR: \", lr, \"Loss in Validation: \", opt_loss)"
   ]
  },
  {
   "cell_type": "code",
   "execution_count": 8,
   "metadata": {},
   "outputs": [],
   "source": [
    "opt_l2_loss, opt_lr_loss, opt_do_loss = 0.001, 0.00075, 0.5\n",
    "\n",
    "#print(opt_l2_loss, opt_lr_loss, opt_do_loss)"
   ]
  },
  {
   "cell_type": "code",
   "execution_count": 9,
   "metadata": {},
   "outputs": [
    {
     "name": "stdout",
     "output_type": "stream",
     "text": [
      "------------fold no---------0----------------------\n",
      "Epoch [0], loss: 2.5955, c_index: 0.5542\n",
      "Epoch [1], loss: 2.5432, c_index: 0.5527\n",
      "Epoch [2], loss: 2.5560, c_index: 0.5530\n",
      "Epoch [3], loss: 2.6197, c_index: 0.5630\n",
      "Epoch [4], loss: 2.6436, c_index: 0.5640\n",
      "Epoch [5], loss: 2.4747, c_index: 0.5606\n",
      "Epoch [6], loss: 2.6651, c_index: 0.5507\n",
      "Epoch [7], loss: 2.8519, c_index: 0.5796\n",
      "Epoch [8], loss: 2.7373, c_index: 0.6219\n",
      "------------fold no---------1----------------------\n",
      "Epoch [0], loss: 2.3493, c_index: 0.6177\n",
      "Epoch [1], loss: 2.4791, c_index: 0.6166\n",
      "Epoch [2], loss: 2.4451, c_index: 0.6152\n",
      "Epoch [3], loss: 2.3600, c_index: 0.6182\n",
      "Epoch [4], loss: 2.3366, c_index: 0.6317\n",
      "Epoch [5], loss: 2.3951, c_index: 0.6146\n",
      "Epoch [6], loss: 2.4267, c_index: 0.4818\n",
      "Epoch [7], loss: 2.5873, c_index: 0.4689\n",
      "Epoch [8], loss: 2.7376, c_index: 0.4431\n",
      "------------fold no---------2----------------------\n",
      "Epoch [0], loss: 2.6862, c_index: 0.5502\n",
      "Epoch [1], loss: 2.8817, c_index: 0.5476\n",
      "Epoch [2], loss: 2.7459, c_index: 0.5528\n",
      "Epoch [3], loss: 2.6336, c_index: 0.5587\n",
      "Epoch [4], loss: 2.6478, c_index: 0.5625\n",
      "Epoch [5], loss: 2.6316, c_index: 0.5695\n",
      "Epoch [6], loss: 2.6502, c_index: 0.5786\n",
      "Epoch [7], loss: 2.6009, c_index: 0.5817\n",
      "Epoch [8], loss: 2.6893, c_index: 0.5876\n",
      "------------fold no---------3----------------------\n",
      "Epoch [0], loss: 2.3251, c_index: 0.4123\n",
      "Epoch [1], loss: 2.5560, c_index: 0.4156\n",
      "Epoch [2], loss: 2.6015, c_index: 0.4137\n",
      "Epoch [3], loss: 2.4935, c_index: 0.4195\n",
      "Epoch [4], loss: 2.5255, c_index: 0.4132\n",
      "Epoch [5], loss: 2.5073, c_index: 0.4580\n",
      "Epoch [6], loss: 2.6056, c_index: 0.4581\n",
      "Epoch [7], loss: 2.7188, c_index: 0.5344\n",
      "Epoch [8], loss: 2.7940, c_index: 0.5107\n",
      "------------fold no---------4----------------------\n",
      "Epoch [0], loss: 2.5681, c_index: nan\n",
      "Epoch [1], loss: 2.4088, c_index: nan\n",
      "Epoch [2], loss: 2.5248, c_index: nan\n",
      "Epoch [3], loss: 2.4732, c_index: nan\n",
      "Epoch [4], loss: 2.5783, c_index: nan\n",
      "Epoch [5], loss: 2.5326, c_index: nan\n",
      "Epoch [6], loss: 2.5629, c_index: nan\n",
      "Epoch [7], loss: 2.5799, c_index: nan\n",
      "Epoch [8], loss: 2.6009, c_index: nan\n",
      "Optimal L2:  0.001 Optimal LR:  0.00075\n"
     ]
    }
   ],
   "source": [
    "###train Cox-PASNet with optimal hyperparameters using train data, and then evaluate the trained model with test data\n",
    "###Note that test data are only used to evaluate the trained Cox-nnet\n",
    "history_train, history_val = trainCox_nnet(data2, \\\n",
    "\t\t\tIn_Nodes, Hidden_Nodes, Out_Nodes, \\\n",
    "\t\t\topt_lr_loss, opt_l2_loss, Num_EPOCHS, opt_do_loss, batch_size)\n",
    "print (\"Optimal L2: \", opt_l2_loss, \"Optimal LR: \", opt_lr_loss)\n",
    "# print(\"C-index in Test: \", c_index_te)"
   ]
  },
  {
   "cell_type": "code",
   "execution_count": 10,
   "metadata": {},
   "outputs": [],
   "source": [
    "loss_train_fold0 = [k['loss'] for k in history_train[0]]\n",
    "loss_val_fold0 = [k['loss'] for k in history_val[0]] \n",
    "c_index_train_fold0 = [k['c_index'] for k in history_train[0]]\n",
    "c_index_val_fold0 = [k['c_index'] for k in history_val[0]]\n",
    "\n",
    "loss_train_fold1 = [k['loss'] for k in history_train[1]]\n",
    "loss_val_fold1 = [k['loss'] for k in history_val[1]] \n",
    "c_index_train_fold1 = [k['c_index'] for k in history_train[1]]\n",
    "c_index_val_fold1 = [k['c_index'] for k in history_val[1]]\n",
    "\n",
    "loss_train_fold2 = [k['loss'] for k in history_train[2]]\n",
    "loss_val_fold2 = [k['loss'] for k in history_val[2]] \n",
    "c_index_train_fold2 = [k['c_index'] for k in history_train[2]]\n",
    "c_index_val_fold2 = [k['c_index'] for k in history_val[2]]\n",
    "\n",
    "loss_train_fold3 = [k['loss'] for k in history_train[3]]\n",
    "loss_val_fold3 = [k['loss'] for k in history_val[3]] \n",
    "c_index_train_fold3 = [k['c_index'] for k in history_train[3]]\n",
    "c_index_val_fold3 = [k['c_index'] for k in history_val[3]]\n",
    "\n",
    "loss_train_fold4 = [k['loss'] for k in history_train[4]]\n",
    "loss_val_fold4 = [k['loss'] for k in history_val[4]] \n",
    "c_index_train_fold4 = [k['c_index'] for k in history_train[4]]\n",
    "c_index_val_fold4 = [k['c_index'] for k in history_val[4]]\n"
   ]
  },
  {
   "cell_type": "code",
   "execution_count": 15,
   "metadata": {},
   "outputs": [
    {
     "name": "stdout",
     "output_type": "stream",
     "text": [
      "0.5337160006165504\n"
     ]
    }
   ],
   "source": [
    "#result cross validation\n",
    "print(np.mean([c_index_val_fold0[2], c_index_val_fold1[2], c_index_val_fold2[2], c_index_val_fold3[2]]))\n",
    "# print(np.mean([c_index_val_fold0[3], c_index_val_fold1[3], c_index_val_fold2[3], c_index_val_fold3[3]]))"
   ]
  },
  {
   "cell_type": "code",
   "execution_count": 31,
   "metadata": {},
   "outputs": [
    {
     "name": "stdout",
     "output_type": "stream",
     "text": [
      "[[{'loss': 3.0324854850769043, 'c_index': 0.5139650106430054}], [{'loss': 3.932288408279419, 'c_index': 0.5035215616226196}], [], [], []]\n"
     ]
    }
   ],
   "source": [
    "print(history_train)"
   ]
  },
  {
   "cell_type": "code",
   "execution_count": null,
   "metadata": {},
   "outputs": [],
   "source": []
  },
  {
   "cell_type": "code",
   "execution_count": 11,
   "metadata": {},
   "outputs": [],
   "source": [
    "# loss_train2 = [k['loss'] for k in history_train]\n",
    "# loss_val2 = [k['loss'] for k in history_val] \n",
    "# c_index_tr2 = [k['c_index'] for k in history_train]\n",
    "# c_index_val2 = [k['c_index'] for k in history_val]\n",
    "\n",
    "epoch = np.arange(0,Num_EPOCHS+1)\n"
   ]
  },
  {
   "cell_type": "code",
   "execution_count": 12,
   "metadata": {},
   "outputs": [],
   "source": [
    "# loss_train2 = [k.detach().numpy() for k in loss_train]\n",
    "# loss_test2 = [k.detach().numpy() for k in loss_test]\n",
    "# c_index_tr2 = [k.detach().numpy() for k in c_index_tr]\n",
    "# c_index_te2 = [k.detach().numpy() for k in c_index_te]\n",
    "# epoch = np.arange(0,Num_EPOCHS+2,2)"
   ]
  },
  {
   "cell_type": "code",
   "execution_count": 20,
   "metadata": {},
   "outputs": [
    {
     "name": "stdout",
     "output_type": "stream",
     "text": [
      "[2.672226667404175, 2.652674436569214, 2.549652338027954, 2.382066011428833, 2.383145570755005, 2.443861484527588, 2.437490224838257, 2.5582664012908936, 2.4949355125427246]\n"
     ]
    }
   ],
   "source": [
    "# print(loss_train2)\n",
    "# print(len(yevent_train))\n",
    "print(loss_val_fold4)"
   ]
  },
  {
   "cell_type": "code",
   "execution_count": 12,
   "metadata": {},
   "outputs": [
    {
     "data": {
      "text/plain": [
       "<matplotlib.legend.Legend at 0x259bf497100>"
      ]
     },
     "execution_count": 12,
     "metadata": {},
     "output_type": "execute_result"
    },
    {
     "data": {
      "image/png": "[encoded data removed]",
      "text/plain": [
       "<Figure size 720x432 with 4 Axes>"
      ]
     },
     "metadata": {
      "needs_background": "light"
     },
     "output_type": "display_data"
    }
   ],
   "source": [
    "import matplotlib.pyplot as plt \n",
    "plt.figure(figsize=(10,6))\n",
    "plt.subplot(221)\n",
    "plt.plot(epoch, loss_train_fold0, label = 'training')\n",
    "plt.plot(epoch, loss_val_fold0, label = 'testing')\n",
    "plt.ylabel('loss = log likelihood')\n",
    "plt.xlabel('epochs')\n",
    "plt.legend()\n",
    "\n",
    "plt.subplot(222)\n",
    "plt.plot(epoch, loss_train_fold1, label = 'training')\n",
    "plt.plot(epoch, loss_val_fold1, label = 'testing')\n",
    "plt.ylabel('loss = log likelihood')\n",
    "plt.xlabel('epochs')\n",
    "plt.legend()\n",
    "\n",
    "plt.subplot(223)\n",
    "plt.plot(epoch, loss_train_fold2, label = 'training')\n",
    "plt.plot(epoch, loss_val_fold2, label = 'testing')\n",
    "plt.ylabel('loss = log likelihood')\n",
    "plt.xlabel('epochs')\n",
    "plt.legend()\n",
    "\n",
    "plt.subplot(224)\n",
    "plt.plot(epoch, loss_train_fold3, label = 'training')\n",
    "plt.plot(epoch, loss_val_fold3, label = 'testing')\n",
    "plt.ylabel('loss = log likelihood')\n",
    "plt.xlabel('epochs')\n",
    "plt.legend()\n",
    "\n"
   ]
  },
  {
   "cell_type": "code",
   "execution_count": 14,
   "metadata": {},
   "outputs": [
    {
     "data": {
      "text/plain": [
       "<matplotlib.legend.Legend at 0x259bf852d90>"
      ]
     },
     "execution_count": 14,
     "metadata": {},
     "output_type": "execute_result"
    },
    {
     "data": {
      "image/png": "[encoded data removed]",
      "text/plain": [
       "<Figure size 720x432 with 4 Axes>"
      ]
     },
     "metadata": {
      "needs_background": "light"
     },
     "output_type": "display_data"
    }
   ],
   "source": [
    "plt.figure(figsize=(10,6))\n",
    "plt.subplot(221)\n",
    "plt.plot(epoch, c_index_train_fold0, label = 'training')\n",
    "plt.plot(epoch, c_index_val_fold0, label = 'testing')\n",
    "plt.ylabel('acc= c_index')\n",
    "plt.xlabel('epochs')\n",
    "plt.legend()\n",
    "\n",
    "plt.subplot(222)\n",
    "plt.plot(epoch, c_index_train_fold1, label = 'training')\n",
    "plt.plot(epoch, c_index_val_fold1, label = 'testing')\n",
    "plt.ylabel('acc= c_index')\n",
    "plt.xlabel('epochs')\n",
    "plt.legend()\n",
    "\n",
    "plt.subplot(223)\n",
    "plt.plot(epoch, c_index_train_fold2, label = 'training')\n",
    "plt.plot(epoch, c_index_val_fold2, label = 'testing')\n",
    "plt.ylabel('acc= c_index')\n",
    "plt.xlabel('epochs')\n",
    "plt.legend()\n",
    "\n",
    "plt.subplot(224)\n",
    "plt.plot(epoch, c_index_train_fold3, label = 'training')\n",
    "plt.plot(epoch, c_index_val_fold3, label = 'testing')\n",
    "plt.ylabel('acc= c_index')\n",
    "plt.xlabel('epochs')\n",
    "plt.legend()\n"
   ]
  },
  {
   "cell_type": "code",
   "execution_count": null,
   "metadata": {},
   "outputs": [
    {
     "ename": "NameError",
     "evalue": "name 'c_index_te' is not defined",
     "output_type": "error",
     "traceback": [
      "\u001b[1;31m---------------------------------------------------------------------------\u001b[0m",
      "\u001b[1;31mNameError\u001b[0m                                 Traceback (most recent call last)",
      "\u001b[1;32m~\\AppData\\Local\\Temp/ipykernel_10152/1447945293.py\u001b[0m in \u001b[0;36m<module>\u001b[1;34m\u001b[0m\n\u001b[1;32m----> 1\u001b[1;33m \u001b[0mprint\u001b[0m\u001b[1;33m(\u001b[0m\u001b[0mc_index_te\u001b[0m\u001b[1;33m[\u001b[0m\u001b[1;33m-\u001b[0m\u001b[1;36m1\u001b[0m\u001b[1;33m]\u001b[0m\u001b[1;33m)\u001b[0m\u001b[1;33m\u001b[0m\u001b[1;33m\u001b[0m\u001b[0m\n\u001b[0m",
      "\u001b[1;31mNameError\u001b[0m: name 'c_index_te' is not defined"
     ]
    }
   ],
   "source": [
    "print(c_index_te[-1])"
   ]
  },
  {
   "cell_type": "code",
   "execution_count": null,
   "metadata": {},
   "outputs": [],
   "source": [
    "def get_default_device():\n",
    "    \"\"\"Pick GPU if available, else CPU\"\"\"\n",
    "    if torch.cuda.is_available():\n",
    "        return torch.device('cuda')\n",
    "    else:\n",
    "        return torch.device('cpu')\n"
   ]
  },
  {
   "cell_type": "code",
   "execution_count": null,
   "metadata": {},
   "outputs": [
    {
     "data": {
      "text/plain": [
       "device(type='cpu')"
      ]
     },
     "execution_count": 17,
     "metadata": {},
     "output_type": "execute_result"
    }
   ],
   "source": [
    "get_default_device()"
   ]
  },
  {
   "cell_type": "code",
   "execution_count": 13,
   "metadata": {},
   "outputs": [
    {
     "name": "stderr",
     "output_type": "stream",
     "text": [
      "c:\\Users\\anais\\Documents\\2-Imperial\\0-Research-Project\\4-NN\\Cox-nnet model\\src\\Data_Loader.py:12: SettingWithCopyWarning: \n",
      "A value is trying to be set on a copy of a slice from a DataFrame.\n",
      "Try using .loc[row_indexer,col_indexer] = value instead\n",
      "\n",
      "See the caveats in the documentation: https://pandas.pydata.org/pandas-docs/stable/user_guide/indexing.html#returning-a-view-versus-a-copy\n",
      "  data['days_to_death']= np.where(data['days_to_death'] == \"'--\", data['days_to_last_follow_up'],data['days_to_death'])\n",
      "c:\\Users\\anais\\Documents\\2-Imperial\\0-Research-Project\\4-NN\\Cox-nnet model\\src\\Data_Loader.py:13: SettingWithCopyWarning: \n",
      "A value is trying to be set on a copy of a slice from a DataFrame.\n",
      "Try using .loc[row_indexer,col_indexer] = value instead\n",
      "\n",
      "See the caveats in the documentation: https://pandas.pydata.org/pandas-docs/stable/user_guide/indexing.html#returning-a-view-versus-a-copy\n",
      "  data['days_to_death']=data['days_to_death'].astype(float)\n",
      "c:\\Users\\anais\\Documents\\2-Imperial\\0-Research-Project\\4-NN\\Cox-nnet model\\src\\Data_Loader.py:14: SettingWithCopyWarning: \n",
      "A value is trying to be set on a copy of a slice from a DataFrame.\n",
      "Try using .loc[row_indexer,col_indexer] = value instead\n",
      "\n",
      "See the caveats in the documentation: https://pandas.pydata.org/pandas-docs/stable/user_guide/indexing.html#returning-a-view-versus-a-copy\n",
      "  data['age_at_diagnosis']=data['age_at_diagnosis'].astype(float)\n",
      "c:\\Users\\anais\\Documents\\2-Imperial\\0-Research-Project\\4-NN\\Cox-nnet model\\src\\Data_Loader.py:16: SettingWithCopyWarning: \n",
      "A value is trying to be set on a copy of a slice from a DataFrame.\n",
      "Try using .loc[row_indexer,col_indexer] = value instead\n",
      "\n",
      "See the caveats in the documentation: https://pandas.pydata.org/pandas-docs/stable/user_guide/indexing.html#returning-a-view-versus-a-copy\n",
      "  data['vital_status'] = np.where((data.vital_status=='Alive'), 0, 1)\n",
      "c:\\Users\\anais\\anaconda3\\lib\\site-packages\\pandas\\util\\_decorators.py:311: SettingWithCopyWarning: \n",
      "A value is trying to be set on a copy of a slice from a DataFrame\n",
      "\n",
      "See the caveats in the documentation: https://pandas.pydata.org/pandas-docs/stable/user_guide/indexing.html#returning-a-view-versus-a-copy\n",
      "  return func(*args, **kwargs)\n"
     ]
    }
   ],
   "source": [
    "from Survival_CostFunc_CIndex import R_set, neg_par_log_likelihood, c_index\n",
    "from Model2 import Cox_nnet\n",
    "\n",
    "net = Cox_nnet(In_Nodes, Hidden_Nodes, Out_Nodes, 0.5)\n",
    "net.eval()\n",
    "data_test = data.iloc[test_index]\n",
    "x_test, ytime_test, yevent_test, age_test = load_data(data_test,dtype)\n",
    "test_pred=net(x_test, age_test)\n",
    "eval_loss = []\n",
    "eval_cindex=[]\n",
    "eval_loss.append(neg_par_log_likelihood(test_pred, ytime_test, yevent_test).view(1,))\n",
    "eval_cindex.append(c_index(test_pred, ytime_test, yevent_test))"
   ]
  },
  {
   "cell_type": "code",
   "execution_count": 14,
   "metadata": {},
   "outputs": [
    {
     "name": "stdout",
     "output_type": "stream",
     "text": [
      "[tensor([37.4788], grad_fn=<ViewBackward0>)] [tensor(0.4685)]\n"
     ]
    }
   ],
   "source": [
    "print(eval_loss, eval_cindex)"
   ]
  },
  {
   "cell_type": "code",
   "execution_count": null,
   "metadata": {},
   "outputs": [],
   "source": []
  },
  {
   "cell_type": "code",
   "execution_count": null,
   "metadata": {},
   "outputs": [],
   "source": []
  },
  {
   "cell_type": "code",
   "execution_count": null,
   "metadata": {},
   "outputs": [],
   "source": []
  }
 ],
 "metadata": {
  "kernelspec": {
   "display_name": "Python 3.9.7 ('base')",
   "language": "python",
   "name": "python3"
  },
  "language_info": {
   "codemirror_mode": {
    "name": "ipython",
    "version": 3
   },
   "file_extension": ".py",
   "mimetype": "text/x-python",
   "name": "python",
   "nbconvert_exporter": "python",
   "pygments_lexer": "ipython3",
   "version": "3.9.7"
  },
  "orig_nbformat": 4,
  "vscode": {
   "interpreter": {
    "hash": "eb288fa2e0b97d7fe5d36e6cd017a998fc9aeeeb66a354179c06f074395a5c37"
   }
  }
 },
 "nbformat": 4,
 "nbformat_minor": 2
}
