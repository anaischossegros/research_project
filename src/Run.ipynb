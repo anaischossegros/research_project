{
 "cells": [
  {
   "cell_type": "code",
   "execution_count": 1,
   "metadata": {},
   "outputs": [],
   "source": [
    "from Data_Loader import load_data\n",
    "from Train2 import trainCox_nnet\n",
    "\n",
    "import torch\n",
    "import numpy as np\n",
    "import pandas as pd\n",
    "from torch.utils.data.dataloader import DataLoader"
   ]
  },
  {
   "cell_type": "code",
   "execution_count": 2,
   "metadata": {},
   "outputs": [],
   "source": [
    "dtype = torch.FloatTensor\n",
    "''' Net Settings'''\n",
    "In_Nodes = 55553 ###number of genes\n",
    "Hidden_Nodes = 143 ###number of hidden nodes\n",
    "Out_Nodes = 30 ###number of hidden nodes in the last hidden layer\n",
    "''' Initialize '''\n",
    "Initial_Learning_Rate = [0.03, 0.01, 0.001, 0.00075]\n",
    "L2_Lambda = [0.1, 0.01, 0.005, 0.001]\n",
    "num_epochs = 10 ###for grid search\n",
    "Num_EPOCHS = 50 ###for training\n",
    "###sub-network setup\n",
    "Dropout_Rate = [0.7, 0.5]"
   ]
  },
  {
   "cell_type": "code",
   "execution_count": 3,
   "metadata": {},
   "outputs": [],
   "source": [
    "from Data_extraction import output_df2, x_df2  "
   ]
  },
  {
   "cell_type": "code",
   "execution_count": 4,
   "metadata": {},
   "outputs": [],
   "source": [
    "# print(len(ytime_train))"
   ]
  },
  {
   "cell_type": "code",
   "execution_count": 5,
   "metadata": {},
   "outputs": [
    {
     "name": "stdout",
     "output_type": "stream",
     "text": [
      "[  0   1   2   3   4   5   6   7   8   9  10  11  12  16  17  22  23  24\n",
      "  25  27  28  29  31  32  33  34  37  38  40  41  42  44  45  47  48  49\n",
      "  52  53  54  56  57  60  61  62  63  66  67  73  76  79  80  82  83  84\n",
      "  85  87  88  90  94 100 104 105 106 107 108 109 110 111 112 113 114 117\n",
      " 120 126 127 128 129 130 131 132 133 134 135 137 139 140 141 143 145 147\n",
      " 148 149 152 158 159 161 162 163 165 166 167 168 173 174 175 176]\n",
      "[ 13  18  19  26  30  39  46  50  55  65  68  69  78  86  89  93  96  99\n",
      " 101 102 115 118 119 121 122 125 142 144 146 153 155 157 169 171 172]\n",
      "[ 14  15  20  21  35  36  43  51  58  59  64  70  71  72  74  75  77  81\n",
      "  91  92  95  97  98 103 116 123 124 136 138 150 151 154 156 160 164 170]\n"
     ]
    }
   ],
   "source": [
    "data = pd.concat([x_df2,output_df2],axis=1)\n",
    "\n",
    "def split_indices(n, val_pct1, val_pct2):\n",
    "\tn1 = int(val_pct1*n)\n",
    "\tn2 = int(val_pct2*n)\n",
    "\tidxs = np.random.permutation(n)\n",
    "\ttrain, val, test = idxs[:n1], idxs[n1:n2], idxs[n2:]\n",
    "\ttrain.sort(), val.sort(), test.sort()\n",
    "\treturn(train, val, test)\n",
    "\n",
    "train_index, val_index, test_index = split_indices(len(data),0.6, 0.8)\n",
    "print(train_index)\n",
    "print(val_index)\n",
    "print(test_index)\n",
    "x, ytime, yevent, age = load_data(data, dtype)\n",
    "\n",
    "# data_train = data.iloc[train_index]\n",
    "# data_val = data.iloc[val_index]\n",
    "# data_test = data.iloc[test_index]\n",
    "# x_train, ytime_train, yevent_train, age_train = load_data(data_train, dtype)\n",
    "# x_valid, ytime_valid, yevent_valid, age_valid = load_data(data_val, dtype)\n",
    "# x_test, ytime_test, yevent_test, age_test = load_data(data_test,dtype)"
   ]
  },
  {
   "cell_type": "code",
   "execution_count": 6,
   "metadata": {},
   "outputs": [],
   "source": [
    "from Data_Loader import CustomDataset\n",
    "batch_size=10\n",
    "data2 = CustomDataset(x, ytime, yevent, age)\n",
    "train_loader = DataLoader(data2, batch_size, sampler=train_index)\n",
    "val_loader = DataLoader(data2, batch_size, sampler=val_index)"
   ]
  },
  {
   "cell_type": "code",
   "execution_count": 7,
   "metadata": {},
   "outputs": [],
   "source": [
    "# print(np.shape(torch.cat((x_train, age_train),1)))\n",
    "# for i in train_sampler: \n",
    "#     print(i)\n",
    "# for k in train_sampler: \n",
    "#     print(k)\n",
    "# # print(data_train2['x_train'])\n",
    "# k=0\n",
    "# for batch in train_loader: \n",
    "#     x_train_b, ytime_train_b, yevent_train_b, age_train_b = batch\n",
    "#     print(np.shape(x_train_b))\n",
    "    # x_train, ytime_train, yevent_train, age_train = batch\n",
    "#     print(batch)\n",
    "#  print(len(torch.cat((x_train, ytime_train, yevent_train, age_train),1)))\n",
    "# print(data_train2['vital_status'])\n",
    "# for batch in train_loader: \n",
    "#     print(batch)\n"
   ]
  },
  {
   "cell_type": "code",
   "execution_count": 8,
   "metadata": {},
   "outputs": [],
   "source": [
    "opt_l2_loss = 0\n",
    "opt_lr_loss = 0\n",
    "opt_do_loss = 0\n",
    "opt_loss = torch.Tensor([float(\"Inf\")])\n",
    "###if gpu is being used\n",
    "if torch.cuda.is_available():\n",
    "\topt_loss = opt_loss.cuda()\n",
    "###\n",
    "opt_c_index_va = 0\n",
    "opt_c_index_tr = 0"
   ]
  },
  {
   "cell_type": "code",
   "execution_count": 9,
   "metadata": {},
   "outputs": [
    {
     "name": "stdout",
     "output_type": "stream",
     "text": [
      "Epoch [0], loss: nan, c_index: 0.0000\n",
      "Epoch [1], loss: nan, c_index: 0.0000\n",
      "Epoch [2], loss: nan, c_index: 0.0000\n",
      "Epoch [3], loss: nan, c_index: 0.0000\n",
      "Epoch [4], loss: nan, c_index: 0.0000\n",
      "Epoch [5], loss: nan, c_index: 0.0000\n",
      "Epoch [6], loss: nan, c_index: 0.0000\n",
      "Epoch [7], loss: nan, c_index: 0.0000\n",
      "Epoch [8], loss: nan, c_index: 0.0000\n",
      "Epoch [9], loss: nan, c_index: 0.0000\n",
      "Epoch [10], loss: nan, c_index: 0.0000\n",
      "L2:  0.1 LR:  0.03 Loss in Validation:  tensor([inf])\n",
      "Epoch [0], loss: nan, c_index: 0.0000\n",
      "Epoch [1], loss: nan, c_index: 0.0000\n",
      "Epoch [2], loss: nan, c_index: 0.0000\n",
      "Epoch [3], loss: nan, c_index: 0.0000\n",
      "Epoch [4], loss: nan, c_index: 0.0000\n",
      "Epoch [5], loss: nan, c_index: 0.0000\n",
      "Epoch [6], loss: nan, c_index: 0.0000\n",
      "Epoch [7], loss: nan, c_index: 0.0000\n",
      "Epoch [8], loss: nan, c_index: 0.0000\n",
      "Epoch [9], loss: nan, c_index: 0.0000\n",
      "Epoch [10], loss: nan, c_index: 0.0000\n",
      "L2:  0.1 LR:  0.03 Loss in Validation:  tensor([inf])\n",
      "Epoch [0], loss: nan, c_index: 0.0000\n",
      "Epoch [1], loss: nan, c_index: 0.0000\n",
      "Epoch [2], loss: nan, c_index: 0.0000\n",
      "Epoch [3], loss: nan, c_index: 0.0000\n",
      "Epoch [4], loss: nan, c_index: 0.0000\n",
      "Epoch [5], loss: nan, c_index: 0.0000\n",
      "Epoch [6], loss: nan, c_index: 0.0000\n",
      "Epoch [7], loss: nan, c_index: 0.0000\n",
      "Epoch [8], loss: nan, c_index: 0.0000\n",
      "Epoch [9], loss: nan, c_index: 0.0000\n",
      "Epoch [10], loss: nan, c_index: 0.0000\n",
      "L2:  0.1 LR:  0.01 Loss in Validation:  tensor([inf])\n",
      "Epoch [0], loss: nan, c_index: 0.0000\n",
      "Epoch [1], loss: nan, c_index: 0.0000\n",
      "Epoch [2], loss: nan, c_index: 0.0000\n",
      "Epoch [3], loss: nan, c_index: 0.0000\n",
      "Epoch [4], loss: nan, c_index: 0.0000\n",
      "Epoch [5], loss: nan, c_index: 0.0000\n",
      "Epoch [6], loss: nan, c_index: 0.0000\n",
      "Epoch [7], loss: nan, c_index: 0.0000\n",
      "Epoch [8], loss: nan, c_index: 0.0000\n",
      "Epoch [9], loss: nan, c_index: 0.0000\n",
      "Epoch [10], loss: nan, c_index: 0.0000\n",
      "L2:  0.1 LR:  0.01 Loss in Validation:  tensor([inf])\n",
      "Epoch [0], loss: 2.6747, c_index: 0.3354\n",
      "Epoch [1], loss: 1.6653, c_index: 0.3354\n",
      "Epoch [2], loss: 2.1190, c_index: 0.3354\n",
      "Epoch [3], loss: 2.2122, c_index: 0.3354\n",
      "Epoch [4], loss: 2.0484, c_index: 0.3354\n",
      "Epoch [5], loss: 2.1469, c_index: 0.3354\n",
      "Epoch [6], loss: 2.1228, c_index: 0.3354\n",
      "Epoch [7], loss: 2.1381, c_index: 0.3354\n",
      "Epoch [8], loss: 2.2041, c_index: 0.3161\n",
      "Epoch [9], loss: 2.1002, c_index: 0.3161\n",
      "Epoch [10], loss: 2.1278, c_index: 0.3161\n",
      "L2:  0.1 LR:  0.001 Loss in Validation:  1.724508285522461\n",
      "Epoch [0], loss: 2.9520, c_index: 0.3354\n",
      "Epoch [1], loss: 1.5681, c_index: 0.3354\n",
      "Epoch [2], loss: 1.8920, c_index: 0.3354\n",
      "Epoch [3], loss: 2.4567, c_index: 0.3354\n",
      "Epoch [4], loss: 1.9422, c_index: 0.3546\n",
      "Epoch [5], loss: 2.0387, c_index: 0.2969\n",
      "Epoch [6], loss: 2.1653, c_index: 0.3069\n",
      "Epoch [7], loss: 2.0675, c_index: 0.3078\n",
      "Epoch [8], loss: 2.0923, c_index: 0.3263\n",
      "Epoch [9], loss: 2.0793, c_index: 0.3161\n",
      "Epoch [10], loss: 2.1731, c_index: 0.3263\n",
      "L2:  0.1 LR:  0.001 Loss in Validation:  1.478912353515625\n",
      "Epoch [0], loss: 2.2573, c_index: 0.3354\n",
      "Epoch [1], loss: 1.4718, c_index: 0.3571\n",
      "Epoch [2], loss: 1.4637, c_index: 0.3446\n",
      "Epoch [3], loss: 2.1391, c_index: 0.3354\n",
      "Epoch [4], loss: 1.7738, c_index: 0.3354\n",
      "Epoch [5], loss: 1.8080, c_index: 0.3354\n",
      "Epoch [6], loss: 2.0152, c_index: 0.3354\n",
      "Epoch [7], loss: 1.8517, c_index: 0.3354\n",
      "Epoch [8], loss: 1.8947, c_index: 0.3354\n",
      "Epoch [9], loss: 1.9112, c_index: 0.3354\n",
      "Epoch [10], loss: 1.8795, c_index: 0.3354\n",
      "L2:  0.1 LR:  0.00075 Loss in Validation:  1.478912353515625\n",
      "Epoch [0], loss: 1.4070, c_index: 0.6646\n",
      "Epoch [1], loss: 2.1482, c_index: 0.3354\n",
      "Epoch [2], loss: 1.6046, c_index: 0.3354\n",
      "Epoch [3], loss: 1.9495, c_index: 0.3354\n",
      "Epoch [4], loss: 1.8710, c_index: 0.3354\n",
      "Epoch [5], loss: 1.8082, c_index: 0.3354\n",
      "Epoch [6], loss: 1.8949, c_index: 0.3354\n",
      "Epoch [7], loss: 1.8361, c_index: 0.3270\n",
      "Epoch [8], loss: 1.8476, c_index: 0.3078\n",
      "Epoch [9], loss: 1.8782, c_index: 0.2985\n",
      "Epoch [10], loss: 1.8889, c_index: 0.2985\n",
      "L2:  0.1 LR:  0.00075 Loss in Validation:  1.4491283893585205\n",
      "Epoch [0], loss: nan, c_index: 0.0000\n",
      "Epoch [1], loss: nan, c_index: 0.0000\n",
      "Epoch [2], loss: nan, c_index: 0.0000\n",
      "Epoch [3], loss: nan, c_index: 0.0000\n",
      "Epoch [4], loss: nan, c_index: 0.0000\n",
      "Epoch [5], loss: nan, c_index: 0.0000\n",
      "Epoch [6], loss: nan, c_index: 0.0000\n",
      "Epoch [7], loss: nan, c_index: 0.0000\n",
      "Epoch [8], loss: nan, c_index: 0.0000\n",
      "Epoch [9], loss: nan, c_index: 0.0000\n",
      "Epoch [10], loss: nan, c_index: 0.0000\n",
      "L2:  0.01 LR:  0.03 Loss in Validation:  1.4491283893585205\n",
      "Epoch [0], loss: nan, c_index: 0.0000\n",
      "Epoch [1], loss: nan, c_index: 0.0000\n",
      "Epoch [2], loss: nan, c_index: 0.0000\n",
      "Epoch [3], loss: nan, c_index: 0.0000\n",
      "Epoch [4], loss: nan, c_index: 0.0000\n",
      "Epoch [5], loss: nan, c_index: 0.0000\n",
      "Epoch [6], loss: nan, c_index: 0.0000\n",
      "Epoch [7], loss: nan, c_index: 0.0000\n",
      "Epoch [8], loss: nan, c_index: 0.0000\n",
      "Epoch [9], loss: nan, c_index: 0.0000\n",
      "Epoch [10], loss: nan, c_index: 0.0000\n",
      "L2:  0.01 LR:  0.03 Loss in Validation:  1.4491283893585205\n",
      "Epoch [0], loss: nan, c_index: 0.0000\n",
      "Epoch [1], loss: nan, c_index: 0.0000\n",
      "Epoch [2], loss: nan, c_index: 0.0000\n",
      "Epoch [3], loss: nan, c_index: 0.0000\n",
      "Epoch [4], loss: nan, c_index: 0.0000\n",
      "Epoch [5], loss: nan, c_index: 0.0000\n",
      "Epoch [6], loss: nan, c_index: 0.0000\n",
      "Epoch [7], loss: nan, c_index: 0.0000\n",
      "Epoch [8], loss: nan, c_index: 0.0000\n",
      "Epoch [9], loss: nan, c_index: 0.0000\n",
      "Epoch [10], loss: nan, c_index: 0.0000\n",
      "L2:  0.01 LR:  0.01 Loss in Validation:  1.4491283893585205\n",
      "Epoch [0], loss: nan, c_index: 0.0000\n",
      "Epoch [1], loss: nan, c_index: 0.0000\n",
      "Epoch [2], loss: nan, c_index: 0.0000\n",
      "Epoch [3], loss: nan, c_index: 0.0000\n",
      "Epoch [4], loss: nan, c_index: 0.0000\n",
      "Epoch [5], loss: nan, c_index: 0.0000\n",
      "Epoch [6], loss: nan, c_index: 0.0000\n",
      "Epoch [7], loss: nan, c_index: 0.0000\n",
      "Epoch [8], loss: nan, c_index: 0.0000\n",
      "Epoch [9], loss: nan, c_index: 0.0000\n",
      "Epoch [10], loss: nan, c_index: 0.0000\n",
      "L2:  0.01 LR:  0.01 Loss in Validation:  1.4491283893585205\n",
      "Epoch [0], loss: 1.5454, c_index: 0.3354\n",
      "Epoch [1], loss: 2.8536, c_index: 0.3354\n",
      "Epoch [2], loss: 1.7288, c_index: 0.3354\n",
      "Epoch [3], loss: 2.1577, c_index: 0.3354\n",
      "Epoch [4], loss: 2.2926, c_index: 0.3354\n",
      "Epoch [5], loss: 2.0729, c_index: 0.3354\n",
      "Epoch [6], loss: 2.2190, c_index: 0.3354\n",
      "Epoch [7], loss: 2.2007, c_index: 0.3354\n",
      "Epoch [8], loss: 2.1441, c_index: 0.3354\n",
      "Epoch [9], loss: 2.1700, c_index: 0.3354\n",
      "Epoch [10], loss: 2.1648, c_index: 0.3354\n",
      "L2:  0.01 LR:  0.001 Loss in Validation:  1.4491283893585205\n",
      "Epoch [0], loss: 2.9606, c_index: 0.3354\n",
      "Epoch [1], loss: 1.5713, c_index: 0.3453\n",
      "Epoch [2], loss: 1.8560, c_index: 0.3354\n",
      "Epoch [3], loss: 2.4615, c_index: 0.3354\n",
      "Epoch [4], loss: 1.9698, c_index: 0.2969\n",
      "Epoch [5], loss: 2.0422, c_index: 0.3078\n",
      "Epoch [6], loss: 2.1910, c_index: 0.3270\n",
      "Epoch [7], loss: 2.0323, c_index: 0.3170\n",
      "Epoch [8], loss: 1.9719, c_index: 0.3363\n",
      "Epoch [9], loss: 2.0587, c_index: 0.3277\n",
      "Epoch [10], loss: 2.0291, c_index: 0.3747\n",
      "L2:  0.01 LR:  0.001 Loss in Validation:  1.3775510787963867\n",
      "Epoch [0], loss: 1.5603, c_index: 0.6646\n",
      "Epoch [1], loss: 2.9647, c_index: 0.3354\n",
      "Epoch [2], loss: 1.4510, c_index: 0.6739\n",
      "Epoch [3], loss: 1.6387, c_index: 0.3354\n",
      "Epoch [4], loss: 2.2103, c_index: 0.3354\n",
      "Epoch [5], loss: 1.7500, c_index: 0.3354\n",
      "Epoch [6], loss: 1.8752, c_index: 0.3354\n",
      "Epoch [7], loss: 1.9781, c_index: 0.3354\n",
      "Epoch [8], loss: 1.8618, c_index: 0.3354\n",
      "Epoch [9], loss: 1.9211, c_index: 0.3354\n",
      "Epoch [10], loss: 1.8996, c_index: 0.3354\n",
      "L2:  0.01 LR:  0.00075 Loss in Validation:  1.3775510787963867\n",
      "Epoch [0], loss: 1.4036, c_index: 0.6646\n",
      "Epoch [1], loss: 2.0532, c_index: 0.3354\n",
      "Epoch [2], loss: 1.6261, c_index: 0.3354\n",
      "Epoch [3], loss: 1.9810, c_index: 0.3354\n",
      "Epoch [4], loss: 1.8451, c_index: 0.3546\n",
      "Epoch [5], loss: 1.8426, c_index: 0.3161\n",
      "Epoch [6], loss: 1.8999, c_index: 0.3354\n",
      "Epoch [7], loss: 1.8670, c_index: 0.2985\n",
      "Epoch [8], loss: 1.8302, c_index: 0.2985\n",
      "Epoch [9], loss: 1.9532, c_index: 0.3078\n",
      "Epoch [10], loss: 1.8465, c_index: 0.3703\n",
      "L2:  0.01 LR:  0.00075 Loss in Validation:  1.3775510787963867\n",
      "Epoch [0], loss: nan, c_index: 0.0000\n",
      "Epoch [1], loss: nan, c_index: 0.0000\n",
      "Epoch [2], loss: nan, c_index: 0.0000\n",
      "Epoch [3], loss: nan, c_index: 0.0000\n",
      "Epoch [4], loss: nan, c_index: 0.0000\n",
      "Epoch [5], loss: nan, c_index: 0.0000\n",
      "Epoch [6], loss: nan, c_index: 0.0000\n",
      "Epoch [7], loss: nan, c_index: 0.0000\n",
      "Epoch [8], loss: nan, c_index: 0.0000\n",
      "Epoch [9], loss: nan, c_index: 0.0000\n",
      "Epoch [10], loss: nan, c_index: 0.0000\n",
      "L2:  0.005 LR:  0.03 Loss in Validation:  1.3775510787963867\n",
      "Epoch [0], loss: nan, c_index: 0.0000\n",
      "Epoch [1], loss: nan, c_index: 0.0000\n",
      "Epoch [2], loss: nan, c_index: 0.0000\n",
      "Epoch [3], loss: nan, c_index: 0.0000\n",
      "Epoch [4], loss: nan, c_index: 0.0000\n",
      "Epoch [5], loss: nan, c_index: 0.0000\n",
      "Epoch [6], loss: nan, c_index: 0.0000\n",
      "Epoch [7], loss: nan, c_index: 0.0000\n",
      "Epoch [8], loss: nan, c_index: 0.0000\n",
      "Epoch [9], loss: nan, c_index: 0.0000\n",
      "Epoch [10], loss: nan, c_index: 0.0000\n",
      "L2:  0.005 LR:  0.03 Loss in Validation:  1.3775510787963867\n",
      "Epoch [0], loss: nan, c_index: 0.0000\n",
      "Epoch [1], loss: nan, c_index: 0.0000\n",
      "Epoch [2], loss: nan, c_index: 0.0000\n",
      "Epoch [3], loss: nan, c_index: 0.0000\n",
      "Epoch [4], loss: nan, c_index: 0.0000\n",
      "Epoch [5], loss: nan, c_index: 0.0000\n",
      "Epoch [6], loss: nan, c_index: 0.0000\n",
      "Epoch [7], loss: nan, c_index: 0.0000\n",
      "Epoch [8], loss: nan, c_index: 0.0000\n",
      "Epoch [9], loss: nan, c_index: 0.0000\n",
      "Epoch [10], loss: nan, c_index: 0.0000\n",
      "L2:  0.005 LR:  0.01 Loss in Validation:  1.3775510787963867\n",
      "Epoch [0], loss: nan, c_index: 0.0000\n",
      "Epoch [1], loss: nan, c_index: 0.0000\n",
      "Epoch [2], loss: nan, c_index: 0.0000\n",
      "Epoch [3], loss: nan, c_index: 0.0000\n",
      "Epoch [4], loss: nan, c_index: 0.0000\n",
      "Epoch [5], loss: nan, c_index: 0.0000\n",
      "Epoch [6], loss: nan, c_index: 0.0000\n",
      "Epoch [7], loss: nan, c_index: 0.0000\n",
      "Epoch [8], loss: nan, c_index: 0.0000\n",
      "Epoch [9], loss: nan, c_index: 0.0000\n",
      "Epoch [10], loss: nan, c_index: 0.0000\n",
      "L2:  0.005 LR:  0.01 Loss in Validation:  1.3775510787963867\n",
      "Epoch [0], loss: 4.7596, c_index: 0.3354\n",
      "Epoch [1], loss: 1.4037, c_index: 0.6646\n",
      "Epoch [2], loss: 1.3994, c_index: 0.6646\n",
      "Epoch [3], loss: 2.1877, c_index: 0.3354\n",
      "Epoch [4], loss: 2.4192, c_index: 0.3354\n",
      "Epoch [5], loss: 2.0494, c_index: 0.3354\n",
      "Epoch [6], loss: 2.2501, c_index: 0.3354\n",
      "Epoch [7], loss: 2.1800, c_index: 0.3354\n",
      "Epoch [8], loss: 2.1620, c_index: 0.3354\n",
      "Epoch [9], loss: 2.2032, c_index: 0.3354\n",
      "Epoch [10], loss: 2.2363, c_index: 0.3354\n",
      "L2:  0.005 LR:  0.001 Loss in Validation:  1.3775510787963867\n",
      "Epoch [0], loss: 1.5817, c_index: 0.3354\n",
      "Epoch [1], loss: 3.2991, c_index: 0.3354\n",
      "Epoch [2], loss: 1.6059, c_index: 0.3261\n",
      "Epoch [3], loss: 1.7404, c_index: 0.3354\n",
      "Epoch [4], loss: 2.5883, c_index: 0.3354\n",
      "Epoch [5], loss: 2.0005, c_index: 0.3069\n",
      "Epoch [6], loss: 2.0482, c_index: 0.3546\n",
      "Epoch [7], loss: 2.2871, c_index: 0.2893\n",
      "Epoch [8], loss: 2.1137, c_index: 0.3078\n",
      "Epoch [9], loss: 2.2370, c_index: 0.3263\n",
      "Epoch [10], loss: 2.2152, c_index: 0.3363\n",
      "L2:  0.005 LR:  0.001 Loss in Validation:  1.3775510787963867\n",
      "Epoch [0], loss: 1.6300, c_index: 0.3354\n",
      "Epoch [1], loss: 2.2192, c_index: 0.3354\n",
      "Epoch [2], loss: 1.6258, c_index: 0.3354\n",
      "Epoch [3], loss: 1.8899, c_index: 0.3354\n",
      "Epoch [4], loss: 1.8920, c_index: 0.3354\n",
      "Epoch [5], loss: 1.8328, c_index: 0.3354\n",
      "Epoch [6], loss: 1.8953, c_index: 0.3354\n",
      "Epoch [7], loss: 1.8634, c_index: 0.3354\n",
      "Epoch [8], loss: 1.8798, c_index: 0.3354\n",
      "Epoch [9], loss: 1.8779, c_index: 0.3354\n",
      "Epoch [10], loss: 1.8734, c_index: 0.3354\n",
      "L2:  0.005 LR:  0.00075 Loss in Validation:  1.3775510787963867\n",
      "Epoch [0], loss: 1.5762, c_index: 0.3354\n",
      "Epoch [1], loss: 1.7961, c_index: 0.3354\n",
      "Epoch [2], loss: 1.6207, c_index: 0.3354\n",
      "Epoch [3], loss: 2.0881, c_index: 0.3354\n",
      "Epoch [4], loss: 1.8070, c_index: 0.3354\n",
      "Epoch [5], loss: 1.8379, c_index: 0.3161\n",
      "Epoch [6], loss: 1.9735, c_index: 0.3161\n",
      "Epoch [7], loss: 1.8559, c_index: 0.3270\n",
      "Epoch [8], loss: 1.9001, c_index: 0.2985\n",
      "Epoch [9], loss: 1.9007, c_index: 0.3177\n",
      "Epoch [10], loss: 1.8902, c_index: 0.3710\n",
      "L2:  0.005 LR:  0.00075 Loss in Validation:  1.3711661100387573\n",
      "Epoch [0], loss: nan, c_index: 0.0000\n",
      "Epoch [1], loss: nan, c_index: 0.0000\n",
      "Epoch [2], loss: nan, c_index: 0.0000\n",
      "Epoch [3], loss: nan, c_index: 0.0000\n",
      "Epoch [4], loss: nan, c_index: 0.0000\n",
      "Epoch [5], loss: nan, c_index: 0.0000\n",
      "Epoch [6], loss: nan, c_index: 0.0000\n",
      "Epoch [7], loss: nan, c_index: 0.0000\n",
      "Epoch [8], loss: nan, c_index: 0.0000\n",
      "Epoch [9], loss: nan, c_index: 0.0000\n",
      "Epoch [10], loss: nan, c_index: 0.0000\n",
      "L2:  0.001 LR:  0.03 Loss in Validation:  1.3711661100387573\n",
      "Epoch [0], loss: nan, c_index: 0.0000\n",
      "Epoch [1], loss: nan, c_index: 0.0000\n",
      "Epoch [2], loss: nan, c_index: 0.0000\n",
      "Epoch [3], loss: nan, c_index: 0.0000\n",
      "Epoch [4], loss: nan, c_index: 0.0000\n",
      "Epoch [5], loss: nan, c_index: 0.0000\n",
      "Epoch [6], loss: nan, c_index: 0.0000\n",
      "Epoch [7], loss: nan, c_index: 0.0000\n",
      "Epoch [8], loss: nan, c_index: 0.0000\n",
      "Epoch [9], loss: nan, c_index: 0.0000\n",
      "Epoch [10], loss: nan, c_index: 0.0000\n",
      "L2:  0.001 LR:  0.03 Loss in Validation:  1.3711661100387573\n",
      "Epoch [0], loss: nan, c_index: 0.0000\n",
      "Epoch [1], loss: nan, c_index: 0.0000\n",
      "Epoch [2], loss: nan, c_index: 0.0000\n",
      "Epoch [3], loss: nan, c_index: 0.0000\n",
      "Epoch [4], loss: nan, c_index: 0.0000\n",
      "Epoch [5], loss: nan, c_index: 0.0000\n",
      "Epoch [6], loss: nan, c_index: 0.0000\n",
      "Epoch [7], loss: nan, c_index: 0.0000\n",
      "Epoch [8], loss: nan, c_index: 0.0000\n",
      "Epoch [9], loss: nan, c_index: 0.0000\n",
      "Epoch [10], loss: nan, c_index: 0.0000\n",
      "L2:  0.001 LR:  0.01 Loss in Validation:  1.3711661100387573\n",
      "Epoch [0], loss: nan, c_index: 0.0000\n",
      "Epoch [1], loss: nan, c_index: 0.0000\n",
      "Epoch [2], loss: nan, c_index: 0.0000\n",
      "Epoch [3], loss: nan, c_index: 0.0000\n",
      "Epoch [4], loss: nan, c_index: 0.0000\n",
      "Epoch [5], loss: nan, c_index: 0.0000\n",
      "Epoch [6], loss: nan, c_index: 0.0000\n",
      "Epoch [7], loss: nan, c_index: 0.0000\n",
      "Epoch [8], loss: nan, c_index: 0.0000\n",
      "Epoch [9], loss: nan, c_index: 0.0000\n",
      "Epoch [10], loss: nan, c_index: 0.0000\n",
      "L2:  0.001 LR:  0.01 Loss in Validation:  1.3711661100387573\n",
      "Epoch [0], loss: 1.4117, c_index: 0.6646\n",
      "Epoch [1], loss: 3.4672, c_index: 0.3354\n",
      "Epoch [2], loss: 1.5438, c_index: 0.3354\n",
      "Epoch [3], loss: 1.7339, c_index: 0.3354\n",
      "Epoch [4], loss: 2.6815, c_index: 0.3354\n",
      "Epoch [5], loss: 2.0032, c_index: 0.3354\n",
      "Epoch [6], loss: 2.1638, c_index: 0.3354\n",
      "Epoch [7], loss: 2.3434, c_index: 0.3354\n",
      "Epoch [8], loss: 2.1402, c_index: 0.3354\n",
      "Epoch [9], loss: 2.1937, c_index: 0.3354\n",
      "Epoch [10], loss: 2.2317, c_index: 0.3354\n",
      "L2:  0.001 LR:  0.001 Loss in Validation:  1.3711661100387573\n",
      "Epoch [0], loss: 2.4123, c_index: 0.3354\n",
      "Epoch [1], loss: 1.7399, c_index: 0.3354\n",
      "Epoch [2], loss: 2.1844, c_index: 0.3354\n",
      "Epoch [3], loss: 2.1147, c_index: 0.3354\n",
      "Epoch [4], loss: 2.0125, c_index: 0.3161\n",
      "Epoch [5], loss: 2.1564, c_index: 0.3161\n",
      "Epoch [6], loss: 2.0817, c_index: 0.2976\n",
      "Epoch [7], loss: 2.0086, c_index: 0.2985\n",
      "Epoch [8], loss: 2.0117, c_index: 0.3548\n",
      "Epoch [9], loss: 2.2157, c_index: 0.3548\n",
      "Epoch [10], loss: 2.4716, c_index: 0.3455\n",
      "L2:  0.001 LR:  0.001 Loss in Validation:  1.2853693962097168\n",
      "Epoch [0], loss: 2.4017, c_index: 0.3354\n",
      "Epoch [1], loss: 1.4867, c_index: 0.3546\n",
      "Epoch [2], loss: 1.8242, c_index: 0.3354\n",
      "Epoch [3], loss: 1.8971, c_index: 0.3354\n",
      "Epoch [4], loss: 1.7830, c_index: 0.3354\n",
      "Epoch [5], loss: 1.8865, c_index: 0.3354\n",
      "Epoch [6], loss: 1.8638, c_index: 0.3354\n",
      "Epoch [7], loss: 1.8776, c_index: 0.3354\n",
      "Epoch [8], loss: 1.8953, c_index: 0.3261\n",
      "Epoch [9], loss: 1.8526, c_index: 0.3354\n",
      "Epoch [10], loss: 1.8702, c_index: 0.3354\n",
      "L2:  0.001 LR:  0.00075 Loss in Validation:  1.2853693962097168\n",
      "Epoch [0], loss: 2.0892, c_index: 0.3354\n",
      "Epoch [1], loss: 1.5284, c_index: 0.3354\n",
      "Epoch [2], loss: 1.9091, c_index: 0.3354\n",
      "Epoch [3], loss: 1.8290, c_index: 0.3354\n",
      "Epoch [4], loss: 1.8073, c_index: 0.3161\n",
      "Epoch [5], loss: 1.9010, c_index: 0.3161\n",
      "Epoch [6], loss: 1.8311, c_index: 0.3254\n",
      "Epoch [7], loss: 1.8498, c_index: 0.2976\n",
      "Epoch [8], loss: 1.9082, c_index: 0.3802\n",
      "Epoch [9], loss: 1.8895, c_index: 0.3069\n",
      "Epoch [10], loss: 1.9256, c_index: 0.2985\n",
      "L2:  0.001 LR:  0.00075 Loss in Validation:  1.2853693962097168\n"
     ]
    }
   ],
   "source": [
    "for l2 in L2_Lambda:\n",
    "\tfor lr in Initial_Learning_Rate:\n",
    "\t\tfor do in Dropout_Rate:\n",
    "\t\t\thistory_train, history_val = trainCox_nnet(train_loader, \\\n",
    "\t\t\t\tval_loader, \\\n",
    "\t\t\t\tIn_Nodes, Hidden_Nodes, Out_Nodes, \\\n",
    "\t\t\t\tlr, l2, num_epochs, do)\n",
    "\t\t\tloss_train2 = [k['loss'] for k in history_train]\n",
    "\t\t\tif loss_train2[-1] =='nan': \n",
    "\t\t\t\tbreak\n",
    "\t\t\telif loss_train2[-1] < opt_loss:\n",
    "\t\t\t\topt_l2_loss = l2\n",
    "\t\t\t\topt_lr_loss = lr\n",
    "\t\t\t\topt_do_loss = do\n",
    "\t\t\t\topt_loss = loss_train2[-1]\n",
    "\t\t\t\t# opt_c_index_tr = c_index_tr\n",
    "\t\t\t\t# opt_c_index_va = c_index_va\n",
    "\t\t\tprint (\"L2: \", l2, \"LR: \", lr, \"Loss in Validation: \", opt_loss)"
   ]
  },
  {
   "cell_type": "code",
   "execution_count": 10,
   "metadata": {},
   "outputs": [
    {
     "name": "stdout",
     "output_type": "stream",
     "text": [
      "0.001 0.001 0.5\n"
     ]
    }
   ],
   "source": [
    "print(opt_l2_loss, opt_lr_loss, opt_do_loss)"
   ]
  },
  {
   "cell_type": "code",
   "execution_count": 11,
   "metadata": {},
   "outputs": [
    {
     "name": "stdout",
     "output_type": "stream",
     "text": [
      "Epoch [0], loss: 3.0143, c_index: 0.3354\n",
      "Epoch [1], loss: 1.5498, c_index: 0.3354\n",
      "Epoch [2], loss: 1.8460, c_index: 0.3354\n",
      "Epoch [3], loss: 2.4906, c_index: 0.3354\n",
      "Epoch [4], loss: 1.9191, c_index: 0.3069\n",
      "Epoch [5], loss: 2.0416, c_index: 0.3161\n",
      "Epoch [6], loss: 2.2125, c_index: 0.3161\n",
      "Epoch [7], loss: 2.0603, c_index: 0.3363\n",
      "Epoch [8], loss: 2.0029, c_index: 0.3462\n",
      "Epoch [9], loss: 1.9416, c_index: 0.3263\n",
      "Epoch [10], loss: 2.0945, c_index: 0.3355\n",
      "Epoch [11], loss: 2.4084, c_index: 0.3462\n",
      "Epoch [12], loss: 2.1705, c_index: 0.3539\n",
      "Epoch [13], loss: 2.0151, c_index: 0.4162\n",
      "Epoch [14], loss: 1.8502, c_index: 0.5300\n",
      "Epoch [15], loss: 1.9369, c_index: 0.3801\n",
      "Epoch [16], loss: 2.3431, c_index: 0.3122\n",
      "Epoch [17], loss: 2.1959, c_index: 0.3138\n",
      "Epoch [18], loss: 2.1449, c_index: 0.4041\n",
      "Epoch [19], loss: 2.0968, c_index: 0.3808\n",
      "Epoch [20], loss: 2.0858, c_index: 0.3416\n",
      "Epoch [21], loss: 2.1567, c_index: 0.3909\n",
      "Epoch [22], loss: 2.0053, c_index: 0.4239\n",
      "Epoch [23], loss: 2.1032, c_index: 0.4850\n",
      "Epoch [24], loss: 2.0618, c_index: 0.3671\n",
      "Epoch [25], loss: 2.0115, c_index: 0.4472\n",
      "Epoch [26], loss: 2.6325, c_index: 0.3817\n",
      "Epoch [27], loss: 3.7264, c_index: 0.3625\n",
      "Epoch [28], loss: 3.6776, c_index: 0.3747\n",
      "Epoch [29], loss: 4.0781, c_index: 0.3354\n",
      "Epoch [30], loss: 3.9873, c_index: 0.4217\n",
      "Epoch [31], loss: 2.6025, c_index: 0.4987\n",
      "Epoch [32], loss: 2.1814, c_index: 0.4732\n",
      "Epoch [33], loss: 2.2766, c_index: 0.4130\n",
      "Epoch [34], loss: 1.9853, c_index: 0.4322\n",
      "Epoch [35], loss: 1.8362, c_index: 0.5785\n",
      "Epoch [36], loss: 4.0887, c_index: 0.3865\n",
      "Epoch [37], loss: 4.1704, c_index: 0.3949\n",
      "Epoch [38], loss: 2.1297, c_index: 0.5913\n",
      "Epoch [39], loss: 1.9463, c_index: 0.5585\n",
      "Epoch [40], loss: 1.6254, c_index: 0.6450\n",
      "Epoch [41], loss: 3.2426, c_index: 0.4178\n",
      "Epoch [42], loss: 3.1725, c_index: 0.4080\n",
      "Epoch [43], loss: 2.6323, c_index: 0.5012\n",
      "Epoch [44], loss: 2.7532, c_index: 0.5528\n",
      "Epoch [45], loss: 2.7642, c_index: 0.5690\n",
      "Epoch [46], loss: 2.4909, c_index: 0.6066\n",
      "Epoch [47], loss: 2.6276, c_index: 0.5156\n",
      "Epoch [48], loss: 2.4444, c_index: 0.4012\n",
      "Epoch [49], loss: 2.4706, c_index: 0.4821\n",
      "Epoch [50], loss: 2.1337, c_index: 0.6283\n",
      "Optimal L2:  0.001 Optimal LR:  0.001\n"
     ]
    }
   ],
   "source": [
    "###train Cox-PASNet with optimal hyperparameters using train data, and then evaluate the trained model with test data\n",
    "###Note that test data are only used to evaluate the trained Cox-nnet\n",
    "history_train, history_val = trainCox_nnet(train_loader, \\\n",
    "\t\t\tval_loader, \\\n",
    "\t\t\tIn_Nodes, Hidden_Nodes, Out_Nodes, \\\n",
    "\t\t\topt_lr_loss, opt_l2_loss, Num_EPOCHS, opt_do_loss)\n",
    "print (\"Optimal L2: \", opt_l2_loss, \"Optimal LR: \", opt_lr_loss)\n",
    "# print(\"C-index in Test: \", c_index_te)\n",
    "\n"
   ]
  },
  {
   "cell_type": "code",
   "execution_count": 12,
   "metadata": {},
   "outputs": [],
   "source": [
    "# print(history_train)\n",
    "# print(history_val)"
   ]
  },
  {
   "cell_type": "code",
   "execution_count": 13,
   "metadata": {},
   "outputs": [],
   "source": [
    "loss_train2 = [k['loss'] for k in history_train]\n",
    "loss_val2 = [k['loss'] for k in history_val] \n",
    "c_index_tr2 = [k['c_index'] for k in history_train]\n",
    "c_index_val2 = [k['c_index'] for k in history_val]\n",
    "\n",
    "epoch = np.arange(0,Num_EPOCHS+1)\n"
   ]
  },
  {
   "cell_type": "code",
   "execution_count": 14,
   "metadata": {},
   "outputs": [],
   "source": [
    "# loss_train2 = [k.detach().numpy() for k in loss_train]\n",
    "# loss_test2 = [k.detach().numpy() for k in loss_test]\n",
    "# c_index_tr2 = [k.detach().numpy() for k in c_index_tr]\n",
    "# c_index_te2 = [k.detach().numpy() for k in c_index_te]\n",
    "# epoch = np.arange(0,Num_EPOCHS+2,2)"
   ]
  },
  {
   "cell_type": "code",
   "execution_count": 15,
   "metadata": {},
   "outputs": [
    {
     "name": "stdout",
     "output_type": "stream",
     "text": [
      "[3.483790397644043, 2.102374315261841, 1.5068916082382202, 1.759832739830017, 1.87688410282135, 1.5839054584503174, 1.616434097290039, 1.6155530214309692, 1.4860621690750122, 1.304370403289795, 1.25837242603302, 1.2022229433059692, 1.2679414749145508, 1.0150806903839111, 0.9035519957542419, 0.8410600423812866, 0.8151980042457581, 0.7570247054100037, 0.771257221698761, 0.705918550491333, 0.6862906813621521, 0.703738272190094, 0.6339458227157593, 0.6206567883491516, 0.6749763488769531, 0.5741763114929199, 0.6946188807487488, 0.6413479447364807, 0.7313249707221985, 0.7688548564910889, 0.9775720834732056, 0.7345966696739197, 0.8405317664146423, 0.608130693435669, 0.5575577020645142, 0.5881269574165344, 1.2566934823989868, 1.544670820236206, 1.0098483562469482, 0.6966341137886047, 0.5206819176673889, 0.5827054381370544, 0.6285219192504883, 0.6197458505630493, 0.5544160604476929, 0.5400365591049194, 0.536476731300354, 0.5171306133270264, 0.49136802554130554, 0.4466812014579773, 0.44115737080574036]\n"
     ]
    }
   ],
   "source": [
    "print(loss_train2)\n",
    "# print(len(yevent_train))"
   ]
  },
  {
   "cell_type": "code",
   "execution_count": 16,
   "metadata": {},
   "outputs": [
    {
     "data": {
      "text/plain": [
       "<matplotlib.legend.Legend at 0x1c2de19bca0>"
      ]
     },
     "execution_count": 16,
     "metadata": {},
     "output_type": "execute_result"
    },
    {
     "data": {
      "image/png": "[encoded data removed]",
      "text/plain": [
       "<Figure size 432x288 with 1 Axes>"
      ]
     },
     "metadata": {
      "needs_background": "light"
     },
     "output_type": "display_data"
    }
   ],
   "source": [
    "import matplotlib.pyplot as plt \n",
    "plt.plot(epoch, loss_train2, label = 'training')\n",
    "plt.plot(epoch, loss_val2, label = 'testing')\n",
    "plt.ylabel('loss = log likelihood')\n",
    "plt.xlabel('epochs')\n",
    "plt.legend()\n"
   ]
  },
  {
   "cell_type": "code",
   "execution_count": 17,
   "metadata": {},
   "outputs": [
    {
     "data": {
      "text/plain": [
       "<matplotlib.legend.Legend at 0x1c2de2c2f10>"
      ]
     },
     "execution_count": 17,
     "metadata": {},
     "output_type": "execute_result"
    },
    {
     "data": {
      "image/png": "[encoded data removed]",
      "text/plain": [
       "<Figure size 432x288 with 1 Axes>"
      ]
     },
     "metadata": {
      "needs_background": "light"
     },
     "output_type": "display_data"
    }
   ],
   "source": [
    "import matplotlib.pyplot as plt \n",
    "plt.plot(epoch, c_index_tr2, label = 'training')\n",
    "plt.plot(epoch, c_index_val2, label = 'testing')\n",
    "plt.ylabel('accuracy = c_index')\n",
    "plt.xlabel('epochs')\n",
    "plt.legend()\n"
   ]
  },
  {
   "cell_type": "code",
   "execution_count": 18,
   "metadata": {},
   "outputs": [
    {
     "ename": "NameError",
     "evalue": "name 'c_index_te' is not defined",
     "output_type": "error",
     "traceback": [
      "\u001b[1;31m---------------------------------------------------------------------------\u001b[0m",
      "\u001b[1;31mNameError\u001b[0m                                 Traceback (most recent call last)",
      "\u001b[1;32m~\\AppData\\Local\\Temp/ipykernel_19372/1447945293.py\u001b[0m in \u001b[0;36m<module>\u001b[1;34m\u001b[0m\n\u001b[1;32m----> 1\u001b[1;33m \u001b[0mprint\u001b[0m\u001b[1;33m(\u001b[0m\u001b[0mc_index_te\u001b[0m\u001b[1;33m[\u001b[0m\u001b[1;33m-\u001b[0m\u001b[1;36m1\u001b[0m\u001b[1;33m]\u001b[0m\u001b[1;33m)\u001b[0m\u001b[1;33m\u001b[0m\u001b[1;33m\u001b[0m\u001b[0m\n\u001b[0m",
      "\u001b[1;31mNameError\u001b[0m: name 'c_index_te' is not defined"
     ]
    }
   ],
   "source": [
    "print(c_index_te[-1])"
   ]
  },
  {
   "cell_type": "code",
   "execution_count": null,
   "metadata": {},
   "outputs": [],
   "source": [
    "def get_default_device():\n",
    "    \"\"\"Pick GPU if available, else CPU\"\"\"\n",
    "    if torch.cuda.is_available():\n",
    "        return torch.device('cuda')\n",
    "    else:\n",
    "        return torch.device('cpu')\n"
   ]
  },
  {
   "cell_type": "code",
   "execution_count": null,
   "metadata": {},
   "outputs": [
    {
     "data": {
      "text/plain": [
       "device(type='cpu')"
      ]
     },
     "execution_count": 17,
     "metadata": {},
     "output_type": "execute_result"
    }
   ],
   "source": [
    "get_default_device()"
   ]
  },
  {
   "cell_type": "code",
   "execution_count": null,
   "metadata": {},
   "outputs": [],
   "source": [
    "from Survival_CostFunc_CIndex import R_set, neg_par_log_likelihood, c_index\n",
    "from Model2 import Cox_nnet\n",
    "\n",
    "net = Cox_nnet(In_Nodes, Hidden_Nodes, Out_Nodes)\n",
    "net.eval()\n",
    "test_pred = net(x_test, age_test)\n",
    "eval_loss = []\n",
    "eval_cindex=[]\n",
    "eval_loss.append(neg_par_log_likelihood(test_pred, ytime_test, yevent_test).view(1,))\n",
    "eval_cindex.append(c_index(test_pred, ytime_test, yevent_test))"
   ]
  },
  {
   "cell_type": "code",
   "execution_count": null,
   "metadata": {},
   "outputs": [
    {
     "name": "stdout",
     "output_type": "stream",
     "text": [
      "[tensor([7.7761], grad_fn=<ViewBackward0>)] [tensor(0.4251)]\n"
     ]
    }
   ],
   "source": [
    "print(eval_loss, eval_cindex)"
   ]
  },
  {
   "cell_type": "code",
   "execution_count": null,
   "metadata": {},
   "outputs": [
    {
     "data": {
      "text/plain": [
       "36"
      ]
     },
     "execution_count": 18,
     "metadata": {},
     "output_type": "execute_result"
    }
   ],
   "source": [
    "len(x_test)"
   ]
  },
  {
   "cell_type": "code",
   "execution_count": null,
   "metadata": {},
   "outputs": [],
   "source": []
  }
 ],
 "metadata": {
  "kernelspec": {
   "display_name": "Python 3.9.7 ('base')",
   "language": "python",
   "name": "python3"
  },
  "language_info": {
   "codemirror_mode": {
    "name": "ipython",
    "version": 3
   },
   "file_extension": ".py",
   "mimetype": "text/x-python",
   "name": "python",
   "nbconvert_exporter": "python",
   "pygments_lexer": "ipython3",
   "version": "3.9.7"
  },
  "orig_nbformat": 4,
  "vscode": {
   "interpreter": {
    "hash": "eb288fa2e0b97d7fe5d36e6cd017a998fc9aeeeb66a354179c06f074395a5c37"
   }
  }
 },
 "nbformat": 4,
 "nbformat_minor": 2
}
