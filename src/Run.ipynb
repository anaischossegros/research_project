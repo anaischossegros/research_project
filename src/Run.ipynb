{
 "cells": [
  {
   "cell_type": "code",
   "execution_count": 1,
   "metadata": {},
   "outputs": [],
   "source": [
    "from Data_Loader import load_data\n",
    "from Train import trainCox_nnet\n",
    "\n",
    "import torch\n",
    "import numpy as np\n",
    "import pandas as pd\n",
    "from torch.utils.data.sampler import SubsetRandomSampler\n",
    "from torch.utils.data.dataloader import DataLoader"
   ]
  },
  {
   "cell_type": "code",
   "execution_count": 2,
   "metadata": {},
   "outputs": [],
   "source": [
    "dtype = torch.FloatTensor\n",
    "''' Net Settings'''\n",
    "In_Nodes = 55553 ###number of genes\n",
    "Hidden_Nodes = 100 ###number of hidden nodes\n",
    "Out_Nodes = 30 ###number of hidden nodes in the last hidden layer\n",
    "''' Initialize '''\n",
    "Initial_Learning_Rate = [0.03, 0.01, 0.001, 0.00075]\n",
    "L2_Lambda = [0.1, 0.01, 0.005, 0.001]\n",
    "num_epochs = 10 ###for grid search\n",
    "Num_EPOCHS = 50 ###for training\n",
    "###sub-network setup\n",
    "Dropout_Rate = [0.7]"
   ]
  },
  {
   "cell_type": "code",
   "execution_count": 3,
   "metadata": {},
   "outputs": [],
   "source": [
    "from Data_extraction import output_df2, x_df2  "
   ]
  },
  {
   "cell_type": "code",
   "execution_count": 14,
   "metadata": {},
   "outputs": [
    {
     "name": "stdout",
     "output_type": "stream",
     "text": [
      "106\n"
     ]
    }
   ],
   "source": [
    "# print(len(ytime_train))"
   ]
  },
  {
   "cell_type": "code",
   "execution_count": 4,
   "metadata": {},
   "outputs": [
    {
     "name": "stderr",
     "output_type": "stream",
     "text": [
      "c:\\Users\\anais\\Documents\\2-Imperial\\0-Research-Project\\4-NN\\Cox-nnet model\\src\\Data_Loader.py:11: SettingWithCopyWarning: \n",
      "A value is trying to be set on a copy of a slice from a DataFrame.\n",
      "Try using .loc[row_indexer,col_indexer] = value instead\n",
      "\n",
      "See the caveats in the documentation: https://pandas.pydata.org/pandas-docs/stable/user_guide/indexing.html#returning-a-view-versus-a-copy\n",
      "  data['days_to_last_follow_up']=np.where(data['days_to_last_follow_up']==\"'--\", 1000, data['days_to_last_follow_up'])\n",
      "c:\\Users\\anais\\Documents\\2-Imperial\\0-Research-Project\\4-NN\\Cox-nnet model\\src\\Data_Loader.py:12: SettingWithCopyWarning: \n",
      "A value is trying to be set on a copy of a slice from a DataFrame.\n",
      "Try using .loc[row_indexer,col_indexer] = value instead\n",
      "\n",
      "See the caveats in the documentation: https://pandas.pydata.org/pandas-docs/stable/user_guide/indexing.html#returning-a-view-versus-a-copy\n",
      "  data['days_to_death']= np.where(data['days_to_death'] == \"'--\", data['days_to_last_follow_up'],data['days_to_death'])\n",
      "c:\\Users\\anais\\Documents\\2-Imperial\\0-Research-Project\\4-NN\\Cox-nnet model\\src\\Data_Loader.py:13: SettingWithCopyWarning: \n",
      "A value is trying to be set on a copy of a slice from a DataFrame.\n",
      "Try using .loc[row_indexer,col_indexer] = value instead\n",
      "\n",
      "See the caveats in the documentation: https://pandas.pydata.org/pandas-docs/stable/user_guide/indexing.html#returning-a-view-versus-a-copy\n",
      "  data['days_to_death']=data['days_to_death'].astype(float)\n",
      "c:\\Users\\anais\\Documents\\2-Imperial\\0-Research-Project\\4-NN\\Cox-nnet model\\src\\Data_Loader.py:14: SettingWithCopyWarning: \n",
      "A value is trying to be set on a copy of a slice from a DataFrame.\n",
      "Try using .loc[row_indexer,col_indexer] = value instead\n",
      "\n",
      "See the caveats in the documentation: https://pandas.pydata.org/pandas-docs/stable/user_guide/indexing.html#returning-a-view-versus-a-copy\n",
      "  data['age_at_diagnosis']=data['age_at_diagnosis'].astype(float)\n",
      "c:\\Users\\anais\\Documents\\2-Imperial\\0-Research-Project\\4-NN\\Cox-nnet model\\src\\Data_Loader.py:15: SettingWithCopyWarning: \n",
      "A value is trying to be set on a copy of a slice from a DataFrame.\n",
      "Try using .loc[row_indexer,col_indexer] = value instead\n",
      "\n",
      "See the caveats in the documentation: https://pandas.pydata.org/pandas-docs/stable/user_guide/indexing.html#returning-a-view-versus-a-copy\n",
      "  data['vital_status'] = np.where((data.vital_status=='Alive') & (data.days_to_last_follow_up.astype(float)<240), 0, 1)\n",
      "c:\\Users\\anais\\anaconda3\\lib\\site-packages\\pandas\\util\\_decorators.py:311: SettingWithCopyWarning: \n",
      "A value is trying to be set on a copy of a slice from a DataFrame\n",
      "\n",
      "See the caveats in the documentation: https://pandas.pydata.org/pandas-docs/stable/user_guide/indexing.html#returning-a-view-versus-a-copy\n",
      "  return func(*args, **kwargs)\n"
     ]
    }
   ],
   "source": [
    "data = pd.concat([x_df2,output_df2],axis=1)\n",
    "\n",
    "def split_indices(n, val_pct1, val_pct2):\n",
    "\tn1 = int(val_pct1*n)\n",
    "\tn2 = int(val_pct2*n)\n",
    "\tidxs = np.random.permutation(n)\n",
    "\treturn idxs[:n1], idxs[n1:n2], idxs[n2:]\n",
    "\n",
    "train_index, val_index, test_index = split_indices(len(data),0.6, 0.8)\n",
    "data_train = data.iloc[train_index]\n",
    "data_val = data.iloc[val_index]\n",
    "data_test = data.iloc[test_index]\n",
    "\n",
    "x_train, ytime_train, yevent_train, age_train = load_data(data_train, dtype)\n",
    "x_valid, ytime_valid, yevent_valid, age_valid = load_data(data_val, dtype)\n",
    "x_test, ytime_test, yevent_test, age_test = load_data(data_test,dtype)"
   ]
  },
  {
   "cell_type": "code",
   "execution_count": 33,
   "metadata": {},
   "outputs": [],
   "source": [
    "batch_size=5\n",
    "\n",
    "train_sampler = SubsetRandomSampler(train_index)\n",
    "train_loader = DataLoader(data, batch_size, sampler=train_sampler)\n",
    "\n",
    "val_sampler=SubsetRandomSampler(val_index)\n",
    "val_loader = DataLoader(data, batch_size, sampler=val_sampler)"
   ]
  },
  {
   "cell_type": "code",
   "execution_count": 39,
   "metadata": {},
   "outputs": [
    {
     "name": "stdout",
     "output_type": "stream",
     "text": [
      "<torch.utils.data.sampler.SubsetRandomSampler object at 0x0000012ED31CBDF0>\n"
     ]
    }
   ],
   "source": [
    "print(train_sampler)"
   ]
  },
  {
   "cell_type": "code",
   "execution_count": 5,
   "metadata": {},
   "outputs": [],
   "source": [
    "opt_l2_loss = 0\n",
    "opt_lr_loss = 0\n",
    "opt_loss = torch.Tensor([float(\"Inf\")])\n",
    "###if gpu is being used\n",
    "if torch.cuda.is_available():\n",
    "\topt_loss = opt_loss.cuda()\n",
    "###\n",
    "opt_c_index_va = 0\n",
    "opt_c_index_tr = 0"
   ]
  },
  {
   "cell_type": "code",
   "execution_count": 6,
   "metadata": {},
   "outputs": [],
   "source": [
    "# for l2 in L2_Lambda:\n",
    "# \tfor lr in Initial_Learning_Rate:\n",
    "# \t\tloss_train, loss_valid, c_index_tr, c_index_va = trainCox_nnet(x_train, age_train, ytime_train, yevent_train, \\\n",
    "# \t\t\t\t\t\t\t\t\t\t\t\t\t\t\t\tx_valid, age_valid, ytime_valid, yevent_valid, \\\n",
    "# \t\t\t\t\t\t\t\t\t\t\t\t\t\t\t\tIn_Nodes, Hidden_Nodes, Out_Nodes, \\\n",
    "# \t\t\t\t\t\t\t\t\t\t\t\t\t\t\t\tlr, l2, num_epochs, Dropout_Rate)\n",
    "# \t\tif loss_valid < opt_loss:\n",
    "# \t\t\topt_l2_loss = l2\n",
    "# \t\t\topt_lr_loss = lr\n",
    "# \t\t\topt_loss = loss_valid\n",
    "# \t\t\topt_c_index_tr = c_index_tr\n",
    "# \t\t\topt_c_index_va = c_index_va\n",
    "# \t\tprint (\"L2: \", l2, \"LR: \", lr, \"Loss in Validation: \", loss_valid)"
   ]
  },
  {
   "cell_type": "code",
   "execution_count": 6,
   "metadata": {},
   "outputs": [
    {
     "name": "stdout",
     "output_type": "stream",
     "text": [
      "Optimal L2:  0.01 Optimal LR:  0.00075\n"
     ]
    }
   ],
   "source": [
    "\n",
    "###train Cox-PASNet with optimal hyperparameters using train data, and then evaluate the trained model with test data\n",
    "###Note that test data are only used to evaluate the trained Cox-nnet\n",
    "opt_lr_loss = 0.00075\n",
    "opt_l2_loss = 0.01\n",
    "loss_train, loss_test, c_index_tr, c_index_te = trainCox_nnet(x_train, age_train, ytime_train, yevent_train, \\\n",
    "\t\t\t\t\t\t\tx_test, age_test, ytime_test, yevent_test,  \\\n",
    "\t\t\t\t\t\t\tIn_Nodes, Hidden_Nodes, Out_Nodes, \\\n",
    "\t\t\t\t\t\t\topt_lr_loss, opt_l2_loss, Num_EPOCHS, Dropout_Rate)\n",
    "print (\"Optimal L2: \", opt_l2_loss, \"Optimal LR: \", opt_lr_loss)\n",
    "# print(\"C-index in Test: \", c_index_te)\n",
    "\n"
   ]
  },
  {
   "cell_type": "code",
   "execution_count": 7,
   "metadata": {},
   "outputs": [],
   "source": [
    "loss_train2 = [k.detach().numpy() for k in loss_train]\n",
    "loss_test2 = [k.detach().numpy() for k in loss_test]\n",
    "c_index_tr2 = [k.detach().numpy() for k in c_index_tr]\n",
    "c_index_te2 = [k.detach().numpy() for k in c_index_te]\n",
    "epoch = np.arange(0,Num_EPOCHS+2,2)"
   ]
  },
  {
   "cell_type": "code",
   "execution_count": 8,
   "metadata": {},
   "outputs": [
    {
     "name": "stdout",
     "output_type": "stream",
     "text": [
      "106\n"
     ]
    }
   ],
   "source": [
    "# print(yevent_train)\n",
    "print(len(yevent_train))"
   ]
  },
  {
   "cell_type": "code",
   "execution_count": 9,
   "metadata": {},
   "outputs": [
    {
     "data": {
      "text/plain": [
       "<matplotlib.legend.Legend at 0x23372e44a60>"
      ]
     },
     "execution_count": 9,
     "metadata": {},
     "output_type": "execute_result"
    },
    {
     "data": {
      "image/png": "[encoded data removed]",
      "text/plain": [
       "<Figure size 432x288 with 1 Axes>"
      ]
     },
     "metadata": {
      "needs_background": "light"
     },
     "output_type": "display_data"
    }
   ],
   "source": [
    "import matplotlib.pyplot as plt \n",
    "plt.plot(epoch, loss_train2, label = 'training')\n",
    "plt.plot(epoch, loss_test2, label = 'validation')\n",
    "plt.ylabel('loss = log likelihood')\n",
    "plt.xlabel('epochs')\n",
    "plt.legend()\n"
   ]
  },
  {
   "cell_type": "code",
   "execution_count": 10,
   "metadata": {},
   "outputs": [
    {
     "data": {
      "text/plain": [
       "<matplotlib.legend.Legend at 0x23372f74970>"
      ]
     },
     "execution_count": 10,
     "metadata": {},
     "output_type": "execute_result"
    },
    {
     "data": {
      "image/png": "[encoded data removed]",
      "text/plain": [
       "<Figure size 432x288 with 1 Axes>"
      ]
     },
     "metadata": {
      "needs_background": "light"
     },
     "output_type": "display_data"
    }
   ],
   "source": [
    "import matplotlib.pyplot as plt \n",
    "plt.plot(epoch, c_index_tr2, label = 'training')\n",
    "plt.plot(epoch, c_index_te2, label = 'validation')\n",
    "plt.ylabel('accuracy = c_index')\n",
    "plt.xlabel('epochs')\n",
    "plt.legend()\n"
   ]
  },
  {
   "cell_type": "code",
   "execution_count": 16,
   "metadata": {},
   "outputs": [],
   "source": [
    "def get_default_device():\n",
    "    \"\"\"Pick GPU if available, else CPU\"\"\"\n",
    "    if torch.cuda.is_available():\n",
    "        return torch.device('cuda')\n",
    "    else:\n",
    "        return torch.device('cpu')\n"
   ]
  },
  {
   "cell_type": "code",
   "execution_count": 17,
   "metadata": {},
   "outputs": [
    {
     "data": {
      "text/plain": [
       "device(type='cpu')"
      ]
     },
     "execution_count": 17,
     "metadata": {},
     "output_type": "execute_result"
    }
   ],
   "source": [
    "get_default_device()"
   ]
  },
  {
   "cell_type": "code",
   "execution_count": null,
   "metadata": {},
   "outputs": [],
   "source": []
  }
 ],
 "metadata": {
  "kernelspec": {
   "display_name": "Python 3.9.7 ('base')",
   "language": "python",
   "name": "python3"
  },
  "language_info": {
   "codemirror_mode": {
    "name": "ipython",
    "version": 3
   },
   "file_extension": ".py",
   "mimetype": "text/x-python",
   "name": "python",
   "nbconvert_exporter": "python",
   "pygments_lexer": "ipython3",
   "version": "3.9.7"
  },
  "orig_nbformat": 4,
  "vscode": {
   "interpreter": {
    "hash": "eb288fa2e0b97d7fe5d36e6cd017a998fc9aeeeb66a354179c06f074395a5c37"
   }
  }
 },
 "nbformat": 4,
 "nbformat_minor": 2
}
