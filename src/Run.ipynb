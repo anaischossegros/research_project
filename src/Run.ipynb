{
 "cells": [
  {
   "cell_type": "code",
   "execution_count": 2,
   "metadata": {},
   "outputs": [],
   "source": [
    "from Data_Loader import load_data\n",
    "from Train import trainCox_nnet\n",
    "\n",
    "import torch\n",
    "import numpy as np\n",
    "import pandas as pd"
   ]
  },
  {
   "cell_type": "code",
   "execution_count": 3,
   "metadata": {},
   "outputs": [],
   "source": [
    "dtype = torch.FloatTensor\n",
    "''' Net Settings'''\n",
    "In_Nodes = 55553 ###number of genes\n",
    "Hidden_Nodes = 100 ###number of hidden nodes\n",
    "Out_Nodes = 30 ###number of hidden nodes in the last hidden layer\n",
    "''' Initialize '''\n",
    "Initial_Learning_Rate = [0.03, 0.01, 0.001, 0.00075]\n",
    "L2_Lambda = [0.1, 0.01, 0.005, 0.001]\n",
    "num_epochs = 300 ###for grid search\n",
    "Num_EPOCHS = 2000 ###for training\n",
    "###sub-network setup\n",
    "Dropout_Rate = [0.7]"
   ]
  },
  {
   "cell_type": "code",
   "execution_count": 4,
   "metadata": {},
   "outputs": [
    {
     "ename": "FileNotFoundError",
     "evalue": "[Errno 2] No such file or directory: 'C:\\\\Users\\\\anais\\\\Documents\\\\2-Imperial\\\\0-Research-Project\\\\4-NN\\\\Cox-nnet model\\\\output\\\\clinical.tsv'",
     "output_type": "error",
     "traceback": [
      "\u001b[1;31m---------------------------------------------------------------------------\u001b[0m",
      "\u001b[1;31mFileNotFoundError\u001b[0m                         Traceback (most recent call last)",
      "\u001b[1;32m~\\AppData\\Local\\Temp/ipykernel_4828/3163399541.py\u001b[0m in \u001b[0;36m<module>\u001b[1;34m\u001b[0m\n\u001b[1;32m----> 1\u001b[1;33m \u001b[1;32mfrom\u001b[0m \u001b[0mData_extraction\u001b[0m \u001b[1;32mimport\u001b[0m \u001b[0moutput_df2\u001b[0m\u001b[1;33m,\u001b[0m \u001b[0mx_df2\u001b[0m\u001b[1;33m\u001b[0m\u001b[1;33m\u001b[0m\u001b[0m\n\u001b[0m",
      "\u001b[1;32mc:\\Users\\anais\\Documents\\2-Imperial\\0-Research-Project\\4-NN\\Cox-nnet model\\src\\Data_extraction.py\u001b[0m in \u001b[0;36m<module>\u001b[1;34m\u001b[0m\n\u001b[0;32m     29\u001b[0m \u001b[1;31m#now let's get the outputs\u001b[0m\u001b[1;33m\u001b[0m\u001b[1;33m\u001b[0m\u001b[0m\n\u001b[0;32m     30\u001b[0m \u001b[0moutput_path\u001b[0m \u001b[1;33m=\u001b[0m \u001b[0mPath\u001b[0m\u001b[1;33m(\u001b[0m\u001b[1;34m'C:/Users/anais/Documents/2-Imperial/0-Research-Project/4-NN/Cox-nnet model/output/clinical.tsv'\u001b[0m\u001b[1;33m)\u001b[0m\u001b[1;33m\u001b[0m\u001b[1;33m\u001b[0m\u001b[0m\n\u001b[1;32m---> 31\u001b[1;33m \u001b[0moutput_df\u001b[0m \u001b[1;33m=\u001b[0m \u001b[0mpd\u001b[0m\u001b[1;33m.\u001b[0m\u001b[0mread_csv\u001b[0m\u001b[1;33m(\u001b[0m\u001b[0moutput_path\u001b[0m\u001b[1;33m,\u001b[0m \u001b[0msep\u001b[0m\u001b[1;33m=\u001b[0m\u001b[1;34m\"\\t\"\u001b[0m\u001b[1;33m,\u001b[0m \u001b[0mnames\u001b[0m \u001b[1;33m=\u001b[0m \u001b[1;33m[\u001b[0m\u001b[1;34m'case_id'\u001b[0m\u001b[1;33m,\u001b[0m      \u001b[1;34m'case_submitter_id'\u001b[0m\u001b[1;33m,\u001b[0m    \u001b[1;34m'project_id'\u001b[0m\u001b[1;33m,\u001b[0m   \u001b[1;34m'age_at_index'\u001b[0m\u001b[1;33m,\u001b[0m \u001b[1;34m'age_is_obfuscated'\u001b[0m\u001b[1;33m,\u001b[0m \u001b[1;34m'cause_of_death'\u001b[0m\u001b[1;33m,\u001b[0m \u001b[1;34m'cause_of_death_source'\u001b[0m\u001b[1;33m,\u001b[0m \u001b[1;34m'country_of_residence_at_enrollment'\u001b[0m\u001b[1;33m,\u001b[0m   \u001b[1;34m'days_to_birth'\u001b[0m\u001b[1;33m,\u001b[0m        \u001b[1;34m'days_to_death'\u001b[0m\u001b[1;33m,\u001b[0m \u001b[1;34m'ethnicity'\u001b[0m\u001b[1;33m,\u001b[0m   \u001b[1;34m'gender'\u001b[0m\u001b[1;33m,\u001b[0m       \u001b[1;34m'occupation_duration_years'\u001b[0m\u001b[1;33m,\u001b[0m    \u001b[1;34m'premature_at_birth'\u001b[0m\u001b[1;33m,\u001b[0m   \u001b[1;34m'race'\u001b[0m\u001b[1;33m,\u001b[0m \u001b[1;34m'vital_status'\u001b[0m\u001b[1;33m,\u001b[0m \u001b[1;34m'weeks_gestation_at_birth'\u001b[0m\u001b[1;33m,\u001b[0m     \u001b[1;34m'year_of_birth'\u001b[0m\u001b[1;33m,\u001b[0m        \u001b[1;34m'year_of_death'\u001b[0m\u001b[1;33m,\u001b[0m        \u001b[1;34m'adrenal_hormone'\u001b[0m\u001b[1;33m,\u001b[0m \u001b[1;34m'age_at_diagnosis'\u001b[0m\u001b[1;33m,\u001b[0m  \u001b[1;34m'ajcc_clinical_m'\u001b[0m\u001b[1;33m,\u001b[0m      \u001b[1;34m'ajcc_clinical_n'\u001b[0m\u001b[1;33m,\u001b[0m      \u001b[1;34m'ajcc_clinical_stage'\u001b[0m\u001b[1;33m,\u001b[0m  \u001b[1;34m'ajcc_clinical_t'\u001b[0m\u001b[1;33m,\u001b[0m \u001b[1;34m'ajcc_pathologic_m'\u001b[0m\u001b[1;33m,\u001b[0m \u001b[1;34m'ajcc_pathologic_n'\u001b[0m\u001b[1;33m,\u001b[0m    \u001b[1;34m'ajcc_pathologic_stage'\u001b[0m\u001b[1;33m,\u001b[0m        \u001b[1;34m'ajcc_pathologic_t'\u001b[0m\u001b[1;33m,\u001b[0m \u001b[1;34m'ajcc_staging_system_edition'\u001b[0m\u001b[1;33m,\u001b[0m     \u001b[1;34m'anaplasia_present'\u001b[0m\u001b[1;33m,\u001b[0m    \u001b[1;34m'anaplasia_present_type'\u001b[0m\u001b[1;33m,\u001b[0m \u001b[1;34m'ann_arbor_b_symptoms'\u001b[0m\u001b[1;33m,\u001b[0m       \u001b[1;34m'ann_arbor_b_symptoms_described'\u001b[0m\u001b[1;33m,\u001b[0m       \u001b[1;34m'ann_arbor_clinical_stage'\u001b[0m\u001b[1;33m,\u001b[0m \u001b[1;34m'ann_arbor_extranodal_involvement'\u001b[0m\u001b[1;33m,\u001b[0m \u001b[1;34m'ann_arbor_pathologic_stage'\u001b[0m\u001b[1;33m,\u001b[0m   \u001b[1;34m'best_overall_response'\u001b[0m\u001b[1;33m,\u001b[0m \u001b[1;34m'breslow_thickness'\u001b[0m\u001b[1;33m,\u001b[0m   \u001b[1;34m'burkitt_lymphoma_clinical_variant'\u001b[0m\u001b[1;33m,\u001b[0m    \u001b[1;34m'child_pugh_classification'\u001b[0m\u001b[1;33m,\u001b[0m \u001b[1;34m'circumferential_resection_margin'\u001b[0m\u001b[1;33m,\u001b[0m        \u001b[1;34m'classification_of_tumor'\u001b[0m\u001b[1;33m,\u001b[0m      \u001b[1;34m'cog_liver_stage'\u001b[0m\u001b[1;33m,\u001b[0m \u001b[1;34m'cog_neuroblastoma_risk_group'\u001b[0m\u001b[1;33m,\u001b[0m      \u001b[1;34m'cog_renal_stage'\u001b[0m\u001b[1;33m,\u001b[0m      \u001b[1;34m'cog_rhabdomyosarcoma_risk_group'\u001b[0m\u001b[1;33m,\u001b[0m \u001b[1;34m'days_to_best_overall_response'\u001b[0m\u001b[1;33m,\u001b[0m     \u001b[1;34m'days_to_diagnosis'\u001b[0m\u001b[1;33m,\u001b[0m    \u001b[1;34m'days_to_last_follow_up'\u001b[0m\u001b[1;33m,\u001b[0m \u001b[1;34m'days_to_last_known_disease_status'\u001b[0m\u001b[1;33m,\u001b[0m  \u001b[1;34m'days_to_recurrence'\u001b[0m\u001b[1;33m,\u001b[0m   \u001b[1;34m'eln_risk_classification'\u001b[0m\u001b[1;33m,\u001b[0m \u001b[1;34m'enneking_msts_grade'\u001b[0m\u001b[1;33m,\u001b[0m       \u001b[1;34m'enneking_msts_metastasis'\u001b[0m\u001b[1;33m,\u001b[0m     \u001b[1;34m'enneking_msts_stage'\u001b[0m\u001b[1;33m,\u001b[0m \u001b[1;34m'enneking_msts_tumor_site'\u001b[0m\u001b[1;33m,\u001b[0m      \u001b[1;34m'esophageal_columnar_dysplasia_degree'\u001b[0m\u001b[1;33m,\u001b[0m \u001b[1;34m'esophageal_columnar_metaplasia_present'\u001b[0m\u001b[1;33m,\u001b[0m       \u001b[1;34m'figo_stage'\u001b[0m\u001b[1;33m,\u001b[0m   \u001b[1;34m'figo_staging_edition_year'\u001b[0m\u001b[1;33m,\u001b[0m \u001b[1;34m'first_symptom_prior_to_diagnosis'\u001b[0m\u001b[1;33m,\u001b[0m        \u001b[1;34m'gastric_esophageal_junction_involvement'\u001b[0m\u001b[1;33m,\u001b[0m \u001b[1;34m'gleason_grade_group'\u001b[0m\u001b[1;33m,\u001b[0m       \u001b[1;34m'gleason_grade_tertiary'\u001b[0m\u001b[1;33m,\u001b[0m       \u001b[1;34m'gleason_patterns_percent'\u001b[0m\u001b[1;33m,\u001b[0m \u001b[1;34m'goblet_cells_columnar_mucosa_present'\u001b[0m\u001b[1;33m,\u001b[0m     \u001b[1;34m'greatest_tumor_dimension'\u001b[0m\u001b[1;33m,\u001b[0m \u001b[1;34m'gross_tumor_weight'\u001b[0m\u001b[1;33m,\u001b[0m \u001b[1;34m'icd_10_code'\u001b[0m\u001b[1;33m,\u001b[0m        \u001b[1;34m'igcccg_stage'\u001b[0m\u001b[1;33m,\u001b[0m \u001b[1;34m'inpc_grade'\u001b[0m\u001b[1;33m,\u001b[0m   \u001b[1;34m'inpc_histologic_group'\u001b[0m\u001b[1;33m,\u001b[0m        \u001b[1;34m'inrg_stage'\u001b[0m\u001b[1;33m,\u001b[0m   \u001b[1;34m'inss_stage'\u001b[0m\u001b[1;33m,\u001b[0m \u001b[1;34m'international_prognostic_index'\u001b[0m\u001b[1;33m,\u001b[0m \u001b[1;34m'irs_group'\u001b[0m\u001b[1;33m,\u001b[0m    \u001b[1;34m'irs_stage'\u001b[0m\u001b[1;33m,\u001b[0m    \u001b[1;34m'ishak_fibrosis_score'\u001b[0m\u001b[1;33m,\u001b[0m \u001b[1;34m'iss_stage'\u001b[0m\u001b[1;33m,\u001b[0m \u001b[1;34m'largest_extrapelvic_peritoneal_focus'\u001b[0m\u001b[1;33m,\u001b[0m    \u001b[1;34m'last_known_disease_status'\u001b[0m\u001b[1;33m,\u001b[0m    \u001b[1;34m'laterality'\u001b[0m\u001b[1;33m,\u001b[0m \u001b[1;34m'lymph_node_involved_site'\u001b[0m\u001b[1;33m,\u001b[0m       \u001b[1;34m'lymph_nodes_positive'\u001b[0m\u001b[1;33m,\u001b[0m \u001b[1;34m'lymph_nodes_tested'\u001b[0m\u001b[1;33m,\u001b[0m \u001b[1;34m'lymphatic_invasion_present'\u001b[0m\u001b[1;33m,\u001b[0m     \u001b[1;34m'margin_distance'\u001b[0m\u001b[1;33m,\u001b[0m      \u001b[1;34m'margins_involved_site'\u001b[0m\u001b[1;33m,\u001b[0m        \u001b[1;34m'masaoka_stage'\u001b[0m \u001b[1;34m'medulloblastoma_molecular_classification'\u001b[0m\u001b[1;33m,\u001b[0m     \u001b[1;34m'metastasis_at_diagnosis'\u001b[0m\u001b[1;33m,\u001b[0m \u001b[1;34m'metastasis_at_diagnosis_site'\u001b[0m\u001b[1;33m,\u001b[0m      \u001b[1;34m'method_of_diagnosis'\u001b[0m\u001b[1;33m,\u001b[0m  \u001b[1;34m'micropapillary_features'\u001b[0m\u001b[1;33m,\u001b[0m \u001b[1;34m'mitosis_karyorrhexis_index'\u001b[0m\u001b[1;33m,\u001b[0m        \u001b[1;34m'mitotic_count'\u001b[0m\u001b[1;33m,\u001b[0m        \u001b[1;34m'morphology'\u001b[0m\u001b[1;33m,\u001b[0m   \u001b[1;34m'non_nodal_regional_disease'\u001b[0m\u001b[1;33m,\u001b[0m \u001b[1;34m'non_nodal_tumor_deposits'\u001b[0m\u001b[1;33m,\u001b[0m       \u001b[1;34m'ovarian_specimen_status'\u001b[0m\u001b[1;33m,\u001b[0m      \u001b[1;34m'ovarian_surface_involvement'\u001b[0m\u001b[1;33m,\u001b[0m \u001b[1;34m'papillary_renal_cell_type'\u001b[0m\u001b[1;33m,\u001b[0m     \u001b[1;34m'percent_tumor_invasion'\u001b[0m\u001b[1;33m,\u001b[0m       \u001b[1;34m'perineural_invasion_present'\u001b[0m\u001b[1;33m,\u001b[0m \u001b[1;34m'peripancreatic_lymph_nodes_positive'\u001b[0m\u001b[1;33m,\u001b[0m   \u001b[1;34m'peripancreatic_lymph_nodes_tested'\u001b[0m\u001b[1;33m,\u001b[0m \u001b[1;34m'peritoneal_fluid_cytological_status'\u001b[0m\u001b[1;33m,\u001b[0m     \u001b[1;34m'pregnant_at_diagnosis'\u001b[0m\u001b[1;33m,\u001b[0m        \u001b[1;34m'primary_diagnosis'\u001b[0m\u001b[1;33m,\u001b[0m \u001b[1;34m'primary_disease'\u001b[0m\u001b[1;33m,\u001b[0m \u001b[1;34m'primary_gleason_grade'\u001b[0m\u001b[1;33m,\u001b[0m        \u001b[1;34m'prior_malignancy'\u001b[0m\u001b[1;33m,\u001b[0m     \u001b[1;34m'prior_treatment'\u001b[0m\u001b[1;33m,\u001b[0m      \u001b[1;34m'progression_or_recurrence'\u001b[0m\u001b[1;33m,\u001b[0m \u001b[1;34m'residual_disease'\u001b[0m\u001b[1;33m,\u001b[0m        \u001b[1;34m'satellite_nodule_present'\u001b[0m\u001b[1;33m,\u001b[0m     \u001b[1;34m'secondary_gleason_grade'\u001b[0m\u001b[1;33m,\u001b[0m      \u001b[1;34m'site_of_resection_or_biopsy'\u001b[0m\u001b[1;33m,\u001b[0m  \u001b[1;34m'sites_of_involvement'\u001b[0m\u001b[1;33m,\u001b[0m \u001b[1;34m'supratentorial_localization'\u001b[0m\u001b[1;33m,\u001b[0m  \u001b[1;34m'synchronous_malignancy'\u001b[0m\u001b[1;33m,\u001b[0m       \u001b[1;34m'tissue_or_organ_of_origin'\u001b[0m\u001b[1;33m,\u001b[0m \u001b[1;34m'transglottic_extension'\u001b[0m\u001b[1;33m,\u001b[0m  \u001b[1;34m'tumor_confined_to_organ_of_origin'\u001b[0m\u001b[1;33m,\u001b[0m    \u001b[1;34m'tumor_depth'\u001b[0m\u001b[1;33m,\u001b[0m  \u001b[1;34m'tumor_focality'\u001b[0m\u001b[1;33m,\u001b[0m \u001b[1;34m'tumor_grade'\u001b[0m\u001b[1;33m,\u001b[0m        \u001b[1;34m'tumor_largest_dimension_diameter'\u001b[0m\u001b[1;33m,\u001b[0m     \u001b[1;34m'tumor_regression_grade'\u001b[0m\u001b[1;33m,\u001b[0m \u001b[1;34m'tumor_stage'\u001b[0m\u001b[1;33m,\u001b[0m \u001b[1;34m'vascular_invasion_present'\u001b[0m\u001b[1;33m,\u001b[0m   \u001b[1;34m'vascular_invasion_type'\u001b[0m\u001b[1;33m,\u001b[0m       \u001b[1;34m'weiss_assessment_score'\u001b[0m\u001b[1;33m,\u001b[0m \u001b[1;34m'who_cns_grade'\u001b[0m\u001b[1;33m,\u001b[0m \u001b[1;34m'who_nte_grade'\u001b[0m\u001b[1;33m,\u001b[0m     \u001b[1;34m'wilms_tumor_histologic_subtype'\u001b[0m\u001b[1;33m,\u001b[0m       \u001b[1;34m'year_of_diagnosis'\u001b[0m\u001b[1;33m,\u001b[0m \u001b[1;34m'chemo_concurrent_to_radiation'\u001b[0m\u001b[1;33m,\u001b[0m   \u001b[1;34m'days_to_treatment_end'\u001b[0m\u001b[1;33m,\u001b[0m        \u001b[1;34m'days_to_treatment_start'\u001b[0m\u001b[1;33m,\u001b[0m \u001b[1;34m'initial_disease_status'\u001b[0m\u001b[1;33m,\u001b[0m    \u001b[1;34m'number_of_cycles'\u001b[0m\u001b[1;33m,\u001b[0m     \u001b[1;34m'reason_treatment_ended'\u001b[0m\u001b[1;33m,\u001b[0m \u001b[1;34m'regimen_or_line_of_therapy'\u001b[0m\u001b[1;33m,\u001b[0m \u001b[1;34m'route_of_administration'\u001b[0m\u001b[1;33m,\u001b[0m      \u001b[1;34m'therapeutic_agents'\u001b[0m\u001b[1;33m,\u001b[0m \u001b[1;34m'treatment_anatomic_site'\u001b[0m\u001b[1;33m,\u001b[0m        \u001b[1;34m'treatment_arm'\u001b[0m\u001b[1;33m,\u001b[0m        \u001b[1;34m'treatment_dose'\u001b[0m\u001b[1;33m,\u001b[0m       \u001b[1;34m'treatment_dose_units'\u001b[0m\u001b[1;33m,\u001b[0m \u001b[1;34m'treatment_effect'\u001b[0m\u001b[1;33m,\u001b[0m     \u001b[1;34m'treatment_effect_indicator'\u001b[0m\u001b[1;33m,\u001b[0m   \u001b[1;34m'treatment_frequency'\u001b[0m\u001b[1;33m,\u001b[0m \u001b[1;34m'treatment_intent_type'\u001b[0m\u001b[1;33m,\u001b[0m \u001b[1;34m'treatment_or_therapy'\u001b[0m\u001b[1;33m,\u001b[0m \u001b[1;34m'treatment_outcome'\u001b[0m\u001b[1;33m,\u001b[0m    \u001b[1;34m'treatment_type'\u001b[0m\u001b[1;33m,\u001b[0m \u001b[1;34m'?'\u001b[0m\u001b[1;33m]\u001b[0m\u001b[1;33m,\u001b[0m \u001b[0musecols\u001b[0m \u001b[1;33m=\u001b[0m \u001b[1;33m[\u001b[0m\u001b[1;34m'case_submitter_id'\u001b[0m\u001b[1;33m,\u001b[0m \u001b[1;34m'vital_status'\u001b[0m\u001b[1;33m,\u001b[0m \u001b[1;34m'days_to_death'\u001b[0m\u001b[1;33m,\u001b[0m \u001b[1;34m'days_to_last_follow_up'\u001b[0m\u001b[1;33m,\u001b[0m\u001b[1;34m'age_at_diagnosis'\u001b[0m\u001b[1;33m]\u001b[0m\u001b[1;33m,\u001b[0m \u001b[0mskiprows\u001b[0m \u001b[1;33m=\u001b[0m \u001b[1;36m4\u001b[0m\u001b[1;33m)\u001b[0m\u001b[1;33m\u001b[0m\u001b[1;33m\u001b[0m\u001b[0m\n\u001b[0m\u001b[0;32m     32\u001b[0m \u001b[1;33m\u001b[0m\u001b[0m\n\u001b[0;32m     33\u001b[0m \u001b[1;31m#we sort the output in the same order as the input\u001b[0m\u001b[1;33m\u001b[0m\u001b[1;33m\u001b[0m\u001b[0m\n",
      "\u001b[1;32mc:\\Users\\anais\\anaconda3\\lib\\site-packages\\pandas\\util\\_decorators.py\u001b[0m in \u001b[0;36mwrapper\u001b[1;34m(*args, **kwargs)\u001b[0m\n\u001b[0;32m    309\u001b[0m                     \u001b[0mstacklevel\u001b[0m\u001b[1;33m=\u001b[0m\u001b[0mstacklevel\u001b[0m\u001b[1;33m,\u001b[0m\u001b[1;33m\u001b[0m\u001b[1;33m\u001b[0m\u001b[0m\n\u001b[0;32m    310\u001b[0m                 )\n\u001b[1;32m--> 311\u001b[1;33m             \u001b[1;32mreturn\u001b[0m \u001b[0mfunc\u001b[0m\u001b[1;33m(\u001b[0m\u001b[1;33m*\u001b[0m\u001b[0margs\u001b[0m\u001b[1;33m,\u001b[0m \u001b[1;33m**\u001b[0m\u001b[0mkwargs\u001b[0m\u001b[1;33m)\u001b[0m\u001b[1;33m\u001b[0m\u001b[1;33m\u001b[0m\u001b[0m\n\u001b[0m\u001b[0;32m    312\u001b[0m \u001b[1;33m\u001b[0m\u001b[0m\n\u001b[0;32m    313\u001b[0m         \u001b[1;32mreturn\u001b[0m \u001b[0mwrapper\u001b[0m\u001b[1;33m\u001b[0m\u001b[1;33m\u001b[0m\u001b[0m\n",
      "\u001b[1;32mc:\\Users\\anais\\anaconda3\\lib\\site-packages\\pandas\\io\\parsers\\readers.py\u001b[0m in \u001b[0;36mread_csv\u001b[1;34m(filepath_or_buffer, sep, delimiter, header, names, index_col, usecols, squeeze, prefix, mangle_dupe_cols, dtype, engine, converters, true_values, false_values, skipinitialspace, skiprows, skipfooter, nrows, na_values, keep_default_na, na_filter, verbose, skip_blank_lines, parse_dates, infer_datetime_format, keep_date_col, date_parser, dayfirst, cache_dates, iterator, chunksize, compression, thousands, decimal, lineterminator, quotechar, quoting, doublequote, escapechar, comment, encoding, encoding_errors, dialect, error_bad_lines, warn_bad_lines, on_bad_lines, delim_whitespace, low_memory, memory_map, float_precision, storage_options)\u001b[0m\n\u001b[0;32m    584\u001b[0m     \u001b[0mkwds\u001b[0m\u001b[1;33m.\u001b[0m\u001b[0mupdate\u001b[0m\u001b[1;33m(\u001b[0m\u001b[0mkwds_defaults\u001b[0m\u001b[1;33m)\u001b[0m\u001b[1;33m\u001b[0m\u001b[1;33m\u001b[0m\u001b[0m\n\u001b[0;32m    585\u001b[0m \u001b[1;33m\u001b[0m\u001b[0m\n\u001b[1;32m--> 586\u001b[1;33m     \u001b[1;32mreturn\u001b[0m \u001b[0m_read\u001b[0m\u001b[1;33m(\u001b[0m\u001b[0mfilepath_or_buffer\u001b[0m\u001b[1;33m,\u001b[0m \u001b[0mkwds\u001b[0m\u001b[1;33m)\u001b[0m\u001b[1;33m\u001b[0m\u001b[1;33m\u001b[0m\u001b[0m\n\u001b[0m\u001b[0;32m    587\u001b[0m \u001b[1;33m\u001b[0m\u001b[0m\n\u001b[0;32m    588\u001b[0m \u001b[1;33m\u001b[0m\u001b[0m\n",
      "\u001b[1;32mc:\\Users\\anais\\anaconda3\\lib\\site-packages\\pandas\\io\\parsers\\readers.py\u001b[0m in \u001b[0;36m_read\u001b[1;34m(filepath_or_buffer, kwds)\u001b[0m\n\u001b[0;32m    480\u001b[0m \u001b[1;33m\u001b[0m\u001b[0m\n\u001b[0;32m    481\u001b[0m     \u001b[1;31m# Create the parser.\u001b[0m\u001b[1;33m\u001b[0m\u001b[1;33m\u001b[0m\u001b[0m\n\u001b[1;32m--> 482\u001b[1;33m     \u001b[0mparser\u001b[0m \u001b[1;33m=\u001b[0m \u001b[0mTextFileReader\u001b[0m\u001b[1;33m(\u001b[0m\u001b[0mfilepath_or_buffer\u001b[0m\u001b[1;33m,\u001b[0m \u001b[1;33m**\u001b[0m\u001b[0mkwds\u001b[0m\u001b[1;33m)\u001b[0m\u001b[1;33m\u001b[0m\u001b[1;33m\u001b[0m\u001b[0m\n\u001b[0m\u001b[0;32m    483\u001b[0m \u001b[1;33m\u001b[0m\u001b[0m\n\u001b[0;32m    484\u001b[0m     \u001b[1;32mif\u001b[0m \u001b[0mchunksize\u001b[0m \u001b[1;32mor\u001b[0m \u001b[0miterator\u001b[0m\u001b[1;33m:\u001b[0m\u001b[1;33m\u001b[0m\u001b[1;33m\u001b[0m\u001b[0m\n",
      "\u001b[1;32mc:\\Users\\anais\\anaconda3\\lib\\site-packages\\pandas\\io\\parsers\\readers.py\u001b[0m in \u001b[0;36m__init__\u001b[1;34m(self, f, engine, **kwds)\u001b[0m\n\u001b[0;32m    809\u001b[0m             \u001b[0mself\u001b[0m\u001b[1;33m.\u001b[0m\u001b[0moptions\u001b[0m\u001b[1;33m[\u001b[0m\u001b[1;34m\"has_index_names\"\u001b[0m\u001b[1;33m]\u001b[0m \u001b[1;33m=\u001b[0m \u001b[0mkwds\u001b[0m\u001b[1;33m[\u001b[0m\u001b[1;34m\"has_index_names\"\u001b[0m\u001b[1;33m]\u001b[0m\u001b[1;33m\u001b[0m\u001b[1;33m\u001b[0m\u001b[0m\n\u001b[0;32m    810\u001b[0m \u001b[1;33m\u001b[0m\u001b[0m\n\u001b[1;32m--> 811\u001b[1;33m         \u001b[0mself\u001b[0m\u001b[1;33m.\u001b[0m\u001b[0m_engine\u001b[0m \u001b[1;33m=\u001b[0m \u001b[0mself\u001b[0m\u001b[1;33m.\u001b[0m\u001b[0m_make_engine\u001b[0m\u001b[1;33m(\u001b[0m\u001b[0mself\u001b[0m\u001b[1;33m.\u001b[0m\u001b[0mengine\u001b[0m\u001b[1;33m)\u001b[0m\u001b[1;33m\u001b[0m\u001b[1;33m\u001b[0m\u001b[0m\n\u001b[0m\u001b[0;32m    812\u001b[0m \u001b[1;33m\u001b[0m\u001b[0m\n\u001b[0;32m    813\u001b[0m     \u001b[1;32mdef\u001b[0m \u001b[0mclose\u001b[0m\u001b[1;33m(\u001b[0m\u001b[0mself\u001b[0m\u001b[1;33m)\u001b[0m\u001b[1;33m:\u001b[0m\u001b[1;33m\u001b[0m\u001b[1;33m\u001b[0m\u001b[0m\n",
      "\u001b[1;32mc:\\Users\\anais\\anaconda3\\lib\\site-packages\\pandas\\io\\parsers\\readers.py\u001b[0m in \u001b[0;36m_make_engine\u001b[1;34m(self, engine)\u001b[0m\n\u001b[0;32m   1038\u001b[0m             )\n\u001b[0;32m   1039\u001b[0m         \u001b[1;31m# error: Too many arguments for \"ParserBase\"\u001b[0m\u001b[1;33m\u001b[0m\u001b[1;33m\u001b[0m\u001b[0m\n\u001b[1;32m-> 1040\u001b[1;33m         \u001b[1;32mreturn\u001b[0m \u001b[0mmapping\u001b[0m\u001b[1;33m[\u001b[0m\u001b[0mengine\u001b[0m\u001b[1;33m]\u001b[0m\u001b[1;33m(\u001b[0m\u001b[0mself\u001b[0m\u001b[1;33m.\u001b[0m\u001b[0mf\u001b[0m\u001b[1;33m,\u001b[0m \u001b[1;33m**\u001b[0m\u001b[0mself\u001b[0m\u001b[1;33m.\u001b[0m\u001b[0moptions\u001b[0m\u001b[1;33m)\u001b[0m  \u001b[1;31m# type: ignore[call-arg]\u001b[0m\u001b[1;33m\u001b[0m\u001b[1;33m\u001b[0m\u001b[0m\n\u001b[0m\u001b[0;32m   1041\u001b[0m \u001b[1;33m\u001b[0m\u001b[0m\n\u001b[0;32m   1042\u001b[0m     \u001b[1;32mdef\u001b[0m \u001b[0m_failover_to_python\u001b[0m\u001b[1;33m(\u001b[0m\u001b[0mself\u001b[0m\u001b[1;33m)\u001b[0m\u001b[1;33m:\u001b[0m\u001b[1;33m\u001b[0m\u001b[1;33m\u001b[0m\u001b[0m\n",
      "\u001b[1;32mc:\\Users\\anais\\anaconda3\\lib\\site-packages\\pandas\\io\\parsers\\c_parser_wrapper.py\u001b[0m in \u001b[0;36m__init__\u001b[1;34m(self, src, **kwds)\u001b[0m\n\u001b[0;32m     49\u001b[0m \u001b[1;33m\u001b[0m\u001b[0m\n\u001b[0;32m     50\u001b[0m         \u001b[1;31m# open handles\u001b[0m\u001b[1;33m\u001b[0m\u001b[1;33m\u001b[0m\u001b[0m\n\u001b[1;32m---> 51\u001b[1;33m         \u001b[0mself\u001b[0m\u001b[1;33m.\u001b[0m\u001b[0m_open_handles\u001b[0m\u001b[1;33m(\u001b[0m\u001b[0msrc\u001b[0m\u001b[1;33m,\u001b[0m \u001b[0mkwds\u001b[0m\u001b[1;33m)\u001b[0m\u001b[1;33m\u001b[0m\u001b[1;33m\u001b[0m\u001b[0m\n\u001b[0m\u001b[0;32m     52\u001b[0m         \u001b[1;32massert\u001b[0m \u001b[0mself\u001b[0m\u001b[1;33m.\u001b[0m\u001b[0mhandles\u001b[0m \u001b[1;32mis\u001b[0m \u001b[1;32mnot\u001b[0m \u001b[1;32mNone\u001b[0m\u001b[1;33m\u001b[0m\u001b[1;33m\u001b[0m\u001b[0m\n\u001b[0;32m     53\u001b[0m \u001b[1;33m\u001b[0m\u001b[0m\n",
      "\u001b[1;32mc:\\Users\\anais\\anaconda3\\lib\\site-packages\\pandas\\io\\parsers\\base_parser.py\u001b[0m in \u001b[0;36m_open_handles\u001b[1;34m(self, src, kwds)\u001b[0m\n\u001b[0;32m    220\u001b[0m         \u001b[0mLet\u001b[0m \u001b[0mthe\u001b[0m \u001b[0mreaders\u001b[0m \u001b[0mopen\u001b[0m \u001b[0mIOHandles\u001b[0m \u001b[0mafter\u001b[0m \u001b[0mthey\u001b[0m \u001b[0mare\u001b[0m \u001b[0mdone\u001b[0m \u001b[1;32mwith\u001b[0m \u001b[0mtheir\u001b[0m \u001b[0mpotential\u001b[0m \u001b[0mraises\u001b[0m\u001b[1;33m.\u001b[0m\u001b[1;33m\u001b[0m\u001b[1;33m\u001b[0m\u001b[0m\n\u001b[0;32m    221\u001b[0m         \"\"\"\n\u001b[1;32m--> 222\u001b[1;33m         self.handles = get_handle(\n\u001b[0m\u001b[0;32m    223\u001b[0m             \u001b[0msrc\u001b[0m\u001b[1;33m,\u001b[0m\u001b[1;33m\u001b[0m\u001b[1;33m\u001b[0m\u001b[0m\n\u001b[0;32m    224\u001b[0m             \u001b[1;34m\"r\"\u001b[0m\u001b[1;33m,\u001b[0m\u001b[1;33m\u001b[0m\u001b[1;33m\u001b[0m\u001b[0m\n",
      "\u001b[1;32mc:\\Users\\anais\\anaconda3\\lib\\site-packages\\pandas\\io\\common.py\u001b[0m in \u001b[0;36mget_handle\u001b[1;34m(path_or_buf, mode, encoding, compression, memory_map, is_text, errors, storage_options)\u001b[0m\n\u001b[0;32m    700\u001b[0m         \u001b[1;32mif\u001b[0m \u001b[0mioargs\u001b[0m\u001b[1;33m.\u001b[0m\u001b[0mencoding\u001b[0m \u001b[1;32mand\u001b[0m \u001b[1;34m\"b\"\u001b[0m \u001b[1;32mnot\u001b[0m \u001b[1;32min\u001b[0m \u001b[0mioargs\u001b[0m\u001b[1;33m.\u001b[0m\u001b[0mmode\u001b[0m\u001b[1;33m:\u001b[0m\u001b[1;33m\u001b[0m\u001b[1;33m\u001b[0m\u001b[0m\n\u001b[0;32m    701\u001b[0m             \u001b[1;31m# Encoding\u001b[0m\u001b[1;33m\u001b[0m\u001b[1;33m\u001b[0m\u001b[0m\n\u001b[1;32m--> 702\u001b[1;33m             handle = open(\n\u001b[0m\u001b[0;32m    703\u001b[0m                 \u001b[0mhandle\u001b[0m\u001b[1;33m,\u001b[0m\u001b[1;33m\u001b[0m\u001b[1;33m\u001b[0m\u001b[0m\n\u001b[0;32m    704\u001b[0m                 \u001b[0mioargs\u001b[0m\u001b[1;33m.\u001b[0m\u001b[0mmode\u001b[0m\u001b[1;33m,\u001b[0m\u001b[1;33m\u001b[0m\u001b[1;33m\u001b[0m\u001b[0m\n",
      "\u001b[1;31mFileNotFoundError\u001b[0m: [Errno 2] No such file or directory: 'C:\\\\Users\\\\anais\\\\Documents\\\\2-Imperial\\\\0-Research-Project\\\\4-NN\\\\Cox-nnet model\\\\output\\\\clinical.tsv'"
     ]
    }
   ],
   "source": [
    "from Data_extraction import output_df2, x_df2  "
   ]
  },
  {
   "cell_type": "code",
   "execution_count": null,
   "metadata": {},
   "outputs": [],
   "source": [
    "data = pd.concat([x_df2,output_df2],axis=1)\n",
    "x, ytime, yevent, age = load_data(data, dtype)"
   ]
  },
  {
   "cell_type": "code",
   "execution_count": null,
   "metadata": {},
   "outputs": [],
   "source": [
    "x_train, ytime_train, yevent_train, age_train = x[0:107], ytime[0:107], yevent[0:107], age[0:107]\n",
    "x_valid, ytime_valid, yevent_valid, age_valid = x[107:142], ytime[107:142], yevent[107:142], age[107:142]\n",
    "x_test, ytime_test, yevent_test, age_test = x[142:len(ytime)], ytime[142:len(ytime)], yevent[142:len(ytime)], age[142:len(ytime)]"
   ]
  },
  {
   "cell_type": "code",
   "execution_count": null,
   "metadata": {},
   "outputs": [],
   "source": [
    "opt_l2_loss = 0\n",
    "opt_lr_loss = 0\n",
    "opt_loss = torch.Tensor([float(\"Inf\")])\n",
    "opt_c_index_va = 0\n",
    "opt_c_index_tr = 0"
   ]
  },
  {
   "cell_type": "code",
   "execution_count": null,
   "metadata": {},
   "outputs": [
    {
     "name": "stdout",
     "output_type": "stream",
     "text": [
      "Loss in Train:  tensor([nan], grad_fn=<ViewBackward0>)\n",
      "Loss in Train:  tensor([nan], grad_fn=<ViewBackward0>)\n",
      "L2:  0.1 LR:  0.03 Loss in Validation:  tensor([nan], grad_fn=<ViewBackward0>)\n",
      "Loss in Train:  tensor([-inf], grad_fn=<ViewBackward0>)\n",
      "Loss in Train:  tensor([nan], grad_fn=<ViewBackward0>)\n",
      "L2:  0.1 LR:  0.01 Loss in Validation:  tensor([nan], grad_fn=<ViewBackward0>)\n",
      "Loss in Train:  tensor([7.3616], grad_fn=<ViewBackward0>)\n",
      "Loss in Train:  tensor([3.6717], grad_fn=<ViewBackward0>)\n",
      "L2:  0.1 LR:  0.001 Loss in Validation:  tensor([2.6501], grad_fn=<ViewBackward0>)\n",
      "Loss in Train:  tensor([3.7362], grad_fn=<ViewBackward0>)\n",
      "Loss in Train:  tensor([3.6717], grad_fn=<ViewBackward0>)\n",
      "L2:  0.1 LR:  0.00075 Loss in Validation:  tensor([2.6500], grad_fn=<ViewBackward0>)\n",
      "Loss in Train:  tensor([nan], grad_fn=<ViewBackward0>)\n",
      "Loss in Train:  tensor([nan], grad_fn=<ViewBackward0>)\n",
      "L2:  0.01 LR:  0.03 Loss in Validation:  tensor([nan], grad_fn=<ViewBackward0>)\n",
      "Loss in Train:  tensor([-inf], grad_fn=<ViewBackward0>)\n",
      "Loss in Train:  tensor([nan], grad_fn=<ViewBackward0>)\n",
      "L2:  0.01 LR:  0.01 Loss in Validation:  tensor([nan], grad_fn=<ViewBackward0>)\n",
      "Loss in Train:  tensor([5.9638], grad_fn=<ViewBackward0>)\n",
      "Loss in Train:  tensor([3.6619], grad_fn=<ViewBackward0>)\n",
      "L2:  0.01 LR:  0.001 Loss in Validation:  tensor([2.7100], grad_fn=<ViewBackward0>)\n",
      "Loss in Train:  tensor([6.6899], grad_fn=<ViewBackward0>)\n",
      "Loss in Train:  tensor([3.6697], grad_fn=<ViewBackward0>)\n",
      "L2:  0.01 LR:  0.00075 Loss in Validation:  tensor([2.6477], grad_fn=<ViewBackward0>)\n",
      "Loss in Train:  tensor([nan], grad_fn=<ViewBackward0>)\n",
      "Loss in Train:  tensor([nan], grad_fn=<ViewBackward0>)\n",
      "L2:  0.005 LR:  0.03 Loss in Validation:  tensor([nan], grad_fn=<ViewBackward0>)\n",
      "Loss in Train:  tensor([-inf], grad_fn=<ViewBackward0>)\n",
      "Loss in Train:  tensor([nan], grad_fn=<ViewBackward0>)\n",
      "L2:  0.005 LR:  0.01 Loss in Validation:  tensor([nan], grad_fn=<ViewBackward0>)\n",
      "Loss in Train:  tensor([3.8820], grad_fn=<ViewBackward0>)\n",
      "Loss in Train:  tensor([3.6675], grad_fn=<ViewBackward0>)\n",
      "L2:  0.005 LR:  0.001 Loss in Validation:  tensor([2.6642], grad_fn=<ViewBackward0>)\n",
      "Loss in Train:  tensor([4.4137], grad_fn=<ViewBackward0>)\n",
      "Loss in Train:  tensor([3.6695], grad_fn=<ViewBackward0>)\n",
      "L2:  0.005 LR:  0.00075 Loss in Validation:  tensor([2.6735], grad_fn=<ViewBackward0>)\n",
      "Loss in Train:  tensor([-inf], grad_fn=<ViewBackward0>)\n",
      "Loss in Train:  tensor([nan], grad_fn=<ViewBackward0>)\n",
      "L2:  0.001 LR:  0.03 Loss in Validation:  tensor([nan], grad_fn=<ViewBackward0>)\n",
      "Loss in Train:  tensor([-inf], grad_fn=<ViewBackward0>)\n",
      "Loss in Train:  tensor([nan], grad_fn=<ViewBackward0>)\n",
      "L2:  0.001 LR:  0.01 Loss in Validation:  tensor([nan], grad_fn=<ViewBackward0>)\n",
      "Loss in Train:  tensor([4.3360], grad_fn=<ViewBackward0>)\n",
      "Loss in Train:  tensor([3.6546], grad_fn=<ViewBackward0>)\n",
      "L2:  0.001 LR:  0.001 Loss in Validation:  tensor([2.7265], grad_fn=<ViewBackward0>)\n",
      "Loss in Train:  tensor([6.6318], grad_fn=<ViewBackward0>)\n",
      "Loss in Train:  tensor([3.6667], grad_fn=<ViewBackward0>)\n",
      "L2:  0.001 LR:  0.00075 Loss in Validation:  tensor([2.6717], grad_fn=<ViewBackward0>)\n"
     ]
    }
   ],
   "source": [
    "for l2 in L2_Lambda:\n",
    "\tfor lr in Initial_Learning_Rate:\n",
    "\t\tloss_train, loss_valid, c_index_tr, c_index_va = trainCox_nnet(x_train, age_train, ytime_train, yevent_train, \\\n",
    "\t\t\t\t\t\t\t\t\t\t\t\t\t\t\t\tx_valid, age_valid, ytime_valid, yevent_valid, \\\n",
    "\t\t\t\t\t\t\t\t\t\t\t\t\t\t\t\tIn_Nodes, Hidden_Nodes, Out_Nodes, \\\n",
    "\t\t\t\t\t\t\t\t\t\t\t\t\t\t\t\tlr, l2, num_epochs, Dropout_Rate)\n",
    "\t\tif loss_valid < opt_loss:\n",
    "\t\t\topt_l2_loss = l2\n",
    "\t\t\topt_lr_loss = lr\n",
    "\t\t\topt_loss = loss_valid\n",
    "\t\t\topt_c_index_tr = c_index_tr\n",
    "\t\t\topt_c_index_va = c_index_va\n",
    "\t\tprint (\"L2: \", l2, \"LR: \", lr, \"Loss in Validation: \", loss_valid)"
   ]
  },
  {
   "cell_type": "code",
   "execution_count": null,
   "metadata": {},
   "outputs": [
    {
     "name": "stdout",
     "output_type": "stream",
     "text": [
      "Loss in Train:  tensor([5.3471], grad_fn=<ViewBackward0>)\n",
      "Loss in Train:  tensor([3.6703], grad_fn=<ViewBackward0>)\n",
      "Loss in Train:  tensor([3.6623], grad_fn=<ViewBackward0>)\n",
      "Loss in Train:  tensor([3.6717], grad_fn=<ViewBackward0>)\n",
      "Loss in Train:  tensor([3.6717], grad_fn=<ViewBackward0>)\n",
      "Loss in Train:  tensor([3.6630], grad_fn=<ViewBackward0>)\n",
      "Loss in Train:  tensor([3.6620], grad_fn=<ViewBackward0>)\n",
      "Loss in Train:  tensor([3.6652], grad_fn=<ViewBackward0>)\n",
      "Loss in Train:  tensor([3.6741], grad_fn=<ViewBackward0>)\n",
      "Loss in Train:  tensor([3.6657], grad_fn=<ViewBackward0>)\n",
      "Loss in Train:  tensor([3.6655], grad_fn=<ViewBackward0>)\n",
      "Optimal L2:  0.01 Optimal LR:  0.00075\n",
      "C-index in Test:  tensor(0.4857)\n"
     ]
    }
   ],
   "source": [
    "###train Cox-PASNet with optimal hyperparameters using train data, and then evaluate the trained model with test data\n",
    "###Note that test data are only used to evaluate the trained Cox-nnet\n",
    "loss_train, loss_test, c_index_tr, c_index_te = trainCox_nnet(x_train, age_train, ytime_train, yevent_train, \\\n",
    "\t\t\t\t\t\t\tx_test, age_test, ytime_test, yevent_test,  \\\n",
    "\t\t\t\t\t\t\tIn_Nodes, Hidden_Nodes, Out_Nodes, \\\n",
    "\t\t\t\t\t\t\topt_lr_loss, opt_l2_loss, Num_EPOCHS, Dropout_Rate)\n",
    "print (\"Optimal L2: \", opt_l2_loss, \"Optimal LR: \", opt_lr_loss)\n",
    "print(\"C-index in Test: \", c_index_te)\n"
   ]
  },
  {
   "cell_type": "code",
   "execution_count": null,
   "metadata": {},
   "outputs": [
    {
     "name": "stdout",
     "output_type": "stream",
     "text": [
      "(array([], dtype=int64), array([], dtype=int64))\n"
     ]
    }
   ],
   "source": [
    "print(np.where(yevent_train==0))\n",
    "# print(yevent_valid)\n",
    "# print(yevent_test)"
   ]
  },
  {
   "cell_type": "code",
   "execution_count": null,
   "metadata": {},
   "outputs": [
    {
     "name": "stdout",
     "output_type": "stream",
     "text": [
      "0.01 0.00075\n"
     ]
    }
   ],
   "source": [
    "print(opt_l2_loss, opt_lr_loss)"
   ]
  },
  {
   "cell_type": "code",
   "execution_count": null,
   "metadata": {},
   "outputs": [],
   "source": []
  }
 ],
 "metadata": {
  "kernelspec": {
   "display_name": "Python 3.9.7 ('base')",
   "language": "python",
   "name": "python3"
  },
  "language_info": {
   "codemirror_mode": {
    "name": "ipython",
    "version": 3
   },
   "file_extension": ".py",
   "mimetype": "text/x-python",
   "name": "python",
   "nbconvert_exporter": "python",
   "pygments_lexer": "ipython3",
   "version": "3.9.7"
  },
  "orig_nbformat": 4,
  "vscode": {
   "interpreter": {
    "hash": "eb288fa2e0b97d7fe5d36e6cd017a998fc9aeeeb66a354179c06f074395a5c37"
   }
  }
 },
 "nbformat": 4,
 "nbformat_minor": 2
}
