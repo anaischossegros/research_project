{
 "cells": [
  {
   "cell_type": "code",
   "execution_count": 7,
   "metadata": {},
   "outputs": [],
   "source": [
    "from Data_Loader import load_data\n",
    "from Train2 import trainCox_nnet\n",
    "\n",
    "import torch\n",
    "import numpy as np\n",
    "import pandas as pd\n",
    "from torch.utils.data.dataloader import DataLoader"
   ]
  },
  {
   "cell_type": "code",
   "execution_count": 8,
   "metadata": {},
   "outputs": [],
   "source": [
    "dtype = torch.FloatTensor\n",
    "''' Net Settings'''\n",
    "In_Nodes = 55553 ###number of genes\n",
    "Hidden_Nodes = 143 ###number of hidden nodes\n",
    "Out_Nodes = 30 ###number of hidden nodes in the last hidden layer\n",
    "''' Initialize '''\n",
    "Initial_Learning_Rate = [0.03, 0.01, 0.001, 0.00075]\n",
    "L2_Lambda = [0.1, 0.01, 0.005, 0.001]\n",
    "num_epochs = 10 ###for grid search\n",
    "Num_EPOCHS = 50 ###for training\n",
    "###sub-network setup\n",
    "Dropout_Rate = [0.7, 0.5]"
   ]
  },
  {
   "cell_type": "code",
   "execution_count": 9,
   "metadata": {},
   "outputs": [],
   "source": [
    "from Data_extraction_normalised import output_dfnorm, data_norm_df  "
   ]
  },
  {
   "cell_type": "code",
   "execution_count": 4,
   "metadata": {},
   "outputs": [],
   "source": [
    "# print(len(ytime_train))"
   ]
  },
  {
   "cell_type": "code",
   "execution_count": 10,
   "metadata": {},
   "outputs": [
    {
     "name": "stdout",
     "output_type": "stream",
     "text": [
      "[  0   1   3   6   7   8  10  11  14  16  17  18  19  20  21  22  23  24\n",
      "  25  26  28  30  32  33  35  36  37  38  39  45  47  48  50  52  54  55\n",
      "  56  57  58  59  62  66  70  71  73  74  77  78  80  81  83  84  85  88\n",
      "  89  90  93  95  97 100 101 102 103 109 110 111 112 113 115 117 118 120\n",
      " 122 123 125 126 127 128 129 135 136 138 141 143 144 145 146 148 149 150\n",
      " 152 153 154 155 158 160 162 165 166 167 169 170 173 174 175 176]\n",
      "[  2   4   9  12  15  29  34  41  42  44  51  60  61  64  65  69  72  75\n",
      "  76  82  87  91  94  96 104 107 121 124 137 139 140 159 164 168 171]\n",
      "[  5  13  27  31  40  43  46  49  53  63  67  68  79  86  92  98  99 105\n",
      " 106 108 114 116 119 130 131 132 133 134 142 147 151 156 157 161 163 172]\n"
     ]
    }
   ],
   "source": [
    "data = pd.concat([data_norm_df,output_dfnorm],axis=1)\n",
    "\n",
    "def split_indices(n, val_pct1, val_pct2):\n",
    "\tn1 = int(val_pct1*n)\n",
    "\tn2 = int(val_pct2*n)\n",
    "\tidxs = np.random.permutation(n)\n",
    "\ttrain, val, test = idxs[:n1], idxs[n1:n2], idxs[n2:]\n",
    "\ttrain.sort(), val.sort(), test.sort()\n",
    "\treturn(train, val, test)\n",
    "\n",
    "train_index, val_index, test_index = split_indices(len(data),0.6, 0.8)\n",
    "print(train_index)\n",
    "print(val_index)\n",
    "print(test_index)\n",
    "x, ytime, yevent, age = load_data(data, dtype)\n",
    "\n",
    "# data_train = data.iloc[train_index]\n",
    "# data_val = data.iloc[val_index]\n",
    "# data_test = data.iloc[test_index]\n",
    "# x_train, ytime_train, yevent_train, age_train = load_data(data_train, dtype)\n",
    "# x_valid, ytime_valid, yevent_valid, age_valid = load_data(data_val, dtype)\n",
    "# x_test, ytime_test, yevent_test, age_test = load_data(data_test,dtype)"
   ]
  },
  {
   "cell_type": "code",
   "execution_count": 11,
   "metadata": {},
   "outputs": [],
   "source": [
    "from Data_Loader import CustomDataset\n",
    "batch_size=10\n",
    "data2 = CustomDataset(x, ytime, yevent, age)\n",
    "train_loader = DataLoader(data2, batch_size, sampler=train_index)\n",
    "val_loader = DataLoader(data2, batch_size, sampler=val_index)"
   ]
  },
  {
   "cell_type": "code",
   "execution_count": 7,
   "metadata": {},
   "outputs": [],
   "source": [
    "# print(np.shape(torch.cat((x_train, age_train),1)))\n",
    "# for i in train_sampler: \n",
    "#     print(i)\n",
    "# for k in train_sampler: \n",
    "#     print(k)\n",
    "# # print(data_train2['x_train'])\n",
    "# k=0\n",
    "# for batch in train_loader: \n",
    "#     x_train_b, ytime_train_b, yevent_train_b, age_train_b = batch\n",
    "#     print(np.shape(x_train_b))\n",
    "    # x_train, ytime_train, yevent_train, age_train = batch\n",
    "#     print(batch)\n",
    "#  print(len(torch.cat((x_train, ytime_train, yevent_train, age_train),1)))\n",
    "# print(data_train2['vital_status'])\n",
    "# for batch in train_loader: \n",
    "#     print(batch)\n"
   ]
  },
  {
   "cell_type": "code",
   "execution_count": 12,
   "metadata": {},
   "outputs": [],
   "source": [
    "opt_l2_loss = 0\n",
    "opt_lr_loss = 0\n",
    "opt_do_loss = 0\n",
    "opt_loss = torch.Tensor([float(\"Inf\")])\n",
    "###if gpu is being used\n",
    "if torch.cuda.is_available():\n",
    "\topt_loss = opt_loss.cuda()\n",
    "###\n",
    "opt_c_index_va = 0\n",
    "opt_c_index_tr = 0"
   ]
  },
  {
   "cell_type": "code",
   "execution_count": 17,
   "metadata": {},
   "outputs": [
    {
     "name": "stdout",
     "output_type": "stream",
     "text": [
      "Epoch [0], loss: nan, c_index: 0.0000\n",
      "Epoch [1], loss: nan, c_index: 0.0000\n",
      "Epoch [2], loss: nan, c_index: 0.0000\n",
      "Epoch [3], loss: nan, c_index: 0.0000\n",
      "Epoch [4], loss: nan, c_index: 0.0000\n",
      "Epoch [5], loss: nan, c_index: 0.0000\n",
      "Epoch [6], loss: nan, c_index: 0.0000\n",
      "Epoch [7], loss: nan, c_index: 0.0000\n",
      "Epoch [8], loss: nan, c_index: 0.0000\n",
      "Epoch [9], loss: nan, c_index: 0.0000\n",
      "Epoch [10], loss: nan, c_index: 0.0000\n",
      "L2:  0.1 LR:  0.03 Loss in Validation:  tensor([inf])\n",
      "Epoch [0], loss: nan, c_index: 0.0000\n",
      "Epoch [1], loss: nan, c_index: 0.0000\n",
      "Epoch [2], loss: nan, c_index: 0.0000\n",
      "Epoch [3], loss: nan, c_index: 0.0000\n",
      "Epoch [4], loss: nan, c_index: 0.0000\n",
      "Epoch [5], loss: nan, c_index: 0.0000\n",
      "Epoch [6], loss: nan, c_index: 0.0000\n",
      "Epoch [7], loss: nan, c_index: 0.0000\n",
      "Epoch [8], loss: nan, c_index: 0.0000\n",
      "Epoch [9], loss: nan, c_index: 0.0000\n",
      "Epoch [10], loss: nan, c_index: 0.0000\n",
      "L2:  0.1 LR:  0.03 Loss in Validation:  tensor([inf])\n",
      "Epoch [0], loss: nan, c_index: 0.0000\n",
      "Epoch [1], loss: nan, c_index: 0.0000\n",
      "Epoch [2], loss: nan, c_index: 0.0000\n",
      "Epoch [3], loss: nan, c_index: 0.0000\n",
      "Epoch [4], loss: nan, c_index: 0.0000\n",
      "Epoch [5], loss: nan, c_index: 0.0000\n",
      "Epoch [6], loss: nan, c_index: 0.0000\n",
      "Epoch [7], loss: nan, c_index: 0.0000\n",
      "Epoch [8], loss: nan, c_index: 0.0000\n",
      "Epoch [9], loss: nan, c_index: 0.0000\n",
      "Epoch [10], loss: nan, c_index: 0.0000\n",
      "L2:  0.1 LR:  0.01 Loss in Validation:  tensor([inf])\n",
      "Epoch [0], loss: nan, c_index: 0.0000\n",
      "Epoch [1], loss: nan, c_index: 0.0000\n",
      "Epoch [2], loss: nan, c_index: 0.0000\n",
      "Epoch [3], loss: nan, c_index: 0.0000\n",
      "Epoch [4], loss: nan, c_index: 0.0000\n",
      "Epoch [5], loss: nan, c_index: 0.0000\n",
      "Epoch [6], loss: nan, c_index: 0.0000\n",
      "Epoch [7], loss: nan, c_index: 0.0000\n",
      "Epoch [8], loss: nan, c_index: 0.0000\n",
      "Epoch [9], loss: nan, c_index: 0.0000\n",
      "Epoch [10], loss: nan, c_index: 0.0000\n",
      "L2:  0.1 LR:  0.01 Loss in Validation:  tensor([inf])\n",
      "Epoch [0], loss: 2.7818, c_index: 0.3698\n",
      "Epoch [1], loss: 2.1320, c_index: 0.3698\n",
      "Epoch [2], loss: 1.9847, c_index: 0.3877\n",
      "Epoch [3], loss: 1.9500, c_index: 0.3877\n",
      "Epoch [4], loss: 1.9779, c_index: 0.3698\n",
      "Epoch [5], loss: 1.9879, c_index: 0.3698\n",
      "Epoch [6], loss: 1.9869, c_index: 0.3788\n",
      "Epoch [7], loss: 1.9741, c_index: 0.3698\n",
      "Epoch [8], loss: 1.9725, c_index: 0.3698\n",
      "Epoch [9], loss: 1.9523, c_index: 0.3698\n",
      "Epoch [10], loss: 1.9428, c_index: 0.3698\n",
      "L2:  0.1 LR:  0.001 Loss in Validation:  1.601914882659912\n",
      "Epoch [0], loss: 2.1125, c_index: 0.3877\n",
      "Epoch [1], loss: 2.0158, c_index: 0.3698\n",
      "Epoch [2], loss: 1.5873, c_index: 0.3788\n",
      "Epoch [3], loss: 1.4282, c_index: 0.4735\n",
      "Epoch [4], loss: 1.5222, c_index: 0.3986\n",
      "Epoch [5], loss: 1.4569, c_index: 0.3003\n",
      "Epoch [6], loss: 1.5651, c_index: 0.3986\n",
      "Epoch [7], loss: 1.4343, c_index: 0.6056\n",
      "Epoch [8], loss: 1.5930, c_index: 0.3152\n",
      "Epoch [9], loss: 1.4002, c_index: 0.5828\n",
      "Epoch [10], loss: 1.6302, c_index: 0.4005\n",
      "L2:  0.1 LR:  0.001 Loss in Validation:  1.2746410369873047\n",
      "Epoch [0], loss: 1.7510, c_index: 0.3698\n",
      "Epoch [1], loss: 1.3215, c_index: 0.6302\n",
      "Epoch [2], loss: 1.3482, c_index: 0.6193\n",
      "Epoch [3], loss: 1.3890, c_index: 0.6302\n",
      "Epoch [4], loss: 1.4042, c_index: 0.6143\n",
      "Epoch [5], loss: 1.4352, c_index: 0.3486\n",
      "Epoch [6], loss: 1.4571, c_index: 0.3718\n",
      "Epoch [7], loss: 1.4877, c_index: 0.3877\n",
      "Epoch [8], loss: 1.5455, c_index: 0.3788\n",
      "Epoch [9], loss: 1.5334, c_index: 0.3966\n",
      "Epoch [10], loss: 1.5043, c_index: 0.4145\n",
      "L2:  0.1 LR:  0.00075 Loss in Validation:  1.2746410369873047\n",
      "Epoch [0], loss: 2.5239, c_index: 0.3698\n",
      "Epoch [1], loss: 1.3315, c_index: 0.6391\n",
      "Epoch [2], loss: 1.3338, c_index: 0.6123\n",
      "Epoch [3], loss: 1.3810, c_index: 0.6212\n",
      "Epoch [4], loss: 1.4077, c_index: 0.6678\n",
      "Epoch [5], loss: 1.4350, c_index: 0.4550\n",
      "Epoch [6], loss: 1.4339, c_index: 0.4645\n",
      "Epoch [7], loss: 1.4546, c_index: 0.4362\n",
      "Epoch [8], loss: 1.4784, c_index: 0.3807\n",
      "Epoch [9], loss: 1.4790, c_index: 0.3676\n",
      "Epoch [10], loss: 1.4897, c_index: 0.3626\n",
      "L2:  0.1 LR:  0.00075 Loss in Validation:  1.2746410369873047\n",
      "Epoch [0], loss: nan, c_index: 0.0000\n",
      "Epoch [1], loss: nan, c_index: 0.0000\n",
      "Epoch [2], loss: nan, c_index: 0.0000\n",
      "Epoch [3], loss: nan, c_index: 0.0000\n",
      "Epoch [4], loss: nan, c_index: 0.0000\n",
      "Epoch [5], loss: nan, c_index: 0.0000\n",
      "Epoch [6], loss: nan, c_index: 0.0000\n",
      "Epoch [7], loss: nan, c_index: 0.0000\n",
      "Epoch [8], loss: nan, c_index: 0.0000\n",
      "Epoch [9], loss: nan, c_index: 0.0000\n",
      "Epoch [10], loss: nan, c_index: 0.0000\n",
      "L2:  0.01 LR:  0.03 Loss in Validation:  1.2746410369873047\n",
      "Epoch [0], loss: nan, c_index: 0.0000\n",
      "Epoch [1], loss: nan, c_index: 0.0000\n",
      "Epoch [2], loss: nan, c_index: 0.0000\n",
      "Epoch [3], loss: nan, c_index: 0.0000\n",
      "Epoch [4], loss: nan, c_index: 0.0000\n",
      "Epoch [5], loss: nan, c_index: 0.0000\n",
      "Epoch [6], loss: nan, c_index: 0.0000\n",
      "Epoch [7], loss: nan, c_index: 0.0000\n",
      "Epoch [8], loss: nan, c_index: 0.0000\n",
      "Epoch [9], loss: nan, c_index: 0.0000\n",
      "Epoch [10], loss: nan, c_index: 0.0000\n",
      "L2:  0.01 LR:  0.03 Loss in Validation:  1.2746410369873047\n",
      "Epoch [0], loss: nan, c_index: 0.0000\n",
      "Epoch [1], loss: nan, c_index: 0.0000\n",
      "Epoch [2], loss: nan, c_index: 0.0000\n",
      "Epoch [3], loss: nan, c_index: 0.0000\n",
      "Epoch [4], loss: nan, c_index: 0.0000\n",
      "Epoch [5], loss: nan, c_index: 0.0000\n",
      "Epoch [6], loss: nan, c_index: 0.0000\n",
      "Epoch [7], loss: nan, c_index: 0.0000\n",
      "Epoch [8], loss: nan, c_index: 0.0000\n",
      "Epoch [9], loss: nan, c_index: 0.0000\n",
      "Epoch [10], loss: nan, c_index: 0.0000\n",
      "L2:  0.01 LR:  0.01 Loss in Validation:  1.2746410369873047\n",
      "Epoch [0], loss: nan, c_index: 0.0000\n",
      "Epoch [1], loss: nan, c_index: 0.0000\n",
      "Epoch [2], loss: nan, c_index: 0.0000\n",
      "Epoch [3], loss: nan, c_index: 0.0000\n",
      "Epoch [4], loss: nan, c_index: 0.0000\n",
      "Epoch [5], loss: nan, c_index: 0.0000\n",
      "Epoch [6], loss: nan, c_index: 0.0000\n",
      "Epoch [7], loss: nan, c_index: 0.0000\n",
      "Epoch [8], loss: nan, c_index: 0.0000\n",
      "Epoch [9], loss: nan, c_index: 0.0000\n",
      "Epoch [10], loss: nan, c_index: 0.0000\n",
      "L2:  0.01 LR:  0.01 Loss in Validation:  1.2746410369873047\n",
      "Epoch [0], loss: 2.1647, c_index: 0.3698\n",
      "Epoch [1], loss: 1.3423, c_index: 0.6302\n",
      "Epoch [2], loss: 1.3254, c_index: 0.6391\n",
      "Epoch [3], loss: 1.4115, c_index: 0.6410\n",
      "Epoch [4], loss: 1.5152, c_index: 0.3986\n",
      "Epoch [5], loss: 1.5764, c_index: 0.4075\n",
      "Epoch [6], loss: 1.5352, c_index: 0.3788\n",
      "Epoch [7], loss: 1.4971, c_index: 0.3966\n",
      "Epoch [8], loss: 1.4896, c_index: 0.3749\n",
      "Epoch [9], loss: 1.5389, c_index: 0.3857\n",
      "Epoch [10], loss: 1.4612, c_index: 0.4145\n",
      "L2:  0.01 LR:  0.001 Loss in Validation:  1.2746410369873047\n",
      "Epoch [0], loss: 2.4427, c_index: 0.3698\n",
      "Epoch [1], loss: 1.3665, c_index: 0.6193\n",
      "Epoch [2], loss: 1.3193, c_index: 0.6410\n",
      "Epoch [3], loss: 1.3595, c_index: 0.6608\n",
      "Epoch [4], loss: 1.4137, c_index: 0.5995\n",
      "Epoch [5], loss: 1.4217, c_index: 0.4973\n",
      "Epoch [6], loss: 1.4841, c_index: 0.3459\n",
      "Epoch [7], loss: 1.5055, c_index: 0.4688\n",
      "Epoch [8], loss: 1.5693, c_index: 0.4169\n",
      "Epoch [9], loss: 1.8239, c_index: 0.3319\n",
      "Epoch [10], loss: 1.6519, c_index: 0.5568\n",
      "L2:  0.01 LR:  0.001 Loss in Validation:  1.0298173427581787\n",
      "Epoch [0], loss: 1.6848, c_index: 0.3698\n",
      "Epoch [1], loss: 1.4351, c_index: 0.3659\n",
      "Epoch [2], loss: 1.5736, c_index: 0.3698\n",
      "Epoch [3], loss: 1.4991, c_index: 0.3788\n",
      "Epoch [4], loss: 1.5442, c_index: 0.3679\n",
      "Epoch [5], loss: 1.5008, c_index: 0.3698\n",
      "Epoch [6], loss: 1.5240, c_index: 0.3986\n",
      "Epoch [7], loss: 1.4962, c_index: 0.3877\n",
      "Epoch [8], loss: 1.5427, c_index: 0.3877\n",
      "Epoch [9], loss: 1.4667, c_index: 0.4183\n",
      "Epoch [10], loss: 1.5566, c_index: 0.3986\n",
      "L2:  0.01 LR:  0.00075 Loss in Validation:  1.0298173427581787\n",
      "Epoch [0], loss: 1.4312, c_index: 0.6302\n",
      "Epoch [1], loss: 1.3423, c_index: 0.6104\n",
      "Epoch [2], loss: 1.3252, c_index: 0.6480\n",
      "Epoch [3], loss: 1.3322, c_index: 0.6500\n",
      "Epoch [4], loss: 1.3440, c_index: 0.6500\n",
      "Epoch [5], loss: 1.3551, c_index: 0.6193\n",
      "Epoch [6], loss: 1.4190, c_index: 0.5587\n",
      "Epoch [7], loss: 1.4223, c_index: 0.5282\n",
      "Epoch [8], loss: 1.4415, c_index: 0.5886\n",
      "Epoch [9], loss: 1.5683, c_index: 0.3954\n",
      "Epoch [10], loss: 1.5991, c_index: 0.4428\n",
      "L2:  0.01 LR:  0.00075 Loss in Validation:  1.0298173427581787\n",
      "Epoch [0], loss: nan, c_index: 0.0000\n",
      "Epoch [1], loss: nan, c_index: 0.0000\n",
      "Epoch [2], loss: nan, c_index: 0.0000\n",
      "Epoch [3], loss: nan, c_index: 0.0000\n",
      "Epoch [4], loss: nan, c_index: 0.0000\n",
      "Epoch [5], loss: nan, c_index: 0.0000\n",
      "Epoch [6], loss: nan, c_index: 0.0000\n",
      "Epoch [7], loss: nan, c_index: 0.0000\n",
      "Epoch [8], loss: nan, c_index: 0.0000\n",
      "Epoch [9], loss: nan, c_index: 0.0000\n",
      "Epoch [10], loss: nan, c_index: 0.0000\n",
      "L2:  0.005 LR:  0.03 Loss in Validation:  1.0298173427581787\n",
      "Epoch [0], loss: nan, c_index: 0.0000\n",
      "Epoch [1], loss: nan, c_index: 0.0000\n",
      "Epoch [2], loss: nan, c_index: 0.0000\n",
      "Epoch [3], loss: nan, c_index: 0.0000\n",
      "Epoch [4], loss: nan, c_index: 0.0000\n",
      "Epoch [5], loss: nan, c_index: 0.0000\n",
      "Epoch [6], loss: nan, c_index: 0.0000\n",
      "Epoch [7], loss: nan, c_index: 0.0000\n",
      "Epoch [8], loss: nan, c_index: 0.0000\n",
      "Epoch [9], loss: nan, c_index: 0.0000\n",
      "Epoch [10], loss: nan, c_index: 0.0000\n",
      "L2:  0.005 LR:  0.03 Loss in Validation:  1.0298173427581787\n",
      "Epoch [0], loss: nan, c_index: 0.0000\n",
      "Epoch [1], loss: nan, c_index: 0.0000\n",
      "Epoch [2], loss: nan, c_index: 0.0000\n",
      "Epoch [3], loss: nan, c_index: 0.0000\n",
      "Epoch [4], loss: nan, c_index: 0.0000\n",
      "Epoch [5], loss: nan, c_index: 0.0000\n",
      "Epoch [6], loss: nan, c_index: 0.0000\n",
      "Epoch [7], loss: nan, c_index: 0.0000\n",
      "Epoch [8], loss: nan, c_index: 0.0000\n",
      "Epoch [9], loss: nan, c_index: 0.0000\n",
      "Epoch [10], loss: nan, c_index: 0.0000\n",
      "L2:  0.005 LR:  0.01 Loss in Validation:  1.0298173427581787\n",
      "Epoch [0], loss: nan, c_index: 0.0000\n",
      "Epoch [1], loss: nan, c_index: 0.0000\n",
      "Epoch [2], loss: nan, c_index: 0.0000\n",
      "Epoch [3], loss: nan, c_index: 0.0000\n",
      "Epoch [4], loss: nan, c_index: 0.0000\n",
      "Epoch [5], loss: nan, c_index: 0.0000\n",
      "Epoch [6], loss: nan, c_index: 0.0000\n",
      "Epoch [7], loss: nan, c_index: 0.0000\n",
      "Epoch [8], loss: nan, c_index: 0.0000\n",
      "Epoch [9], loss: nan, c_index: 0.0000\n",
      "Epoch [10], loss: nan, c_index: 0.0000\n",
      "L2:  0.005 LR:  0.01 Loss in Validation:  1.0298173427581787\n",
      "Epoch [0], loss: 2.0049, c_index: 0.3698\n",
      "Epoch [1], loss: 1.3299, c_index: 0.6193\n",
      "Epoch [2], loss: 1.6293, c_index: 0.3877\n",
      "Epoch [3], loss: 1.6314, c_index: 0.3698\n",
      "Epoch [4], loss: 1.3989, c_index: 0.6480\n",
      "Epoch [5], loss: 1.7308, c_index: 0.3788\n",
      "Epoch [6], loss: 1.3744, c_index: 0.6104\n",
      "Epoch [7], loss: 1.7331, c_index: 0.3788\n",
      "Epoch [8], loss: 1.3393, c_index: 0.6519\n",
      "Epoch [9], loss: 1.9104, c_index: 0.3966\n",
      "Epoch [10], loss: 1.3640, c_index: 0.6341\n",
      "L2:  0.005 LR:  0.001 Loss in Validation:  1.0298173427581787\n",
      "Epoch [0], loss: 2.2363, c_index: 0.3698\n",
      "Epoch [1], loss: 1.3565, c_index: 0.6302\n",
      "Epoch [2], loss: 1.3209, c_index: 0.6372\n",
      "Epoch [3], loss: 1.3737, c_index: 0.6430\n",
      "Epoch [4], loss: 1.4626, c_index: 0.3954\n",
      "Epoch [5], loss: 1.4523, c_index: 0.4401\n",
      "Epoch [6], loss: 1.5117, c_index: 0.3892\n",
      "Epoch [7], loss: 1.5304, c_index: 0.4013\n",
      "Epoch [8], loss: 1.6813, c_index: 0.3587\n",
      "Epoch [9], loss: 1.5942, c_index: 0.4428\n",
      "Epoch [10], loss: 1.8289, c_index: 0.4014\n",
      "L2:  0.005 LR:  0.001 Loss in Validation:  0.9439211487770081\n",
      "Epoch [0], loss: 1.6104, c_index: 0.3698\n",
      "Epoch [1], loss: 1.3855, c_index: 0.6014\n",
      "Epoch [2], loss: 1.3994, c_index: 0.6143\n",
      "Epoch [3], loss: 1.4476, c_index: 0.4183\n",
      "Epoch [4], loss: 1.4896, c_index: 0.3966\n",
      "Epoch [5], loss: 1.5226, c_index: 0.3788\n",
      "Epoch [6], loss: 1.5231, c_index: 0.3698\n",
      "Epoch [7], loss: 1.5238, c_index: 0.3896\n",
      "Epoch [8], loss: 1.5169, c_index: 0.3788\n",
      "Epoch [9], loss: 1.5040, c_index: 0.4362\n",
      "Epoch [10], loss: 1.5238, c_index: 0.3966\n",
      "L2:  0.005 LR:  0.00075 Loss in Validation:  0.9439211487770081\n",
      "Epoch [0], loss: 1.7169, c_index: 0.3698\n",
      "Epoch [1], loss: 1.3253, c_index: 0.6193\n",
      "Epoch [2], loss: 1.3458, c_index: 0.6193\n",
      "Epoch [3], loss: 1.3758, c_index: 0.6341\n",
      "Epoch [4], loss: 1.3944, c_index: 0.6084\n",
      "Epoch [5], loss: 1.4045, c_index: 0.6073\n",
      "Epoch [6], loss: 1.4084, c_index: 0.5945\n",
      "Epoch [7], loss: 1.4315, c_index: 0.4952\n",
      "Epoch [8], loss: 1.4757, c_index: 0.5270\n",
      "Epoch [9], loss: 1.3705, c_index: 0.6212\n",
      "Epoch [10], loss: 1.5087, c_index: 0.4548\n",
      "L2:  0.005 LR:  0.00075 Loss in Validation:  0.9439211487770081\n",
      "Epoch [0], loss: nan, c_index: 0.0000\n",
      "Epoch [1], loss: nan, c_index: 0.0000\n",
      "Epoch [2], loss: nan, c_index: 0.0000\n",
      "Epoch [3], loss: nan, c_index: 0.0000\n",
      "Epoch [4], loss: nan, c_index: 0.0000\n",
      "Epoch [5], loss: nan, c_index: 0.0000\n",
      "Epoch [6], loss: nan, c_index: 0.0000\n",
      "Epoch [7], loss: nan, c_index: 0.0000\n",
      "Epoch [8], loss: nan, c_index: 0.0000\n",
      "Epoch [9], loss: nan, c_index: 0.0000\n",
      "Epoch [10], loss: nan, c_index: 0.0000\n",
      "L2:  0.001 LR:  0.03 Loss in Validation:  0.9439211487770081\n",
      "Epoch [0], loss: nan, c_index: 0.0000\n",
      "Epoch [1], loss: nan, c_index: 0.0000\n",
      "Epoch [2], loss: nan, c_index: 0.0000\n",
      "Epoch [3], loss: nan, c_index: 0.0000\n",
      "Epoch [4], loss: nan, c_index: 0.0000\n",
      "Epoch [5], loss: nan, c_index: 0.0000\n",
      "Epoch [6], loss: nan, c_index: 0.0000\n",
      "Epoch [7], loss: nan, c_index: 0.0000\n",
      "Epoch [8], loss: nan, c_index: 0.0000\n",
      "Epoch [9], loss: nan, c_index: 0.0000\n",
      "Epoch [10], loss: nan, c_index: 0.0000\n",
      "L2:  0.001 LR:  0.03 Loss in Validation:  0.9439211487770081\n",
      "Epoch [0], loss: nan, c_index: 0.0000\n",
      "Epoch [1], loss: nan, c_index: 0.0000\n",
      "Epoch [2], loss: nan, c_index: 0.0000\n",
      "Epoch [3], loss: nan, c_index: 0.0000\n",
      "Epoch [4], loss: nan, c_index: 0.0000\n",
      "Epoch [5], loss: nan, c_index: 0.0000\n",
      "Epoch [6], loss: nan, c_index: 0.0000\n",
      "Epoch [7], loss: nan, c_index: 0.0000\n",
      "Epoch [8], loss: nan, c_index: 0.0000\n",
      "Epoch [9], loss: nan, c_index: 0.0000\n",
      "Epoch [10], loss: nan, c_index: 0.0000\n",
      "L2:  0.001 LR:  0.01 Loss in Validation:  0.9439211487770081\n",
      "Epoch [0], loss: nan, c_index: 0.0000\n",
      "Epoch [1], loss: nan, c_index: 0.0000\n",
      "Epoch [2], loss: nan, c_index: 0.0000\n",
      "Epoch [3], loss: nan, c_index: 0.0000\n",
      "Epoch [4], loss: nan, c_index: 0.0000\n",
      "Epoch [5], loss: nan, c_index: 0.0000\n",
      "Epoch [6], loss: nan, c_index: 0.0000\n",
      "Epoch [7], loss: nan, c_index: 0.0000\n",
      "Epoch [8], loss: nan, c_index: 0.0000\n",
      "Epoch [9], loss: nan, c_index: 0.0000\n",
      "Epoch [10], loss: nan, c_index: 0.0000\n",
      "L2:  0.001 LR:  0.01 Loss in Validation:  0.9439211487770081\n",
      "Epoch [0], loss: 2.7494, c_index: 0.3698\n",
      "Epoch [1], loss: 2.1207, c_index: 0.3698\n",
      "Epoch [2], loss: 2.0144, c_index: 0.3877\n",
      "Epoch [3], loss: 2.0369, c_index: 0.3698\n",
      "Epoch [4], loss: 2.0789, c_index: 0.3877\n",
      "Epoch [5], loss: 2.1127, c_index: 0.3877\n",
      "Epoch [6], loss: 2.1266, c_index: 0.3877\n",
      "Epoch [7], loss: 2.1316, c_index: 0.3877\n",
      "Epoch [8], loss: 2.0839, c_index: 0.3877\n",
      "Epoch [9], loss: 2.1285, c_index: 0.3877\n",
      "Epoch [10], loss: 1.9691, c_index: 0.3877\n",
      "L2:  0.001 LR:  0.001 Loss in Validation:  0.9439211487770081\n",
      "Epoch [0], loss: 2.1020, c_index: 0.3698\n",
      "Epoch [1], loss: 1.3664, c_index: 0.6123\n",
      "Epoch [2], loss: 1.5402, c_index: 0.3966\n",
      "Epoch [3], loss: 1.5344, c_index: 0.3966\n",
      "Epoch [4], loss: 1.4619, c_index: 0.4471\n",
      "Epoch [5], loss: 1.5140, c_index: 0.4451\n",
      "Epoch [6], loss: 1.5877, c_index: 0.4075\n",
      "Epoch [7], loss: 1.4199, c_index: 0.5785\n",
      "Epoch [8], loss: 2.2465, c_index: 0.3986\n",
      "Epoch [9], loss: 1.7965, c_index: 0.6123\n",
      "Epoch [10], loss: 2.0689, c_index: 0.2962\n",
      "L2:  0.001 LR:  0.001 Loss in Validation:  0.9439211487770081\n",
      "Epoch [0], loss: 2.5058, c_index: 0.3698\n",
      "Epoch [1], loss: 1.3224, c_index: 0.6302\n",
      "Epoch [2], loss: 1.3352, c_index: 0.6302\n",
      "Epoch [3], loss: 1.3664, c_index: 0.6212\n",
      "Epoch [4], loss: 1.4073, c_index: 0.6181\n",
      "Epoch [5], loss: 1.4226, c_index: 0.4030\n",
      "Epoch [6], loss: 1.4281, c_index: 0.4867\n",
      "Epoch [7], loss: 1.4533, c_index: 0.4560\n",
      "Epoch [8], loss: 1.4874, c_index: 0.4075\n",
      "Epoch [9], loss: 1.4438, c_index: 0.4995\n",
      "Epoch [10], loss: 1.4963, c_index: 0.3966\n",
      "L2:  0.001 LR:  0.00075 Loss in Validation:  0.9439211487770081\n",
      "Epoch [0], loss: 1.7282, c_index: 0.3698\n",
      "Epoch [1], loss: 1.4149, c_index: 0.6034\n",
      "Epoch [2], loss: 1.5801, c_index: 0.3877\n",
      "Epoch [3], loss: 1.5186, c_index: 0.3857\n",
      "Epoch [4], loss: 1.5098, c_index: 0.3788\n",
      "Epoch [5], loss: 1.4759, c_index: 0.4292\n",
      "Epoch [6], loss: 1.4767, c_index: 0.4173\n",
      "Epoch [7], loss: 1.6007, c_index: 0.3698\n",
      "Epoch [8], loss: 1.5858, c_index: 0.3191\n",
      "Epoch [9], loss: 1.5207, c_index: 0.4657\n",
      "Epoch [10], loss: 1.6356, c_index: 0.4222\n",
      "L2:  0.001 LR:  0.00075 Loss in Validation:  0.9439211487770081\n"
     ]
    }
   ],
   "source": [
    "for l2 in L2_Lambda:\n",
    "\tfor lr in Initial_Learning_Rate:\n",
    "\t\tfor do in Dropout_Rate:\n",
    "\t\t\thistory_train, history_val = trainCox_nnet(train_loader, \\\n",
    "\t\t\t\tval_loader, \\\n",
    "\t\t\t\tIn_Nodes, Hidden_Nodes, Out_Nodes, \\\n",
    "\t\t\t\tlr, l2, num_epochs, do)\n",
    "\t\t\tloss_train2 = [k['loss'] for k in history_train]\n",
    "\t\t\tif loss_train2[-1] =='nan': \n",
    "\t\t\t\tbreak\n",
    "\t\t\telif loss_train2[-1] < opt_loss:\n",
    "\t\t\t\topt_l2_loss = l2\n",
    "\t\t\t\topt_lr_loss = lr\n",
    "\t\t\t\topt_do_loss = do\n",
    "\t\t\t\topt_loss = loss_train2[-1]\n",
    "\t\t\t\t# opt_c_index_tr = c_index_tr\n",
    "\t\t\t\t# opt_c_index_va = c_index_va\n",
    "\t\t\tprint (\"L2: \", l2, \"LR: \", lr, \"Loss in Validation: \", opt_loss)"
   ]
  },
  {
   "cell_type": "code",
   "execution_count": 13,
   "metadata": {},
   "outputs": [
    {
     "name": "stdout",
     "output_type": "stream",
     "text": [
      "0.005 0.001 0.5\n"
     ]
    }
   ],
   "source": [
    "opt_l2_loss, opt_lr_loss, opt_do_loss = 0.005, 0.001, 0.5\n",
    "print(opt_l2_loss, opt_lr_loss, opt_do_loss)"
   ]
  },
  {
   "cell_type": "code",
   "execution_count": 14,
   "metadata": {},
   "outputs": [
    {
     "name": "stdout",
     "output_type": "stream",
     "text": [
      "Epoch [0], loss: 2.0780, c_index: 0.4899\n",
      "Epoch [1], loss: 1.4049, c_index: 0.4483\n",
      "Epoch [2], loss: 1.3293, c_index: 0.5641\n",
      "Epoch [3], loss: 1.3286, c_index: 0.5434\n",
      "Epoch [4], loss: 1.3438, c_index: 0.4946\n",
      "Epoch [5], loss: 1.4359, c_index: 0.4755\n",
      "Epoch [6], loss: 1.6637, c_index: 0.4874\n",
      "Epoch [7], loss: 2.0321, c_index: 0.5097\n",
      "Epoch [8], loss: 2.4711, c_index: 0.4770\n",
      "Epoch [9], loss: 2.4709, c_index: 0.5083\n",
      "Epoch [10], loss: 2.0269, c_index: 0.4648\n",
      "Epoch [11], loss: 1.5821, c_index: 0.4228\n",
      "Epoch [12], loss: 1.4519, c_index: 0.4956\n",
      "Epoch [13], loss: 1.7643, c_index: 0.5170\n",
      "Epoch [14], loss: 1.8494, c_index: 0.4995\n",
      "Epoch [15], loss: 1.6489, c_index: 0.5173\n",
      "Epoch [16], loss: 1.8394, c_index: 0.4871\n",
      "Epoch [17], loss: 2.4306, c_index: 0.5493\n",
      "Epoch [18], loss: 2.7951, c_index: 0.5151\n",
      "Epoch [19], loss: 1.7031, c_index: 0.4691\n",
      "Epoch [20], loss: 1.6989, c_index: 0.5492\n",
      "Epoch [21], loss: 1.5323, c_index: 0.4917\n",
      "Epoch [22], loss: 1.9478, c_index: 0.3823\n",
      "Epoch [23], loss: 2.1043, c_index: 0.5925\n",
      "Epoch [24], loss: 2.7537, c_index: 0.4618\n",
      "Epoch [25], loss: 1.6373, c_index: 0.4941\n",
      "Epoch [26], loss: 2.7242, c_index: 0.4411\n",
      "Epoch [27], loss: 1.8947, c_index: 0.4864\n",
      "Epoch [28], loss: 2.6670, c_index: 0.4663\n",
      "Epoch [29], loss: 2.3481, c_index: 0.5380\n",
      "Epoch [30], loss: 1.9540, c_index: 0.4135\n",
      "Epoch [31], loss: 1.6167, c_index: 0.5598\n",
      "Epoch [32], loss: 2.1766, c_index: 0.5459\n",
      "Epoch [33], loss: 1.9553, c_index: 0.4412\n",
      "Epoch [34], loss: 2.3299, c_index: 0.3990\n",
      "Epoch [35], loss: 3.8009, c_index: 0.5032\n",
      "Epoch [36], loss: 2.1669, c_index: 0.5292\n",
      "Epoch [37], loss: 2.1806, c_index: 0.5173\n",
      "Epoch [38], loss: 2.2391, c_index: 0.2749\n",
      "Epoch [39], loss: 3.1849, c_index: 0.4767\n",
      "Epoch [40], loss: 3.5119, c_index: 0.4261\n",
      "Epoch [41], loss: 2.7924, c_index: 0.4377\n",
      "Epoch [42], loss: 2.2194, c_index: 0.4537\n",
      "Epoch [43], loss: 2.7715, c_index: 0.4260\n",
      "Epoch [44], loss: 2.2083, c_index: 0.4569\n",
      "Epoch [45], loss: 2.4518, c_index: 0.4398\n",
      "Epoch [46], loss: 2.6961, c_index: 0.4160\n",
      "Epoch [47], loss: 2.5414, c_index: 0.3731\n",
      "Epoch [48], loss: 2.4376, c_index: 0.4826\n",
      "Epoch [49], loss: 2.3040, c_index: 0.4044\n",
      "Epoch [50], loss: 2.6052, c_index: 0.4612\n",
      "Optimal L2:  0.005 Optimal LR:  0.001\n"
     ]
    }
   ],
   "source": [
    "###train Cox-PASNet with optimal hyperparameters using train data, and then evaluate the trained model with test data\n",
    "###Note that test data are only used to evaluate the trained Cox-nnet\n",
    "history_train, history_val = trainCox_nnet(train_loader, \\\n",
    "\t\t\tval_loader, \\\n",
    "\t\t\tIn_Nodes, Hidden_Nodes, Out_Nodes, \\\n",
    "\t\t\topt_lr_loss, opt_l2_loss, Num_EPOCHS, opt_do_loss)\n",
    "print (\"Optimal L2: \", opt_l2_loss, \"Optimal LR: \", opt_lr_loss)\n",
    "# print(\"C-index in Test: \", c_index_te)\n",
    "\n"
   ]
  },
  {
   "cell_type": "code",
   "execution_count": 20,
   "metadata": {},
   "outputs": [],
   "source": [
    "# print(history_train)\n",
    "# print(history_val)"
   ]
  },
  {
   "cell_type": "code",
   "execution_count": 15,
   "metadata": {},
   "outputs": [],
   "source": [
    "loss_train2 = [k['loss'] for k in history_train]\n",
    "loss_val2 = [k['loss'] for k in history_val] \n",
    "c_index_tr2 = [k['c_index'] for k in history_train]\n",
    "c_index_val2 = [k['c_index'] for k in history_val]\n",
    "\n",
    "epoch = np.arange(0,Num_EPOCHS+1)\n"
   ]
  },
  {
   "cell_type": "code",
   "execution_count": 16,
   "metadata": {},
   "outputs": [],
   "source": [
    "# loss_train2 = [k.detach().numpy() for k in loss_train]\n",
    "# loss_test2 = [k.detach().numpy() for k in loss_test]\n",
    "# c_index_tr2 = [k.detach().numpy() for k in c_index_tr]\n",
    "# c_index_te2 = [k.detach().numpy() for k in c_index_te]\n",
    "# epoch = np.arange(0,Num_EPOCHS+2,2)"
   ]
  },
  {
   "cell_type": "code",
   "execution_count": 17,
   "metadata": {},
   "outputs": [
    {
     "name": "stdout",
     "output_type": "stream",
     "text": [
      "[1.8437035083770752, 1.475620150566101, 1.3375219106674194, 1.3538235425949097, 1.3769015073776245, 1.4280104637145996, 1.4787708520889282, 1.5113043785095215, 1.500483751296997, 1.3397579193115234, 1.2428691387176514, 1.190316081047058, 1.280808925628662, 1.0961731672286987, 0.9680767059326172, 0.8865864276885986, 0.9403305649757385, 0.8408138751983643, 0.8322969079017639, 1.3153581619262695, 0.9802183508872986, 0.8473415970802307, 0.7205291390419006, 0.7191141843795776, 0.7780330181121826, 1.0520983934402466, 0.8208772540092468, 0.8074853420257568, 0.8218759894371033, 0.6186901330947876, 0.65234375, 0.6995696425437927, 0.6017599105834961, 0.6242838501930237, 0.6411771774291992, 0.6498752236366272, 1.5774753093719482, 0.896436333656311, 0.7158912420272827, 0.6236613988876343, 0.6146040558815002, 0.5826364159584045, 0.711649477481842, 0.7877984642982483, 0.5862349271774292, 0.5626866817474365, 0.4631791114807129, 0.5355844497680664, 0.6509777307510376, 0.4081716239452362, 0.4624047577381134]\n"
     ]
    }
   ],
   "source": [
    "print(loss_train2)\n",
    "# print(len(yevent_train))"
   ]
  },
  {
   "cell_type": "code",
   "execution_count": 18,
   "metadata": {},
   "outputs": [
    {
     "data": {
      "text/plain": [
       "<matplotlib.legend.Legend at 0x2d5de275eb0>"
      ]
     },
     "execution_count": 18,
     "metadata": {},
     "output_type": "execute_result"
    },
    {
     "data": {
      "image/png": "[encoded data removed]",
      "text/plain": [
       "<Figure size 432x288 with 1 Axes>"
      ]
     },
     "metadata": {
      "needs_background": "light"
     },
     "output_type": "display_data"
    }
   ],
   "source": [
    "import matplotlib.pyplot as plt \n",
    "plt.plot(epoch, loss_train2, label = 'training')\n",
    "plt.plot(epoch, loss_val2, label = 'testing')\n",
    "plt.ylabel('loss = log likelihood')\n",
    "plt.xlabel('epochs')\n",
    "plt.legend()\n",
    "\n"
   ]
  },
  {
   "cell_type": "code",
   "execution_count": 19,
   "metadata": {},
   "outputs": [
    {
     "data": {
      "text/plain": [
       "<matplotlib.legend.Legend at 0x2d5de39d880>"
      ]
     },
     "execution_count": 19,
     "metadata": {},
     "output_type": "execute_result"
    },
    {
     "data": {
      "image/png": "[encoded data removed]",
      "text/plain": [
       "<Figure size 432x288 with 1 Axes>"
      ]
     },
     "metadata": {
      "needs_background": "light"
     },
     "output_type": "display_data"
    }
   ],
   "source": [
    "import matplotlib.pyplot as plt \n",
    "plt.plot(epoch, c_index_tr2, label = 'training')\n",
    "plt.plot(epoch, c_index_val2, label = 'testing')\n",
    "plt.ylabel('accuracy = c_index')\n",
    "plt.xlabel('epochs')\n",
    "plt.legend()\n"
   ]
  },
  {
   "cell_type": "code",
   "execution_count": 18,
   "metadata": {},
   "outputs": [
    {
     "ename": "NameError",
     "evalue": "name 'c_index_te' is not defined",
     "output_type": "error",
     "traceback": [
      "\u001b[1;31m---------------------------------------------------------------------------\u001b[0m",
      "\u001b[1;31mNameError\u001b[0m                                 Traceback (most recent call last)",
      "\u001b[1;32m~\\AppData\\Local\\Temp/ipykernel_12544/1447945293.py\u001b[0m in \u001b[0;36m<module>\u001b[1;34m\u001b[0m\n\u001b[1;32m----> 1\u001b[1;33m \u001b[0mprint\u001b[0m\u001b[1;33m(\u001b[0m\u001b[0mc_index_te\u001b[0m\u001b[1;33m[\u001b[0m\u001b[1;33m-\u001b[0m\u001b[1;36m1\u001b[0m\u001b[1;33m]\u001b[0m\u001b[1;33m)\u001b[0m\u001b[1;33m\u001b[0m\u001b[1;33m\u001b[0m\u001b[0m\n\u001b[0m",
      "\u001b[1;31mNameError\u001b[0m: name 'c_index_te' is not defined"
     ]
    }
   ],
   "source": [
    "print(c_index_te[-1])"
   ]
  },
  {
   "cell_type": "code",
   "execution_count": null,
   "metadata": {},
   "outputs": [],
   "source": [
    "def get_default_device():\n",
    "    \"\"\"Pick GPU if available, else CPU\"\"\"\n",
    "    if torch.cuda.is_available():\n",
    "        return torch.device('cuda')\n",
    "    else:\n",
    "        return torch.device('cpu')\n"
   ]
  },
  {
   "cell_type": "code",
   "execution_count": null,
   "metadata": {},
   "outputs": [
    {
     "data": {
      "text/plain": [
       "device(type='cpu')"
      ]
     },
     "execution_count": 17,
     "metadata": {},
     "output_type": "execute_result"
    }
   ],
   "source": [
    "get_default_device()"
   ]
  },
  {
   "cell_type": "code",
   "execution_count": null,
   "metadata": {},
   "outputs": [],
   "source": [
    "from Survival_CostFunc_CIndex import R_set, neg_par_log_likelihood, c_index\n",
    "from Model2 import Cox_nnet\n",
    "\n",
    "net = Cox_nnet(In_Nodes, Hidden_Nodes, Out_Nodes)\n",
    "net.eval()\n",
    "test_pred = net(x_test, age_test)\n",
    "eval_loss = []\n",
    "eval_cindex=[]\n",
    "eval_loss.append(neg_par_log_likelihood(test_pred, ytime_test, yevent_test).view(1,))\n",
    "eval_cindex.append(c_index(test_pred, ytime_test, yevent_test))"
   ]
  },
  {
   "cell_type": "code",
   "execution_count": null,
   "metadata": {},
   "outputs": [
    {
     "name": "stdout",
     "output_type": "stream",
     "text": [
      "[tensor([7.7761], grad_fn=<ViewBackward0>)] [tensor(0.4251)]\n"
     ]
    }
   ],
   "source": [
    "print(eval_loss, eval_cindex)"
   ]
  },
  {
   "cell_type": "code",
   "execution_count": null,
   "metadata": {},
   "outputs": [
    {
     "data": {
      "text/plain": [
       "36"
      ]
     },
     "execution_count": 18,
     "metadata": {},
     "output_type": "execute_result"
    }
   ],
   "source": [
    "len(x_test)"
   ]
  },
  {
   "cell_type": "code",
   "execution_count": 20,
   "metadata": {},
   "outputs": [
    {
     "name": "stdout",
     "output_type": "stream",
     "text": [
      "                                                      0       1        2      \\\n",
      "filename                                                                       \n",
      "002de81c-60f8-4933-a0ea-43701990ac43.rna_seq.au...  11.3868  0.0000  50.6176   \n",
      "0086025e-db16-446f-83fe-27951b5cfbdb.rna_seq.au...   2.3859  0.0000  23.4719   \n",
      "00bb756b-d7e2-4008-9a96-a706e43649eb.rna_seq.au...  10.1327  0.0000  28.4261   \n",
      "033fbcc1-7984-4946-ba49-cd58bb641b0b.rna_seq.au...   5.4020  0.0000  34.7283   \n",
      "06a1d5c5-ecc0-426b-aba8-d5e0ca289c8f.rna_seq.au...   5.6455  0.0196  23.0461   \n",
      "\n",
      "                                                     3       4       5      \\\n",
      "filename                                                                     \n",
      "002de81c-60f8-4933-a0ea-43701990ac43.rna_seq.au...  1.7910  0.8880  3.9569   \n",
      "0086025e-db16-446f-83fe-27951b5cfbdb.rna_seq.au...  1.8908  0.2524  0.9722   \n",
      "00bb756b-d7e2-4008-9a96-a706e43649eb.rna_seq.au...  2.1367  1.5879  1.9484   \n",
      "033fbcc1-7984-4946-ba49-cd58bb641b0b.rna_seq.au...  3.8947  0.6383  2.0046   \n",
      "06a1d5c5-ecc0-426b-aba8-d5e0ca289c8f.rna_seq.au...  2.4684  0.7786  2.0103   \n",
      "\n",
      "                                                      6        7       8      \\\n",
      "filename                                                                       \n",
      "002de81c-60f8-4933-a0ea-43701990ac43.rna_seq.au...   9.0525  25.4161  9.1767   \n",
      "0086025e-db16-446f-83fe-27951b5cfbdb.rna_seq.au...   0.7313  13.0976  2.9790   \n",
      "00bb756b-d7e2-4008-9a96-a706e43649eb.rna_seq.au...  32.1334  18.0872  2.7894   \n",
      "033fbcc1-7984-4946-ba49-cd58bb641b0b.rna_seq.au...  18.5846  30.4296  4.1955   \n",
      "06a1d5c5-ecc0-426b-aba8-d5e0ca289c8f.rna_seq.au...  15.0918  11.2075  5.8994   \n",
      "\n",
      "                                                      9      ...   60647  \\\n",
      "filename                                                     ...           \n",
      "002de81c-60f8-4933-a0ea-43701990ac43.rna_seq.au...   7.9144  ...  0.2255   \n",
      "0086025e-db16-446f-83fe-27951b5cfbdb.rna_seq.au...   3.2281  ...  4.5527   \n",
      "00bb756b-d7e2-4008-9a96-a706e43649eb.rna_seq.au...   8.4910  ...  0.1179   \n",
      "033fbcc1-7984-4946-ba49-cd58bb641b0b.rna_seq.au...  13.6615  ...  0.1643   \n",
      "06a1d5c5-ecc0-426b-aba8-d5e0ca289c8f.rna_seq.au...   8.4581  ...  0.0584   \n",
      "\n",
      "                                                    60648   60649  60651  \\\n",
      "filename                                                                   \n",
      "002de81c-60f8-4933-a0ea-43701990ac43.rna_seq.au...    0.0  0.0000    0.0   \n",
      "0086025e-db16-446f-83fe-27951b5cfbdb.rna_seq.au...    0.0  0.1884    0.0   \n",
      "00bb756b-d7e2-4008-9a96-a706e43649eb.rna_seq.au...    0.0  0.0000    0.0   \n",
      "033fbcc1-7984-4946-ba49-cd58bb641b0b.rna_seq.au...    0.0  0.0000    0.0   \n",
      "06a1d5c5-ecc0-426b-aba8-d5e0ca289c8f.rna_seq.au...    0.0  0.0000    0.0   \n",
      "\n",
      "                                                     60652  60654   60655  \\\n",
      "filename                                                                    \n",
      "002de81c-60f8-4933-a0ea-43701990ac43.rna_seq.au...  0.0813    0.0  0.0000   \n",
      "0086025e-db16-446f-83fe-27951b5cfbdb.rna_seq.au...  0.0529    0.0  0.0069   \n",
      "00bb756b-d7e2-4008-9a96-a706e43649eb.rna_seq.au...  0.0032    0.0  0.0000   \n",
      "033fbcc1-7984-4946-ba49-cd58bb641b0b.rna_seq.au...  0.1244    0.0  0.0000   \n",
      "06a1d5c5-ecc0-426b-aba8-d5e0ca289c8f.rna_seq.au...  0.0583    0.0  0.0000   \n",
      "\n",
      "                                                     60656   60658   60659  \n",
      "filename                                                                    \n",
      "002de81c-60f8-4933-a0ea-43701990ac43.rna_seq.au...  2.0508  0.0054  0.5515  \n",
      "0086025e-db16-446f-83fe-27951b5cfbdb.rna_seq.au...  4.2001  0.0313  1.7287  \n",
      "00bb756b-d7e2-4008-9a96-a706e43649eb.rna_seq.au...  3.5245  0.0019  0.2191  \n",
      "033fbcc1-7984-4946-ba49-cd58bb641b0b.rna_seq.au...  4.5609  0.0046  0.2374  \n",
      "06a1d5c5-ecc0-426b-aba8-d5e0ca289c8f.rna_seq.au...  3.0117  0.0015  0.2750  \n",
      "\n",
      "[5 rows x 55553 columns]\n"
     ]
    }
   ],
   "source": [
    "print(x_df2.head())"
   ]
  },
  {
   "cell_type": "code",
   "execution_count": null,
   "metadata": {},
   "outputs": [],
   "source": []
  }
 ],
 "metadata": {
  "kernelspec": {
   "display_name": "Python 3.9.7 ('base')",
   "language": "python",
   "name": "python3"
  },
  "language_info": {
   "codemirror_mode": {
    "name": "ipython",
    "version": 3
   },
   "file_extension": ".py",
   "mimetype": "text/x-python",
   "name": "python",
   "nbconvert_exporter": "python",
   "pygments_lexer": "ipython3",
   "version": "3.9.7"
  },
  "orig_nbformat": 4,
  "vscode": {
   "interpreter": {
    "hash": "eb288fa2e0b97d7fe5d36e6cd017a998fc9aeeeb66a354179c06f074395a5c37"
   }
  }
 },
 "nbformat": 4,
 "nbformat_minor": 2
}
